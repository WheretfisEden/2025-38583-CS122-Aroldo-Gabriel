{
  "cells": [
    {
      "cell_type": "markdown",
      "id": "06c205c1",
      "metadata": {
        "id": "06c205c1"
      },
      "source": [
        "# Strings"
      ]
    },
    {
      "cell_type": "markdown",
      "id": "e0d3aa0b",
      "metadata": {
        "id": "e0d3aa0b"
      },
      "source": [
        "### Basics"
      ]
    },
    {
      "cell_type": "code",
      "execution_count": 1,
      "id": "23e42c11",
      "metadata": {
        "colab": {
          "base_uri": "https://localhost:8080/",
          "height": 35
        },
        "id": "23e42c11",
        "outputId": "4ffcc012-a4dd-4e10-d5ea-19d36415eb29"
      },
      "outputs": [
        {
          "output_type": "execute_result",
          "data": {
            "text/plain": [
              "'this is a string that is also a sentence'"
            ],
            "application/vnd.google.colaboratory.intrinsic+json": {
              "type": "string"
            }
          },
          "metadata": {},
          "execution_count": 1
        }
      ],
      "source": [
        "\"this is a string that is also a sentence\""
      ]
    },
    {
      "cell_type": "code",
      "execution_count": 2,
      "id": "261d484e",
      "metadata": {
        "colab": {
          "base_uri": "https://localhost:8080/",
          "height": 35
        },
        "id": "261d484e",
        "outputId": "981610da-329b-43ea-d73d-35d312d2ae80"
      },
      "outputs": [
        {
          "output_type": "execute_result",
          "data": {
            "text/plain": [
              "'this'"
            ],
            "application/vnd.google.colaboratory.intrinsic+json": {
              "type": "string"
            }
          },
          "metadata": {},
          "execution_count": 2
        }
      ],
      "source": [
        "'this'"
      ]
    },
    {
      "cell_type": "code",
      "execution_count": 3,
      "id": "672389e3",
      "metadata": {
        "colab": {
          "base_uri": "https://localhost:8080/",
          "height": 35
        },
        "id": "672389e3",
        "outputId": "60eebad3-29dd-4297-9eb1-59b5ca6e2c21"
      },
      "outputs": [
        {
          "output_type": "execute_result",
          "data": {
            "text/plain": [
              "'t'"
            ],
            "application/vnd.google.colaboratory.intrinsic+json": {
              "type": "string"
            }
          },
          "metadata": {},
          "execution_count": 3
        }
      ],
      "source": [
        "'t'"
      ]
    },
    {
      "cell_type": "code",
      "execution_count": 4,
      "id": "0c983215",
      "metadata": {
        "colab": {
          "base_uri": "https://localhost:8080/",
          "height": 35
        },
        "id": "0c983215",
        "outputId": "c7195ab7-af55-4b9b-b544-8afdf23464dc"
      },
      "outputs": [
        {
          "output_type": "execute_result",
          "data": {
            "text/plain": [
              "'598798234792'"
            ],
            "application/vnd.google.colaboratory.intrinsic+json": {
              "type": "string"
            }
          },
          "metadata": {},
          "execution_count": 4
        }
      ],
      "source": [
        "'598798234792'"
      ]
    },
    {
      "cell_type": "code",
      "execution_count": 5,
      "id": "2f51e8fe",
      "metadata": {
        "colab": {
          "base_uri": "https://localhost:8080/",
          "height": 35
        },
        "id": "2f51e8fe",
        "outputId": "4133ba5f-4925-45aa-fabb-cd3dbd134b71"
      },
      "outputs": [
        {
          "output_type": "execute_result",
          "data": {
            "text/plain": [
              "'this is a string too '"
            ],
            "application/vnd.google.colaboratory.intrinsic+json": {
              "type": "string"
            }
          },
          "metadata": {},
          "execution_count": 5
        }
      ],
      "source": [
        "'this is a string too '"
      ]
    },
    {
      "cell_type": "code",
      "execution_count": 6,
      "id": "6ede7d68",
      "metadata": {
        "colab": {
          "base_uri": "https://localhost:8080/",
          "height": 35
        },
        "id": "6ede7d68",
        "outputId": "586e06ce-8928-4535-d2bf-db3de3b1f5f4"
      },
      "outputs": [
        {
          "output_type": "execute_result",
          "data": {
            "text/plain": [
              "'\\nput \\nthings\\non \\nmultiple \\nlines\\n'"
            ],
            "application/vnd.google.colaboratory.intrinsic+json": {
              "type": "string"
            }
          },
          "metadata": {},
          "execution_count": 6
        }
      ],
      "source": [
        "\"\"\"\n",
        "put\n",
        "things\n",
        "on\n",
        "multiple\n",
        "lines\n",
        "\"\"\""
      ]
    },
    {
      "cell_type": "markdown",
      "id": "4919b581",
      "metadata": {
        "id": "4919b581"
      },
      "source": [
        "### `print`"
      ]
    },
    {
      "cell_type": "code",
      "execution_count": 7,
      "id": "c5dac2b9",
      "metadata": {
        "colab": {
          "base_uri": "https://localhost:8080/",
          "height": 35
        },
        "id": "c5dac2b9",
        "outputId": "9d798e0e-abfc-4115-cf23-4954668aa19c"
      },
      "outputs": [
        {
          "output_type": "execute_result",
          "data": {
            "text/plain": [
              "'string 3'"
            ],
            "application/vnd.google.colaboratory.intrinsic+json": {
              "type": "string"
            }
          },
          "metadata": {},
          "execution_count": 7
        }
      ],
      "source": [
        "'string 1'\n",
        "'string 2'\n",
        "'string 3'"
      ]
    },
    {
      "cell_type": "code",
      "execution_count": 8,
      "id": "2946f0e0",
      "metadata": {
        "colab": {
          "base_uri": "https://localhost:8080/"
        },
        "id": "2946f0e0",
        "outputId": "a8d05145-70b2-440f-db23-f7328aa647c9"
      },
      "outputs": [
        {
          "output_type": "stream",
          "name": "stdout",
          "text": [
            "string 1\n",
            "string 2\n",
            "string 3\n"
          ]
        }
      ],
      "source": [
        "print('string 1')\n",
        "print('string 2')\n",
        "print('string 3')"
      ]
    },
    {
      "cell_type": "markdown",
      "id": "c0198a7e",
      "metadata": {
        "id": "c0198a7e"
      },
      "source": [
        "### Variables"
      ]
    },
    {
      "cell_type": "code",
      "execution_count": 9,
      "id": "ac4b23cf",
      "metadata": {
        "id": "ac4b23cf"
      },
      "outputs": [],
      "source": [
        "word = \"Microphone\""
      ]
    },
    {
      "cell_type": "code",
      "execution_count": 10,
      "id": "d6620c3a",
      "metadata": {
        "id": "d6620c3a"
      },
      "outputs": [],
      "source": [
        "word = \"Camera\""
      ]
    },
    {
      "cell_type": "code",
      "execution_count": 14,
      "id": "6a4bcd48",
      "metadata": {
        "colab": {
          "base_uri": "https://localhost:8080/",
          "height": 35
        },
        "id": "6a4bcd48",
        "outputId": "a0fbf07c-3d6b-4828-9f6b-5f3806d1f483"
      },
      "outputs": [
        {
          "output_type": "execute_result",
          "data": {
            "text/plain": [
              "'Camera'"
            ],
            "application/vnd.google.colaboratory.intrinsic+json": {
              "type": "string"
            }
          },
          "metadata": {},
          "execution_count": 14
        }
      ],
      "source": [
        "word"
      ]
    },
    {
      "cell_type": "code",
      "execution_count": 12,
      "id": "ddeb51eb",
      "metadata": {
        "id": "ddeb51eb"
      },
      "outputs": [],
      "source": [
        "in_snake_case = \"this is another variable\""
      ]
    },
    {
      "cell_type": "code",
      "execution_count": 13,
      "id": "9bfc010e",
      "metadata": {
        "id": "9bfc010e"
      },
      "outputs": [],
      "source": [
        "camelCase = 'Do as the romans do... so don\\'t write camel case'"
      ]
    },
    {
      "cell_type": "markdown",
      "id": "438e30bf",
      "metadata": {
        "id": "438e30bf"
      },
      "source": [
        "### Interpolation"
      ]
    },
    {
      "cell_type": "code",
      "execution_count": 17,
      "id": "1bccb4a6",
      "metadata": {
        "id": "1bccb4a6"
      },
      "outputs": [],
      "source": [
        "word = \"Microphone\""
      ]
    },
    {
      "cell_type": "code",
      "execution_count": 16,
      "id": "cca00969",
      "metadata": {
        "colab": {
          "base_uri": "https://localhost:8080/",
          "height": 35
        },
        "id": "cca00969",
        "outputId": "dd8b7306-729d-4fa9-d5d5-a9735d046558"
      },
      "outputs": [
        {
          "output_type": "execute_result",
          "data": {
            "text/plain": [
              "'My word is: Microphone'"
            ],
            "application/vnd.google.colaboratory.intrinsic+json": {
              "type": "string"
            }
          },
          "metadata": {},
          "execution_count": 16
        }
      ],
      "source": [
        "f\"My word is: {word}\""
      ]
    },
    {
      "cell_type": "code",
      "execution_count": 18,
      "id": "adef6d40",
      "metadata": {
        "id": "adef6d40"
      },
      "outputs": [],
      "source": [
        "my_name = \"Max\""
      ]
    },
    {
      "cell_type": "code",
      "execution_count": 19,
      "id": "e8551755",
      "metadata": {
        "colab": {
          "base_uri": "https://localhost:8080/",
          "height": 35
        },
        "id": "e8551755",
        "outputId": "e6481e86-6941-4c6f-8943-83ca2fb6d7d0"
      },
      "outputs": [
        {
          "output_type": "execute_result",
          "data": {
            "text/plain": [
              "'Hi my name is Max'"
            ],
            "application/vnd.google.colaboratory.intrinsic+json": {
              "type": "string"
            }
          },
          "metadata": {},
          "execution_count": 19
        }
      ],
      "source": [
        "f\"Hi my name is {my_name}\""
      ]
    },
    {
      "cell_type": "code",
      "execution_count": 20,
      "id": "0a1f7ebb",
      "metadata": {
        "colab": {
          "base_uri": "https://localhost:8080/",
          "height": 35
        },
        "id": "0a1f7ebb",
        "outputId": "316aedda-a261-4f2b-b4a5-22da2e2aafe5"
      },
      "outputs": [
        {
          "output_type": "execute_result",
          "data": {
            "text/plain": [
              "'Hi, my name is Max, my favourite colour is ⬛️, and I live in 🇨🇦'"
            ],
            "application/vnd.google.colaboratory.intrinsic+json": {
              "type": "string"
            }
          },
          "metadata": {},
          "execution_count": 20
        }
      ],
      "source": [
        "name = \"Max\"\n",
        "colour = \"⬛️\"\n",
        "country = \"🇨🇦\"\n",
        "\n",
        "f\"Hi, my name is {name}, my favourite colour is {colour}, and I live in {country}\""
      ]
    },
    {
      "cell_type": "markdown",
      "id": "5555b83a",
      "metadata": {
        "id": "5555b83a"
      },
      "source": [
        "### Challenge\n",
        "\n",
        "<div class='alert alert-info'>\n",
        "  🎒\n",
        "  Code a \"story\" about your name, age, and favourite TV show\n",
        "</div>\n",
        "<br/>\n",
        "<details>\n",
        "<summary><u>Solution</u></summary>\n",
        "    \n",
        "```python\n",
        "my_name = \"Maggie\"\n",
        "my_age = \"∞\"\n",
        "my_TV = \"The Afterparty\"\n",
        "print(f\"Hi, I'm {my_name}, I'm {my_age} years-old, and I love \\\"{my_TV}\\\".\")\n",
        "```\n",
        "    \n",
        "> Hi, I'm Maggie, I'm ∞ years-old, and I love \"The Afterparty\".\n",
        "    \n",
        "<div class='alert alert-warning'>\n",
        "  ❌✍️ Just don't do this...\n",
        "</div>\n",
        "   \n",
        "```python\n",
        "myName = \"pleaseDont\"\n",
        "myAge = \"thisIsCalledCamelCase\"\n",
        "myTV = \"python_uses_snake_case_99%_of_the_time\"\n",
        "```\n",
        "    \n",
        "</details>"
      ]
    },
    {
      "cell_type": "code",
      "source": [
        "my_name = \"Aroldo\"\n",
        "my_age = \"7\"\n",
        "my_tv1 = \"The Expanse\"\n",
        "print (f\"Hi my name is {my_name}, I'm {my_age}, and I like the TV show \\\"{my_tv1}\\\".\")"
      ],
      "metadata": {
        "id": "IaDf4Qq45tMV",
        "outputId": "c05a6394-afa2-4990-f480-15c3e47e57c4",
        "colab": {
          "base_uri": "https://localhost:8080/"
        }
      },
      "id": "IaDf4Qq45tMV",
      "execution_count": 26,
      "outputs": [
        {
          "output_type": "stream",
          "name": "stdout",
          "text": [
            "Hi my name is Aroldo, I'm 7, and I like the TV show \"The Expanse\".\n"
          ]
        }
      ]
    },
    {
      "cell_type": "code",
      "execution_count": 21,
      "id": "c930248a",
      "metadata": {
        "colab": {
          "base_uri": "https://localhost:8080/"
        },
        "id": "c930248a",
        "outputId": "1ff679e3-88ff-436a-caf4-2dd5dacee757"
      },
      "outputs": [
        {
          "output_type": "stream",
          "name": "stdout",
          "text": [
            "Hi, I'm Maggie, I'm ∞ years-old, and I love \"The Afterparty\".\n"
          ]
        }
      ],
      "source": [
        "my_name = \"Maggie\"\n",
        "my_age = \"∞\"\n",
        "my_TV = \"The Afterparty\"\n",
        "print(f\"Hi, I'm {my_name}, I'm {my_age} years-old, and I love \\\"{my_TV}\\\".\")"
      ]
    },
    {
      "cell_type": "markdown",
      "id": "99839e84",
      "metadata": {
        "id": "99839e84"
      },
      "source": [
        "### String Methods"
      ]
    },
    {
      "cell_type": "code",
      "execution_count": 27,
      "id": "e9a9c84a",
      "metadata": {
        "colab": {
          "base_uri": "https://localhost:8080/"
        },
        "id": "e9a9c84a",
        "outputId": "62f09ec4-8b63-4c7b-e5f8-ae63a7b1f8e6"
      },
      "outputs": [
        {
          "output_type": "execute_result",
          "data": {
            "text/plain": [
              "str"
            ]
          },
          "metadata": {},
          "execution_count": 27
        }
      ],
      "source": [
        "name\n",
        "type(name)"
      ]
    },
    {
      "cell_type": "code",
      "execution_count": 28,
      "id": "afac2c90",
      "metadata": {
        "colab": {
          "base_uri": "https://localhost:8080/"
        },
        "id": "afac2c90",
        "outputId": "021efabb-c9fd-4ccd-df2f-b8b2c86d4d6d"
      },
      "outputs": [
        {
          "output_type": "execute_result",
          "data": {
            "text/plain": [
              "['__add__',\n",
              " '__class__',\n",
              " '__contains__',\n",
              " '__delattr__',\n",
              " '__dir__',\n",
              " '__doc__',\n",
              " '__eq__',\n",
              " '__format__',\n",
              " '__ge__',\n",
              " '__getattribute__',\n",
              " '__getitem__',\n",
              " '__getnewargs__',\n",
              " '__getstate__',\n",
              " '__gt__',\n",
              " '__hash__',\n",
              " '__init__',\n",
              " '__init_subclass__',\n",
              " '__iter__',\n",
              " '__le__',\n",
              " '__len__',\n",
              " '__lt__',\n",
              " '__mod__',\n",
              " '__mul__',\n",
              " '__ne__',\n",
              " '__new__',\n",
              " '__reduce__',\n",
              " '__reduce_ex__',\n",
              " '__repr__',\n",
              " '__rmod__',\n",
              " '__rmul__',\n",
              " '__setattr__',\n",
              " '__sizeof__',\n",
              " '__str__',\n",
              " '__subclasshook__',\n",
              " 'capitalize',\n",
              " 'casefold',\n",
              " 'center',\n",
              " 'count',\n",
              " 'encode',\n",
              " 'endswith',\n",
              " 'expandtabs',\n",
              " 'find',\n",
              " 'format',\n",
              " 'format_map',\n",
              " 'index',\n",
              " 'isalnum',\n",
              " 'isalpha',\n",
              " 'isascii',\n",
              " 'isdecimal',\n",
              " 'isdigit',\n",
              " 'isidentifier',\n",
              " 'islower',\n",
              " 'isnumeric',\n",
              " 'isprintable',\n",
              " 'isspace',\n",
              " 'istitle',\n",
              " 'isupper',\n",
              " 'join',\n",
              " 'ljust',\n",
              " 'lower',\n",
              " 'lstrip',\n",
              " 'maketrans',\n",
              " 'partition',\n",
              " 'removeprefix',\n",
              " 'removesuffix',\n",
              " 'replace',\n",
              " 'rfind',\n",
              " 'rindex',\n",
              " 'rjust',\n",
              " 'rpartition',\n",
              " 'rsplit',\n",
              " 'rstrip',\n",
              " 'split',\n",
              " 'splitlines',\n",
              " 'startswith',\n",
              " 'strip',\n",
              " 'swapcase',\n",
              " 'title',\n",
              " 'translate',\n",
              " 'upper',\n",
              " 'zfill']"
            ]
          },
          "metadata": {},
          "execution_count": 28
        }
      ],
      "source": [
        "dir(name)"
      ]
    },
    {
      "cell_type": "markdown",
      "id": "1b7d13e9",
      "metadata": {
        "id": "1b7d13e9"
      },
      "source": [
        "<div class='alert alert-success'>\n",
        "  🔬🧵 Don't get overwhelmed, just look at a couple\n",
        "</div>"
      ]
    },
    {
      "cell_type": "markdown",
      "id": "d031efdf",
      "metadata": {
        "id": "d031efdf"
      },
      "source": [
        "- `.upper`\n",
        "- `.lower`\n",
        "- `.strip`\n",
        "- `.endswith`\n",
        "- `.startswith`"
      ]
    },
    {
      "cell_type": "code",
      "execution_count": 29,
      "id": "dec098a5",
      "metadata": {
        "colab": {
          "base_uri": "https://localhost:8080/",
          "height": 35
        },
        "id": "dec098a5",
        "outputId": "fc04bdab-737c-4e20-ef77-7675eee5a0f4"
      },
      "outputs": [
        {
          "output_type": "execute_result",
          "data": {
            "text/plain": [
              "'Max Humber'"
            ],
            "application/vnd.google.colaboratory.intrinsic+json": {
              "type": "string"
            }
          },
          "metadata": {},
          "execution_count": 29
        }
      ],
      "source": [
        "full_name = \"max humber\"\n",
        "full_name.title()"
      ]
    },
    {
      "cell_type": "code",
      "execution_count": 30,
      "id": "1a46de84",
      "metadata": {
        "colab": {
          "base_uri": "https://localhost:8080/",
          "height": 35
        },
        "id": "1a46de84",
        "outputId": "7245547f-df0c-4351-f3e3-addc0a9ba87b"
      },
      "outputs": [
        {
          "output_type": "execute_result",
          "data": {
            "text/plain": [
              "'salkjhk;djhflkawehflksdhflfkjds'"
            ],
            "application/vnd.google.colaboratory.intrinsic+json": {
              "type": "string"
            }
          },
          "metadata": {},
          "execution_count": 30
        }
      ],
      "source": [
        "\"SALKJHK;DJHFLKAWEHFLKSDHFLFKJDS\".lower()"
      ]
    },
    {
      "cell_type": "code",
      "execution_count": 31,
      "id": "c3407dfb",
      "metadata": {
        "colab": {
          "base_uri": "https://localhost:8080/",
          "height": 35
        },
        "id": "c3407dfb",
        "outputId": "a849c3fb-b8c5-4829-e89b-9b6ebe65fa36"
      },
      "outputs": [
        {
          "output_type": "execute_result",
          "data": {
            "text/plain": [
              "\"Lot's of padding.\""
            ],
            "application/vnd.google.colaboratory.intrinsic+json": {
              "type": "string"
            }
          },
          "metadata": {},
          "execution_count": 31
        }
      ],
      "source": [
        "\"       Lot's of padding.       \".strip()"
      ]
    },
    {
      "cell_type": "code",
      "execution_count": 32,
      "id": "8978878e",
      "metadata": {
        "colab": {
          "base_uri": "https://localhost:8080/"
        },
        "id": "8978878e",
        "outputId": "63f8222d-f93c-4eb6-f1a4-86825011cef8"
      },
      "outputs": [
        {
          "output_type": "execute_result",
          "data": {
            "text/plain": [
              "False"
            ]
          },
          "metadata": {},
          "execution_count": 32
        }
      ],
      "source": [
        "\"song_243.mp3\".endswith(\".flac\")"
      ]
    },
    {
      "cell_type": "markdown",
      "id": "5767bd7f",
      "metadata": {
        "id": "5767bd7f"
      },
      "source": [
        "### `in`"
      ]
    },
    {
      "cell_type": "code",
      "execution_count": 33,
      "id": "8e0e836b",
      "metadata": {
        "colab": {
          "base_uri": "https://localhost:8080/"
        },
        "id": "8e0e836b",
        "outputId": "3a5e234b-9432-4feb-e3f3-1e5fd6ce0bd9"
      },
      "outputs": [
        {
          "output_type": "execute_result",
          "data": {
            "text/plain": [
              "True"
            ]
          },
          "metadata": {},
          "execution_count": 33
        }
      ],
      "source": [
        "\"good\" in \"good bye\""
      ]
    },
    {
      "cell_type": "code",
      "execution_count": 41,
      "id": "2b9be66a",
      "metadata": {
        "colab": {
          "base_uri": "https://localhost:8080/"
        },
        "id": "2b9be66a",
        "outputId": "3b7a7fef-f28a-4a1e-d10b-b3ce2930eea2"
      },
      "outputs": [
        {
          "output_type": "execute_result",
          "data": {
            "text/plain": [
              "True"
            ]
          },
          "metadata": {},
          "execution_count": 41
        }
      ],
      "source": [
        "\"Good\".lower() in \"good bye\""
      ]
    },
    {
      "cell_type": "markdown",
      "id": "7fc66329",
      "metadata": {
        "id": "7fc66329"
      },
      "source": [
        "### Homework\n",
        "\n",
        "<div class='alert alert-info'>\n",
        "  🎒 Replace all of the punctuation in the following quotes\n",
        "</div>"
      ]
    },
    {
      "cell_type": "code",
      "execution_count": 42,
      "id": "fba54188",
      "metadata": {
        "id": "fba54188"
      },
      "outputs": [],
      "source": [
        "quote_1 = \"Oh I gotta get on that internet, I'm late on everything!\""
      ]
    },
    {
      "cell_type": "code",
      "execution_count": 82,
      "id": "38f75559",
      "metadata": {
        "id": "38f75559"
      },
      "outputs": [],
      "source": [
        "quote_1 = quote_1.lower().replace(\",\", \";\").replace(\"!\", \"1\").replace(\"'\", \"^\")"
      ]
    },
    {
      "cell_type": "code",
      "execution_count": 44,
      "id": "e1255930",
      "metadata": {
        "id": "e1255930"
      },
      "outputs": [],
      "source": [
        "quote_2 = \"What’s the deal with lampshades? I mean if it’s a lamp, why do you want shade?\""
      ]
    },
    {
      "cell_type": "code",
      "execution_count": 79,
      "id": "346eb19c",
      "metadata": {
        "colab": {
          "base_uri": "https://localhost:8080/",
          "height": 35
        },
        "id": "346eb19c",
        "outputId": "d9ba0215-4926-449a-8cc3-8e83918a9f4a"
      },
      "outputs": [
        {
          "output_type": "execute_result",
          "data": {
            "text/plain": [
              "'what^s the deal with lampshadesp i mean if it^s a lamp; why do you want shadep'"
            ],
            "application/vnd.google.colaboratory.intrinsic+json": {
              "type": "string"
            }
          },
          "metadata": {},
          "execution_count": 79
        }
      ],
      "source": [
        "quote_2.replace(\"?\", \"p\").replace(\"’\", \"^\").replace(\",\", \";\").lower()"
      ]
    }
  ],
  "metadata": {
    "kernelspec": {
      "display_name": "anaconda-2024.02-py310",
      "language": "python",
      "name": "conda-env-anaconda-2024.02-py310-py"
    },
    "language_info": {
      "codemirror_mode": {
        "name": "ipython",
        "version": 3
      },
      "file_extension": ".py",
      "mimetype": "text/x-python",
      "name": "python",
      "nbconvert_exporter": "python",
      "pygments_lexer": "ipython3",
      "version": "3.10.4"
    },
    "colab": {
      "provenance": []
    }
  },
  "nbformat": 4,
  "nbformat_minor": 5
}