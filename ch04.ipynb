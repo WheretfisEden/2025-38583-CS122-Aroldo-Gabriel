{
  "cells": [
    {
      "cell_type": "markdown",
      "metadata": {
        "id": "14ylxoHjda5Y"
      },
      "source": [
        "<img src=\"https://nimbus-screenshots.s3.amazonaws.com/s/85a61d1e5ea3b6f4e340944f58844dd2.png\" width=640>\n",
        "\n",
        "</a>\n",
        "# <p style=\"font-family: Arial; font-size:1.4em;color:red;\"> Chapter 4. Repetition Structures </p>"
      ]
    },
    {
      "cell_type": "markdown",
      "metadata": {
        "id": "XTBRGFQhda5Z"
      },
      "source": [
        "***\n",
        "\n",
        "## <p style=\"background-color: grey; color: white \"> ◼️  While loop </p>\n",
        "# <p style=\"font-family: Arial; font-size:1.4em;color:red;\"> 1. Basic While-loop Structures</p>\n"
      ]
    },
    {
      "cell_type": "markdown",
      "metadata": {
        "id": "eFm4puzkda5Z"
      },
      "source": [
        "#### <p style=\"font-family: Arial; font-size:1.4em; background-color: yellow; color:black;\"> Problem #1.0 </p>\n",
        "\n",
        "#### Run all the cells and figure out the basic usage of while loop structure"
      ]
    },
    {
      "cell_type": "code",
      "execution_count": null,
      "metadata": {
        "id": "1BBB_C7Bda5a",
        "colab": {
          "base_uri": "https://localhost:8080/"
        },
        "outputId": "cbb888d7-76b4-4548-ab01-e07e8ad59161"
      },
      "outputs": [
        {
          "output_type": "stream",
          "name": "stdout",
          "text": [
            "1 2 3 4 5 6 7 8 9 10 "
          ]
        }
      ],
      "source": [
        "i = 0\n",
        "while (i < 10):\n",
        "\ti = i + 1\n",
        "\tprint (i, end= ' ')"
      ]
    },
    {
      "cell_type": "code",
      "execution_count": null,
      "metadata": {
        "id": "ghWyqJr3da5a",
        "colab": {
          "base_uri": "https://localhost:8080/"
        },
        "outputId": "a55a4402-cfe3-4677-fac2-bba73ef8b875"
      },
      "outputs": [
        {
          "output_type": "stream",
          "name": "stdout",
          "text": [
            "0 1 2 3 4 5 6 7 8 9 "
          ]
        }
      ],
      "source": [
        "i = 0\n",
        "while ( i< 10):\n",
        "\tprint (i, end=' ')\n",
        "\ti = i + 1"
      ]
    },
    {
      "cell_type": "code",
      "execution_count": null,
      "metadata": {
        "id": "RqkbKYTKda5a",
        "colab": {
          "base_uri": "https://localhost:8080/"
        },
        "outputId": "cc5a34af-800f-4d50-b536-84f0dc48943a"
      },
      "outputs": [
        {
          "output_type": "stream",
          "name": "stdout",
          "text": [
            "0 2 4 6 8 "
          ]
        }
      ],
      "source": [
        "i = 0\n",
        "while ( i < 10):\n",
        "\tprint (i, end=' ')\n",
        "\ti = i + 2"
      ]
    },
    {
      "cell_type": "code",
      "execution_count": null,
      "metadata": {
        "id": "KC70LFnpda5a",
        "colab": {
          "base_uri": "https://localhost:8080/"
        },
        "outputId": "ed852d55-46b2-4735-f568-8dddac244f30"
      },
      "outputs": [
        {
          "output_type": "stream",
          "name": "stdout",
          "text": [
            "10 9 8 7 6 5 4 3 2 1 "
          ]
        }
      ],
      "source": [
        "i = 10\n",
        "while ( i > 0):\n",
        "\tprint (i, end=' ')\n",
        "\ti = i - 1"
      ]
    },
    {
      "cell_type": "markdown",
      "metadata": {
        "id": "Qzptu5YFda5a"
      },
      "source": [
        "#### <p style=\"font-family: Arial; font-size:1.4em; background-color: yellow; color:black;\"> Problem #1.1 </p>\n",
        "\n",
        "#### Complete the code to print the numbers from 10 to 20 with the step 2 (10, 12, ...20)\n",
        "> Use the while loop"
      ]
    },
    {
      "cell_type": "code",
      "execution_count": null,
      "metadata": {
        "id": "y9Y83EOgda5a",
        "colab": {
          "base_uri": "https://localhost:8080/"
        },
        "outputId": "3711eb6a-eeff-41bb-9596-3a66e2977dec"
      },
      "outputs": [
        {
          "output_type": "stream",
          "name": "stdout",
          "text": [
            "10 12 14 16 18 "
          ]
        }
      ],
      "source": [
        "begin = 10\n",
        "end = 20\n",
        "\n",
        "while (begin < 20):\n",
        "  print (begin, end = ' ')\n",
        "  begin = begin + 2"
      ]
    },
    {
      "cell_type": "markdown",
      "metadata": {
        "id": "xOpUthPpda5a"
      },
      "source": [
        "#### <p style=\"font-family: Arial; font-size:1.4em; background-color: yellow; color:black;\"> Problem #1.2 </p>\n",
        "\n",
        "#### Complete the code to print the numbers from the input value 'begin' to another input 'end'.\n",
        "> Use the while loop  <br>\n",
        "\n",
        "<font color='red'> Note: the input value 'begin' can be greater than 'end'. <br>\n",
        "if begin > end, print all the values from 'begin' to 'end' in decreasing order\n",
        "</font>"
      ]
    },
    {
      "cell_type": "code",
      "execution_count": null,
      "metadata": {
        "id": "JQ762qEdda5a",
        "colab": {
          "base_uri": "https://localhost:8080/"
        },
        "outputId": "67bda318-4023-43b2-c077-0b35ecc86b7d"
      },
      "outputs": [
        {
          "output_type": "stream",
          "name": "stdout",
          "text": [
            "Enter the starting value: 10\n",
            "Enter the end value: 1\n",
            "10 9 8 7 6 5 4 3 2 "
          ]
        }
      ],
      "source": [
        "begin = int(input('Enter the starting value: '))\n",
        "end = int(input('Enter the end value: '))\n",
        "\n",
        "# Complete the code to print from begin to end\n",
        "while begin < end:\n",
        "    print (begin, end = \" \")\n",
        "    begin += 1\n",
        "while begin > end:\n",
        "    print (begin, end = \" \")\n",
        "    begin -= 1\n"
      ]
    },
    {
      "cell_type": "markdown",
      "metadata": {
        "id": "mrihYy3lda5a"
      },
      "source": [
        "#### <p style=\"font-family: Arial; font-size:1.4em; background-color: yellow; color:black;\"> Problem #1.3 </p>\n",
        "\n",
        "#### Complete the code to print the 9 multiplication numbers from the given input value 'num'\n",
        "> For example, if the input \"num\" is 3, this code will print <br>\n",
        "> 3 6 9 12 15 18 21 24 27 <br>\n",
        "> Use the while loop  <br>"
      ]
    },
    {
      "cell_type": "code",
      "execution_count": null,
      "metadata": {
        "id": "Hzk5cpjoda5a",
        "colab": {
          "base_uri": "https://localhost:8080/"
        },
        "outputId": "1ae15064-9f8e-4c98-eb9c-853984a28010"
      },
      "outputs": [
        {
          "output_type": "stream",
          "name": "stdout",
          "text": [
            "Enter a number: 1\n",
            "3 6 9 12 15 18 21 24 27 "
          ]
        }
      ],
      "source": [
        "num = int(input('Enter a number: '))\n",
        "\n",
        "while num <= 9:\n",
        "    print (num*3, end = \" \")\n",
        "    num +=1"
      ]
    },
    {
      "cell_type": "markdown",
      "metadata": {
        "id": "S_EFmNNAda5b"
      },
      "source": [
        "#### <p style=\"font-family: Arial; font-size:1.4em; background-color: yellow; color:black;\"> Problem #1.4 </p>\n",
        "\n",
        "#### Complete the code to print all numbers\n",
        "#### from 'start' to 'end' if 'start' < 'end'\n",
        "#### from 'end' to 'start' if 'end' < 'start'\n",
        "> For example, if start = 3, end = 5, it will print 3 4 5 <br>\n",
        "> if start = 10, end = 7, it will print 7 8 9 10  <br>\n",
        "> Use the <font color='red'> while loop </font> <br>"
      ]
    },
    {
      "cell_type": "code",
      "source": [
        "start = int(input('Enter a number:'))\n",
        "end = int(input('Enter a number: '))\n",
        "\n",
        "while start < end:\n",
        "    print (start, end = \" \")\n",
        "    start +=1\n",
        "while start > end:\n",
        "    print (start, end = \" \")\n",
        "    start -=11"
      ],
      "metadata": {
        "id": "rgSvzi1z3ldr",
        "outputId": "c8cc7866-ab5d-4281-c0dc-8e043c62bace",
        "colab": {
          "base_uri": "https://localhost:8080/"
        }
      },
      "execution_count": null,
      "outputs": [
        {
          "output_type": "stream",
          "name": "stdout",
          "text": [
            "Enter a number:10\n",
            "Enter a number: 7\n",
            "10 9 8 "
          ]
        }
      ]
    },
    {
      "cell_type": "markdown",
      "metadata": {
        "id": "QDJOmGJpda5b"
      },
      "source": [
        "#### <p style=\"font-family: Arial; font-size:1.4em; background-color: yellow; color:black;\"> Problem #1.5 </p>\n",
        "\n",
        "#### Complete the code to print all numbers\n",
        "#### from 'start' to 'end' if 'start' < 'end'\n",
        "#### from 'end' to 'start' if 'end' < 'start'\n",
        "> For example, if start = 3, end = 5, it will print 3 4 5 <br>\n",
        "> if start = 10, end = 7, it will print 7 8 9 10  <br>\n",
        "> Use the <font color='red'> while loop </font> <br>"
      ]
    },
    {
      "cell_type": "code",
      "execution_count": null,
      "metadata": {
        "id": "d9ohlD89da5b",
        "colab": {
          "base_uri": "https://localhost:8080/"
        },
        "outputId": "c5d1afec-19fb-4790-cb4f-b347631deefb"
      },
      "outputs": [
        {
          "output_type": "stream",
          "name": "stdout",
          "text": [
            "Enter a number: 5\n",
            "Enter a number: 10\n",
            "5 6 7 8 9 "
          ]
        }
      ],
      "source": [
        "start = int(input('Enter a number: '))\n",
        "end = int(input('Enter a number: '))\n",
        "\n",
        "while start < end:\n",
        "  print (start, end = \" \")\n",
        "  start += 1\n",
        "while start > end:\n",
        "  print (start, end = \" \")\n",
        "  start -= 1"
      ]
    },
    {
      "cell_type": "markdown",
      "metadata": {
        "id": "UZld3oBPda5b"
      },
      "source": [
        "#### <p style=\"font-family: Arial; font-size:1.4em; background-color: yellow; color:black;\"> Problem #1.6 </p>\n",
        "\n",
        "#### Complete the code to get the summation of 1 to the input 'num'\n",
        "> For example, if num = 5, it will print 15 because 1+2+3+4+5=15 <br>\n",
        "> if num = 10, it will print 55 because 1+2+3+4+5+6+7+8+9+10<br>\n",
        "> Use the <font color='red'> while loop </font> <br>"
      ]
    },
    {
      "cell_type": "code",
      "execution_count": null,
      "metadata": {
        "id": "XKalHqhyda5b",
        "colab": {
          "base_uri": "https://localhost:8080/"
        },
        "outputId": "b091e24c-af07-439d-fab9-1d3b59494c50"
      },
      "outputs": [
        {
          "output_type": "stream",
          "name": "stdout",
          "text": [
            "Enter a number: 4\n",
            "The total from 1 to 4 is 10\n"
          ]
        }
      ],
      "source": [
        "num = int(input('Enter a number: '))\n",
        "val = 1\n",
        "total = 0\n",
        "while val <= num:\n",
        "    total += val\n",
        "    val += 1\n",
        "print (f'The total from 1 to {num} is {total}')\n"
      ]
    },
    {
      "cell_type": "markdown",
      "metadata": {
        "id": "gyAeeUBnda5b"
      },
      "source": [
        "#### <p style=\"font-family: Arial; font-size:1.4em; background-color: yellow; color:black;\"> Problem #1.7 </p>\n",
        "\n",
        "#### Complete the code to get the summation between 'start'(inclusive) and 'end'(inclusive)\n",
        "#### Assume that 'start' < 'end'  \n",
        "> For example, if 'start' = 5, 'end' = 10, it will print 45 because 5+6+7+8+9+10=15 <br>\n",
        "> if 'start' = 10, 'end'= 20,  it will print 165 because 10+11+12+13+14+15+16+17+18+19+20 = 165 <br>\n",
        "> Use the <font color='red'> while loop </font> <br>"
      ]
    },
    {
      "cell_type": "code",
      "execution_count": null,
      "metadata": {
        "id": "YaCCMhcpda5b",
        "outputId": "444844a4-d9d5-456a-bd29-2eef4ccf9d67",
        "colab": {
          "base_uri": "https://localhost:8080/"
        }
      },
      "outputs": [
        {
          "output_type": "stream",
          "name": "stdout",
          "text": [
            "Enter a number: 5\n",
            "Enter a number: 10\n",
            "The total from 5 to 10 is 45\n"
          ]
        }
      ],
      "source": [
        "start = int(input('Enter a number: '))\n",
        "end = int(input('Enter a number: '))\n",
        "val = start\n",
        "total = 0\n",
        "while val <= end:\n",
        "    total += val\n",
        "    val +=1\n",
        "print (f'The total from {start} to {end} is {total}')\n",
        "\n",
        "\n",
        "# complete the code"
      ]
    },
    {
      "cell_type": "markdown",
      "metadata": {
        "id": "u0bzhndrda5b"
      },
      "source": [
        "#### <p style=\"font-family: Arial; font-size:1.4em; background-color: yellow; color:black;\"> Problem #1.8 </p>\n",
        "\n",
        "#### Complete the code to print all multiplication numbers of 3 between input 'start' and 'end'(inclusive)\n",
        "#### Assume that 'start' < 'end'  \n",
        "> For example, if start = 2, end = 10, it will print 3 6 9 <br>\n",
        "> if start = 12, end = 21, it will print 12 15 18 21  <br>\n",
        "> Use the <font color='red'> while loop </font> <br>"
      ]
    },
    {
      "cell_type": "code",
      "execution_count": null,
      "metadata": {
        "id": "CEMTZ129da5b",
        "outputId": "5eec291b-28d0-410c-b136-ca2619af0300",
        "colab": {
          "base_uri": "https://localhost:8080/"
        }
      },
      "outputs": [
        {
          "output_type": "stream",
          "name": "stdout",
          "text": [
            "Enter a number: 2\n",
            "Enter a number: 10\n",
            "3\n",
            "6\n",
            "9\n"
          ]
        }
      ],
      "source": [
        "start = int(input('Enter a number: '))\n",
        "end = int(input('Enter a number: '))\n",
        "\n",
        "i = start // 3\n",
        "i += 1 if start % 3 else 0\n",
        "while i*3 <= end:\n",
        "    print (i*3)\n",
        "    i += 1"
      ]
    },
    {
      "cell_type": "markdown",
      "metadata": {
        "id": "z_nY99rBda5b"
      },
      "source": [
        "#### <p style=\"font-family: Arial; font-size:1.4em; background-color: yellow; color:black;\"> Problem #1.9 </p>\n",
        "\n",
        "#### Complete the code to print all multiplication numbers of 'seed' between input 'start' and 'end'(inclusive)\n",
        "#### Assume that 'seed' is greater than 1\n",
        "#### Assume that 'start' < 'end'. Same as 1.8 except the 'seed'\n",
        "> For example, if start = 2, end = 10, seed=3, it will print 3 6 9 <br>\n",
        "> if start = 12, end = 31, seed = 6, it will print 12 18 24  <br>\n",
        "> Use the <font color='red'> while loop </font> <br>"
      ]
    },
    {
      "cell_type": "code",
      "execution_count": null,
      "metadata": {
        "id": "KD_B-osgda5b",
        "colab": {
          "base_uri": "https://localhost:8080/"
        },
        "outputId": "a72a76f1-2058-43b6-b71f-2a17eeff1bbe"
      },
      "outputs": [
        {
          "output_type": "stream",
          "name": "stdout",
          "text": [
            "Enter the seed number for multiplication: 2\n",
            "Enter a number: 12\n",
            "Enter a number: 31\n",
            "12\n",
            "15\n",
            "18\n",
            "21\n",
            "24\n",
            "27\n",
            "30\n"
          ]
        }
      ],
      "source": [
        "seed = int(input('Enter the seed number for multiplication: '))\n",
        "start = int(input('Enter a number: '))\n",
        "end = int(input('Enter a number: '))\n",
        "\n",
        "seed = start // 3\n",
        "seed += 1 if start %3 else 0\n",
        "while seed*3 <= end:\n",
        "    print (seed*3)\n",
        "    seed += 1"
      ]
    },
    {
      "cell_type": "markdown",
      "metadata": {
        "id": "knPzbILqda5b"
      },
      "source": [
        "#### <p style=\"font-family: Arial; font-size:1.4em; background-color: yellow; color:black;\"> Problem #1.10 </p>\n",
        "\n",
        "#### Complete the code to repeat the input number until the inputted number is greater than 100\n",
        "#### if the input number is greater than 100, stop the while loop\n",
        "#### Otherwise, print the <font color='red'> number </font>\n",
        "> For example, if the series of input is 5 10 15 20 150, <br>\n",
        "> print a input number at each iteration in the while loop, except the 150 <br>\n",
        "> 5 <br> 10 <br> 15<br> 20<br>  \n",
        "> Use the <font color='red'> while loop </font> <br>"
      ]
    },
    {
      "cell_type": "code",
      "execution_count": null,
      "metadata": {
        "id": "C3njDHrvda5b",
        "colab": {
          "base_uri": "https://localhost:8080/"
        },
        "outputId": "248c331a-81c6-4eb6-be92-c15ac45b5c0f"
      },
      "outputs": [
        {
          "name": "stdout",
          "output_type": "stream",
          "text": [
            "Enter a number: 1\n",
            "1\n",
            "Enter a number: 50\n",
            "50\n",
            "Enter a number: 100\n",
            "100\n",
            "Enter a number: 99\n",
            "99\n",
            "Enter a number: 101\n"
          ]
        }
      ],
      "source": [
        "total = 0\n",
        "number = int(input('Enter a number: '))\n",
        "\n",
        "while number <= 100:\n",
        "    print (number)\n",
        "    number = int(input('Enter a number: '))\n"
      ]
    },
    {
      "cell_type": "markdown",
      "metadata": {
        "id": "jkIUGg3mda5b"
      },
      "source": [
        "#### <p style=\"font-family: Arial; font-size:1.4em; background-color: yellow; color:black;\"> Problem #1.11 </p>\n",
        "\n",
        "#### Complete the code to repeat the input of a number until the sum of all input numbers is greater than 100.\n",
        "#### if the sum of all input numbers is greater than 100, stop the while loop\n",
        "#### Otherwise, add the input number to the variable \"<font color='red'> total </font>\"\n",
        "> For example, if the series of input is 5 10 15 20 150, <br>\n",
        "> the total must be 5 + 10 + 15 + 20 + 150 = 200, and stop the while loop   <br>\n",
        "> After the while loop, print the 'total'\n",
        "> Use the <font color='red'> while loop </font> <br>"
      ]
    },
    {
      "cell_type": "code",
      "execution_count": null,
      "metadata": {
        "id": "uNBlBsWdda5c",
        "colab": {
          "base_uri": "https://localhost:8080/"
        },
        "outputId": "2285b707-0732-4cd2-a4cf-fa6ae7aa1150"
      },
      "outputs": [
        {
          "output_type": "stream",
          "name": "stdout",
          "text": [
            "Enter a number 5\n",
            "Enter a number 10\n",
            "Enter a number 15\n",
            "Enter a number 20\n",
            "Enter a number 150\n",
            "Enter a number 10\n",
            "The total of input numbers are 200\n"
          ]
        }
      ],
      "source": [
        "number = int(input('Enter a number '))\n",
        "total = 0\n",
        "while total <= 100:\n",
        "  if total >=100:\n",
        "    break\n",
        "  total += number\n",
        "  number = int(input('Enter a number '))\n",
        "print (f'The total of input numbers are {total}')"
      ]
    },
    {
      "cell_type": "markdown",
      "metadata": {
        "id": "5rQUD0Olda5c"
      },
      "source": [
        "#### <p style=\"font-family: Arial; font-size:1.4em; background-color: yellow; color:black;\"> Problem #1.12</p>\n",
        "\n",
        "#### Complete the code to print all alphabets between input letters 'start' and 'end'\n",
        "#### 'start' and 'end' letters are inclusive\n",
        "#### Assumption. 'start' and 'end' is lower case letters. All inputs are lower case.\n",
        "> For example, if 'start' is 'a' and 'end' is 'f'  <br>\n",
        "> print 'a', 'b', 'c', 'd', 'e', 'f' <br>\n",
        "> Use the <font color='red'> while loop </font> <br>\n",
        "\n",
        "#### Refer to the following example code to practice the ord() and chr() funtions"
      ]
    },
    {
      "cell_type": "code",
      "execution_count": null,
      "metadata": {
        "id": "RjSzylcdda5c",
        "outputId": "ab2118c0-267f-4e09-bd1b-602a52b6e962"
      },
      "outputs": [
        {
          "name": "stdout",
          "output_type": "stream",
          "text": [
            "97\n",
            "98\n"
          ]
        }
      ],
      "source": [
        "start = 'a'\n",
        "print (ord(start))  # it will print 97, which is ASCII code for the letter 'a'\n",
        "\n",
        "next = ord(start) + 1\n",
        "print (next)  # it will print 97, which is ASCII code for the letter 'b'"
      ]
    },
    {
      "cell_type": "code",
      "execution_count": null,
      "metadata": {
        "id": "CjxSPnAXda5c",
        "outputId": "061a9894-4481-416c-97c6-405daff01439",
        "colab": {
          "base_uri": "https://localhost:8080/"
        }
      },
      "outputs": [
        {
          "output_type": "execute_result",
          "data": {
            "text/plain": [
              "('s', 'i', 'b')"
            ]
          },
          "metadata": {},
          "execution_count": 19
        }
      ],
      "source": [
        "chr(115), chr(105), chr(98)     # by using the ASCII code 115, we can convert it as a character"
      ]
    },
    {
      "cell_type": "code",
      "execution_count": null,
      "metadata": {
        "id": "tXf2iAh8da5c",
        "outputId": "655ec302-45c8-4664-cfce-4059b9e720d9",
        "colab": {
          "base_uri": "https://localhost:8080/"
        }
      },
      "outputs": [
        {
          "output_type": "stream",
          "name": "stdout",
          "text": [
            "b\n"
          ]
        }
      ],
      "source": [
        "start = 'a'\n",
        "next = ord(start) + 1\n",
        "print (chr(next))"
      ]
    },
    {
      "cell_type": "code",
      "execution_count": null,
      "metadata": {
        "id": "F7aDx2Ksda5c",
        "colab": {
          "base_uri": "https://localhost:8080/"
        },
        "outputId": "7a1cbdc1-345e-4331-e558-b051f104f82d"
      },
      "outputs": [
        {
          "output_type": "stream",
          "name": "stdout",
          "text": [
            "Enter a starting letter: a\n",
            "Enter a starting letter: z\n",
            "a b c d e f g h i j k l m n o p q r s t u v w x y z "
          ]
        }
      ],
      "source": [
        "start = input('Enter a starting letter: ')\n",
        "end = input('Enter a starting letter: ')\n",
        "\n",
        "# complete your code to print all the letters between 'start' and 'end'\n",
        "\n",
        "while start <= end:\n",
        "  print (start, end= ' ')\n",
        "  start = chr(ord(start)+1)"
      ]
    },
    {
      "cell_type": "markdown",
      "metadata": {
        "id": "y_31JDhnda5c"
      },
      "source": [
        "***"
      ]
    },
    {
      "cell_type": "markdown",
      "metadata": {
        "id": "lf6U0LEMda5c"
      },
      "source": [
        "#### Loop until the character 'q' is entered"
      ]
    },
    {
      "cell_type": "code",
      "execution_count": 1,
      "metadata": {
        "id": "lPazrjjMda5c",
        "outputId": "fc6d2987-cc0e-4acd-c765-01d4f36b6b8f",
        "colab": {
          "base_uri": "https://localhost:8080/"
        }
      },
      "outputs": [
        {
          "name": "stdout",
          "output_type": "stream",
          "text": [
            "Enter a charactera\n",
            "a\tEnter a characters\n",
            "s\tEnter a characterv\n",
            "v\tEnter a characterq\n"
          ]
        }
      ],
      "source": [
        "user_val = input('Enter a character')\n",
        "while ( user_val != 'q' ):\n",
        "\tprint ( user_val, end='\\t')\n",
        "\tuser_val = input('Enter a character')\n"
      ]
    },
    {
      "cell_type": "code",
      "execution_count": 2,
      "metadata": {
        "id": "LrckmS3Uda5c",
        "outputId": "2767d03c-643e-4c1e-932a-a1e1c2499172",
        "colab": {
          "base_uri": "https://localhost:8080/"
        }
      },
      "outputs": [
        {
          "output_type": "stream",
          "name": "stdout",
          "text": [
            "Enter your number11\n",
            "Invalid Input. Try again\n",
            "Enter your number5\n",
            " user input is  5\n"
          ]
        }
      ],
      "source": [
        "user_num = int(input('Enter your number'))\n",
        "while ( user_num < 0 or user_num > 10):\n",
        "\tprint (\"Invalid Input. Try again\")\n",
        "\tuser_num = int(input('Enter your number'))\n",
        "print (\" user input is \", user_num)\n"
      ]
    },
    {
      "cell_type": "markdown",
      "metadata": {
        "id": "iFySL7ZAda5c"
      },
      "source": [
        "## Don't forget to <font color='red'> **\"commit\"** </font> your work or <font color='red'> **\"save\"** </font> in Google Colab\n",
        "## before moving to the next section."
      ]
    },
    {
      "cell_type": "markdown",
      "metadata": {
        "id": "zVMvAP_yda5c"
      },
      "source": [
        "***\n",
        "## <p style=\"background-color: grey; color: white \">  ◼️ For loop </p>\n",
        "# <p style=\"font-family: Arial; font-size:1.4em;color:red;\"> 2. Basic For-loop Structures</p>"
      ]
    },
    {
      "cell_type": "markdown",
      "metadata": {
        "id": "AnhDrn1zda5i"
      },
      "source": [
        "#### <p style=\"font-family: Arial; font-size:1.4em; background-color: yellow; color:black;\"> Problem #2.1</p>\n",
        "#### Complete the following code cells and figure out the syntax of for-loop"
      ]
    },
    {
      "cell_type": "markdown",
      "metadata": {
        "id": "X32p7PBmda5i"
      },
      "source": [
        "##### Basic Syntax of For-Loop"
      ]
    },
    {
      "cell_type": "code",
      "execution_count": 3,
      "metadata": {
        "id": "8IlCgXyCda5i",
        "colab": {
          "base_uri": "https://localhost:8080/"
        },
        "outputId": "f6db67d1-0675-483e-934d-f0ebcc092204"
      },
      "outputs": [
        {
          "output_type": "stream",
          "name": "stdout",
          "text": [
            "0 1 2 3 4 5 6 7 8 9 "
          ]
        }
      ],
      "source": [
        "for i in range(10):\n",
        "    print (i, end = ' ')"
      ]
    },
    {
      "cell_type": "code",
      "execution_count": 4,
      "metadata": {
        "id": "Kk_NdADSda5i",
        "colab": {
          "base_uri": "https://localhost:8080/"
        },
        "outputId": "fb817436-79db-4796-d8cf-2b555c9eb0e5"
      },
      "outputs": [
        {
          "output_type": "stream",
          "name": "stdout",
          "text": [
            "0 1 2 3 4 "
          ]
        }
      ],
      "source": [
        "for num in range(5):\n",
        "\tprint (num, end=' ')"
      ]
    },
    {
      "cell_type": "markdown",
      "metadata": {
        "id": "KcYd1MShda5i"
      },
      "source": [
        "##### Complete this code to print 0 to <font color='red'> 10</font> with for-loop"
      ]
    },
    {
      "cell_type": "code",
      "execution_count": 7,
      "metadata": {
        "id": "0LtFjWcida5i",
        "colab": {
          "base_uri": "https://localhost:8080/"
        },
        "outputId": "7b064529-1cf7-4af8-eba2-6cd549b43407"
      },
      "outputs": [
        {
          "output_type": "stream",
          "name": "stdout",
          "text": [
            "0 1 2 3 4 5 6 7 8 9 10 "
          ]
        }
      ],
      "source": [
        "for val  in range (11):\n",
        "    print (val, end=' ')"
      ]
    },
    {
      "cell_type": "markdown",
      "metadata": {
        "id": "6xIZNosvda5i"
      },
      "source": [
        "#### <p style=\"font-family: Arial; font-size:1.4em; background-color: yellow; color:black;\"> Problem #2.2: with steps</p>\n",
        "#### Complete the following code cells and check out the results"
      ]
    },
    {
      "cell_type": "code",
      "execution_count": 8,
      "metadata": {
        "id": "GHXnZZMYda5i",
        "colab": {
          "base_uri": "https://localhost:8080/"
        },
        "outputId": "9d412600-fb15-4aad-f5c2-be8a3b77f74e"
      },
      "outputs": [
        {
          "output_type": "stream",
          "name": "stdout",
          "text": [
            "0\n",
            "1\n",
            "2\n",
            "3\n",
            "4\n",
            "5\n",
            "6\n",
            "7\n",
            "8\n",
            "9\n"
          ]
        }
      ],
      "source": [
        "for i in range(0, 10):\n",
        "    print (i)"
      ]
    },
    {
      "cell_type": "code",
      "execution_count": 9,
      "metadata": {
        "id": "ECHmEeSgda5i",
        "colab": {
          "base_uri": "https://localhost:8080/"
        },
        "outputId": "0815b5e1-29ff-4673-d180-27f3ae3484d9"
      },
      "outputs": [
        {
          "output_type": "stream",
          "name": "stdout",
          "text": [
            "1\n",
            "2\n",
            "3\n",
            "4\n",
            "5\n",
            "6\n",
            "7\n",
            "8\n",
            "9\n"
          ]
        }
      ],
      "source": [
        "for i in range(1,10):\n",
        "    print (i)"
      ]
    },
    {
      "cell_type": "code",
      "execution_count": 10,
      "metadata": {
        "id": "HyUguU2Xda5i",
        "colab": {
          "base_uri": "https://localhost:8080/"
        },
        "outputId": "e518502d-501b-4b3b-f6c7-8c6f24911da1"
      },
      "outputs": [
        {
          "output_type": "stream",
          "name": "stdout",
          "text": [
            "5\n",
            "6\n",
            "7\n",
            "8\n",
            "9\n"
          ]
        }
      ],
      "source": [
        "for i in range(5,10):\n",
        "    print (i)"
      ]
    },
    {
      "cell_type": "code",
      "execution_count": 12,
      "metadata": {
        "id": "9YLBSU9Xda5i",
        "colab": {
          "base_uri": "https://localhost:8080/"
        },
        "outputId": "ed0e2547-071f-4807-de63-3753c74dbd6b"
      },
      "outputs": [
        {
          "output_type": "stream",
          "name": "stdout",
          "text": [
            "0\n",
            "2\n",
            "4\n",
            "6\n",
            "8\n"
          ]
        }
      ],
      "source": [
        "for i in range(0, 10, 2):\n",
        "    print (i)"
      ]
    },
    {
      "cell_type": "code",
      "execution_count": 13,
      "metadata": {
        "id": "RS3QFeJlda5i",
        "colab": {
          "base_uri": "https://localhost:8080/"
        },
        "outputId": "2212d87b-6b21-47cb-a601-f585b3bff865"
      },
      "outputs": [
        {
          "output_type": "stream",
          "name": "stdout",
          "text": [
            "5\n",
            "10\n",
            "15\n",
            "20\n"
          ]
        }
      ],
      "source": [
        "for i in range(5, 25, 5):\n",
        "    print (i)"
      ]
    },
    {
      "cell_type": "markdown",
      "metadata": {
        "id": "Dv8q4Qm1da5i"
      },
      "source": [
        "Complete the code to print 10, 12, 14, 16, 18, 20"
      ]
    },
    {
      "cell_type": "code",
      "execution_count": 15,
      "metadata": {
        "id": "fQbNQPHOda5i",
        "colab": {
          "base_uri": "https://localhost:8080/"
        },
        "outputId": "97293335-b859-4fc8-bba0-8fe2c6f00f10"
      },
      "outputs": [
        {
          "output_type": "stream",
          "name": "stdout",
          "text": [
            "10\n",
            "12\n",
            "14\n",
            "16\n",
            "18\n",
            "20\n"
          ]
        }
      ],
      "source": [
        "for i in range(10,22,2):\n",
        "  print (i)"
      ]
    },
    {
      "cell_type": "markdown",
      "metadata": {
        "id": "p4UzXUidda5i"
      },
      "source": [
        "#### <p style=\"font-family: Arial; font-size:1.4em; background-color: yellow; color:black;\"> Problem #2.3: decreasing</p>\n",
        "#### Complete the following code cells and check out the results"
      ]
    },
    {
      "cell_type": "code",
      "execution_count": 19,
      "metadata": {
        "id": "PIVLoFgnda5j",
        "colab": {
          "base_uri": "https://localhost:8080/"
        },
        "outputId": "83a71931-6e13-4445-c506-ce4b3dc78790"
      },
      "outputs": [
        {
          "output_type": "stream",
          "name": "stdout",
          "text": [
            "10\n",
            "9\n",
            "8\n",
            "7\n",
            "6\n",
            "5\n",
            "4\n",
            "3\n",
            "2\n",
            "1\n"
          ]
        }
      ],
      "source": [
        "for i in range(10, 0,-1): # not working\n",
        "    print (i)\n"
      ]
    },
    {
      "cell_type": "code",
      "execution_count": 18,
      "metadata": {
        "id": "KfQ8h59mda5j",
        "colab": {
          "base_uri": "https://localhost:8080/"
        },
        "outputId": "94487bae-4042-4ae8-c5e2-0c47ee78caa7"
      },
      "outputs": [
        {
          "output_type": "stream",
          "name": "stdout",
          "text": [
            "10\n",
            "9\n",
            "8\n",
            "7\n",
            "6\n",
            "5\n",
            "4\n",
            "3\n",
            "2\n",
            "1\n"
          ]
        }
      ],
      "source": [
        "for i in range(10, 0, -1):\n",
        "    print (i)"
      ]
    },
    {
      "cell_type": "code",
      "execution_count": 20,
      "metadata": {
        "id": "-8bslD1Mda5j",
        "colab": {
          "base_uri": "https://localhost:8080/"
        },
        "outputId": "a6f6540a-6c46-48e9-df82-89454c054e89"
      },
      "outputs": [
        {
          "output_type": "stream",
          "name": "stdout",
          "text": [
            "10\n",
            "8\n",
            "6\n",
            "4\n",
            "2\n"
          ]
        }
      ],
      "source": [
        "for i in range(10, 0, -2):\n",
        "    print (i)"
      ]
    },
    {
      "cell_type": "markdown",
      "metadata": {
        "id": "l09c6oUVda5j"
      },
      "source": [
        "Complete the code to print 15, 12, 9, 6, 3, 0"
      ]
    },
    {
      "cell_type": "code",
      "execution_count": 22,
      "metadata": {
        "id": "nHLBG0N2da5j",
        "colab": {
          "base_uri": "https://localhost:8080/"
        },
        "outputId": "5bf62d61-2bc7-4a45-a0d5-557386f9312b"
      },
      "outputs": [
        {
          "output_type": "stream",
          "name": "stdout",
          "text": [
            "15\n",
            "12\n",
            "9\n",
            "6\n",
            "3\n"
          ]
        }
      ],
      "source": [
        "for i in range (15,0,-3):\n",
        "    print (i)"
      ]
    },
    {
      "cell_type": "markdown",
      "metadata": {
        "id": "1mgqONZsda5j"
      },
      "source": [
        "#### <p style=\"font-family: Arial; font-size:1.4em; background-color: yellow; color:black;\"> Problem #2.4: list values in for-loop</p>\n",
        "#### Complete the following code cells and check out the results"
      ]
    },
    {
      "cell_type": "markdown",
      "metadata": {
        "id": "TzudIOnIda5j"
      },
      "source": [
        "#### List can be used for-loop to iterate all elements\n",
        "```\n",
        "for val in [0,1,2,3,4]:\n",
        "    print (val)\n",
        "```"
      ]
    },
    {
      "cell_type": "code",
      "execution_count": 23,
      "metadata": {
        "id": "qqWPnPUmda5j",
        "colab": {
          "base_uri": "https://localhost:8080/"
        },
        "outputId": "d817caed-51fd-478d-b7d1-a7160419df11"
      },
      "outputs": [
        {
          "output_type": "stream",
          "name": "stdout",
          "text": [
            "0\n",
            "1\n",
            "2\n",
            "3\n",
            "4\n"
          ]
        }
      ],
      "source": [
        "for val in [0,1,2,3,4]:\n",
        "    print (val)"
      ]
    },
    {
      "cell_type": "code",
      "execution_count": 24,
      "metadata": {
        "id": "UFnHEEpHda5j",
        "colab": {
          "base_uri": "https://localhost:8080/"
        },
        "outputId": "1032eb60-e07f-43e2-f20f-b738619082c2"
      },
      "outputs": [
        {
          "output_type": "stream",
          "name": "stdout",
          "text": [
            "Java Python C++ R Ruby Java Script "
          ]
        }
      ],
      "source": [
        "for str in ['Java', 'Python', 'C++', 'R', 'Ruby', 'Java Script']:\n",
        "\tprint (str, end=' ')"
      ]
    },
    {
      "cell_type": "code",
      "execution_count": 25,
      "metadata": {
        "id": "DIkPq3hQda5j",
        "colab": {
          "base_uri": "https://localhost:8080/"
        },
        "outputId": "bd574df8-5c40-4220-ce6b-f2b6839d02b1"
      },
      "outputs": [
        {
          "output_type": "stream",
          "name": "stdout",
          "text": [
            "10\n",
            "20\n",
            "30\n",
            "10\n",
            "20\n",
            "30\n"
          ]
        }
      ],
      "source": [
        "for val in [10, 20, 30]:\n",
        "\tprint (val)\n",
        "\n",
        "listval = [10, 20, 30]\n",
        "for val in listval:\n",
        "\tprint (val)\n",
        "\n"
      ]
    },
    {
      "cell_type": "markdown",
      "metadata": {
        "id": "BVlrtFeWda5j"
      },
      "source": [
        "Complete the code to get the summation of 5 user input values"
      ]
    },
    {
      "cell_type": "code",
      "execution_count": 26,
      "metadata": {
        "id": "jwkYRijGda5j",
        "colab": {
          "base_uri": "https://localhost:8080/"
        },
        "outputId": "84425d0e-60eb-47bf-afd7-552b00c8e95e"
      },
      "outputs": [
        {
          "output_type": "stream",
          "name": "stdout",
          "text": [
            "Enter your num1\n",
            "Enter your num5\n",
            "Enter your num100\n",
            "Enter your num5\n",
            "Enter your num45\n",
            "Summation is 156\n"
          ]
        }
      ],
      "source": [
        "total  = 0\n",
        "for  i in range(5):\n",
        "\tuser_num = int(input('Enter your num'))\n",
        "\ttotal += user_num\n",
        "print (\"Summation is\", total)\n"
      ]
    },
    {
      "cell_type": "markdown",
      "metadata": {
        "id": "nwE3kv1ada5j"
      },
      "source": [
        "Compare the while-loop version to for-loop"
      ]
    },
    {
      "cell_type": "code",
      "execution_count": 27,
      "metadata": {
        "id": "UM6b-0cTda5j",
        "colab": {
          "base_uri": "https://localhost:8080/"
        },
        "outputId": "2f957b6f-f484-4972-8df2-44d701e6ef2e"
      },
      "outputs": [
        {
          "output_type": "stream",
          "name": "stdout",
          "text": [
            "Enter your num1\n",
            "Enter your num5\n",
            "Enter your num100\n",
            "Enter your num5\n",
            "Enter your num45\n",
            "Summation is 156\n"
          ]
        }
      ],
      "source": [
        "sum = 0\n",
        "i = 0\n",
        "while (i < 5):\n",
        "\tuser_num = int(input('Enter your num'))\n",
        "\tsum += user_num\n",
        "\ti += 1\n",
        "print (\"Summation is\", sum)\n"
      ]
    },
    {
      "cell_type": "code",
      "execution_count": 28,
      "metadata": {
        "id": "VsK2YnzQda5j",
        "colab": {
          "base_uri": "https://localhost:8080/"
        },
        "outputId": "162eb6a6-5b32-4e5f-c2c1-a8fd681a45f6"
      },
      "outputs": [
        {
          "output_type": "stream",
          "name": "stdout",
          "text": [
            "1\n",
            "2\n",
            "3\n",
            "4\n",
            "5\n",
            "6\n",
            "7\n",
            "8\n",
            "9\n",
            "10\n",
            "11\n"
          ]
        }
      ],
      "source": [
        "i = 0\n",
        "\n",
        "while True:\n",
        "\ti += 1\n",
        "\tprint (i)\n",
        "\tif ( i > 10):\n",
        "\t\tbreak\n"
      ]
    },
    {
      "cell_type": "markdown",
      "metadata": {
        "id": "Re3-nuQ5da5j"
      },
      "source": [
        "### Calculating Running Total"
      ]
    },
    {
      "cell_type": "code",
      "execution_count": null,
      "metadata": {
        "id": "AWTmKh6uda5j",
        "outputId": "27292f26-22a7-4ec2-9ea9-d17437fecc69"
      },
      "outputs": [
        {
          "name": "stdout",
          "output_type": "stream",
          "text": [
            "Total 15\n"
          ]
        }
      ],
      "source": [
        "sum = 0\n",
        "for i in range(5):\n",
        "\tnumber = int(input('Enter your number'))\n",
        "\tsum += number\n",
        "print ('Total {0}'.format(sum))"
      ]
    },
    {
      "cell_type": "markdown",
      "metadata": {
        "id": "I0ER8qxKda5k"
      },
      "source": [
        "##### While-loop version"
      ]
    },
    {
      "cell_type": "code",
      "execution_count": null,
      "metadata": {
        "id": "0dyfYOJMda5k"
      },
      "outputs": [],
      "source": [
        "i = 0\n",
        "while (i < 5):\n",
        "\tnumber = int(input('Enter your number'))\n",
        "\tsum += number\n",
        "\ti += 1\n",
        "print ('Total {0}'.format(sum))"
      ]
    },
    {
      "cell_type": "markdown",
      "metadata": {
        "id": "xaq4rrk6da5k"
      },
      "source": [
        "### 👉 Complete the code to get the summation of 5 user input values with for-loop"
      ]
    },
    {
      "cell_type": "code",
      "execution_count": 31,
      "metadata": {
        "id": "_qiDr1p0da5k",
        "colab": {
          "base_uri": "https://localhost:8080/"
        },
        "outputId": "d0ff6155-2ce1-43cd-af0c-d90235b1762e"
      },
      "outputs": [
        {
          "output_type": "stream",
          "name": "stdout",
          "text": [
            "Enter some number:1\n",
            "Enter some number:2\n",
            "Enter some number:3\n",
            "Enter some number:4\n",
            "Enter some number:5\n",
            " The total is 15\n"
          ]
        }
      ],
      "source": [
        "total = 0\n",
        "for i in range (5):\n",
        "  user_num = int(input('Enter some number:'))\n",
        "  total += user_num\n",
        "print (f' The total is {total}')"
      ]
    },
    {
      "cell_type": "markdown",
      "metadata": {
        "id": "oVBCTCbtda5k"
      },
      "source": [
        "### 👉 Complete the code to calculate the sum of 10 user input <font color='red'> even </font> values."
      ]
    },
    {
      "cell_type": "code",
      "execution_count": 33,
      "metadata": {
        "id": "8mXLIs0Gda5k",
        "colab": {
          "base_uri": "https://localhost:8080/"
        },
        "outputId": "4ff88b87-0c21-4449-d067-73721b833578"
      },
      "outputs": [
        {
          "output_type": "stream",
          "name": "stdout",
          "text": [
            "enter some number1\n",
            "enter some number2\n",
            "enter some number3\n",
            "enter some number4\n",
            "enter some number5\n",
            "enter some number6\n",
            "enter some number7\n",
            "enter some number8\n",
            "enter some number9\n",
            "enter some number10\n",
            "total is 30\n"
          ]
        }
      ],
      "source": [
        "total = 0\n",
        "for i in range (10):\n",
        "  user_num = int(input('enter some number'))\n",
        "  if user_num % 2 == 0:\n",
        "    total += user_num\n",
        "print (f'total is {total}')\n"
      ]
    },
    {
      "cell_type": "markdown",
      "metadata": {
        "id": "YIQTiD2gda5k"
      },
      "source": [
        "#### What is the main difference between for-loop and while-loop?\n",
        "#### In which case the while-loop has advantage?"
      ]
    },
    {
      "cell_type": "markdown",
      "metadata": {
        "id": "SY2YzmGHda5k"
      },
      "source": [
        "#####  💯 Make your answer here with MD syntax\n",
        "- bullet\n",
        "> code\n",
        "<font color='red'> MD syntax example </font>"
      ]
    },
    {
      "cell_type": "markdown",
      "source": [
        "Main difference between for and while loops is that for loops the programmer puts contraints into the loop so that the program runs for an \"n\" amount of times, whereas the while loop runs until a condition is yet. while loop has an advantage in cases where there is an unknown number of repetitions or when the ending condition is based on logic and not counting."
      ],
      "metadata": {
        "id": "mm5JrM_sCITV"
      }
    },
    {
      "cell_type": "markdown",
      "metadata": {
        "id": "qF3mDb-Hda5k"
      },
      "source": [
        "## Don't forget to <font color='red'> **\"commit\"** </font> your work or <font color='red'> **\"save\"** </font> in Google Colab\n",
        "## before moving to the next section."
      ]
    },
    {
      "cell_type": "markdown",
      "metadata": {
        "id": "ksk3iSQbda5k"
      },
      "source": [
        "***\n",
        "## <p style=\"background-color: grey; color: white\">  ◼️ Random Numbers </p>\n",
        "# <p style=\"font-family: Arial; font-size:1.4em;color:red;\"> 3. Random Numbers </p>"
      ]
    },
    {
      "cell_type": "markdown",
      "metadata": {
        "id": "S71aoPZwda5k"
      },
      "source": [
        "#### To create the Random Numbers, import the random module first\n",
        "> <font color='red'> import random </font>"
      ]
    },
    {
      "cell_type": "markdown",
      "metadata": {
        "id": "8QYC9HWzda5k"
      },
      "source": [
        "#### Random module supports the varous functions to generate random numbers\n",
        "#### Here is the link to learn more about \"Random\" module\n",
        "[Manual for Random Modlue](https://docs.python.org/3/library/random.html)\n",
        "\n",
        "In this first example, we will use only \"randint()\" function"
      ]
    },
    {
      "cell_type": "code",
      "execution_count": 34,
      "metadata": {
        "id": "71NDSbKPda5k",
        "outputId": "2ed738b5-0edc-4978-94cd-798bfa47b98b",
        "colab": {
          "base_uri": "https://localhost:8080/"
        }
      },
      "outputs": [
        {
          "output_type": "execute_result",
          "data": {
            "text/plain": [
              "91"
            ]
          },
          "metadata": {},
          "execution_count": 34
        }
      ],
      "source": [
        "import random\n",
        "\n",
        "randnum = random.randint(0, 100) # will return a random number between 0 and 100 (inclusive)\n",
        "randnum"
      ]
    },
    {
      "cell_type": "code",
      "execution_count": 35,
      "metadata": {
        "id": "6NVC54kqda5k",
        "outputId": "2d91a297-35ed-4600-a9a6-2d6f28ae3e4c",
        "colab": {
          "base_uri": "https://localhost:8080/"
        }
      },
      "outputs": [
        {
          "output_type": "stream",
          "name": "stdout",
          "text": [
            "The generated random number is 9, 7 and 2\n"
          ]
        }
      ],
      "source": [
        "rdnum1 = random.randint(0,10)\n",
        "rdnum2 = random.randint(0,10)\n",
        "rdnum3 = random.randint(0,10)\n",
        "\n",
        "print (f'The generated random number is {rdnum1}, {rdnum2} and {rdnum3}')"
      ]
    },
    {
      "cell_type": "markdown",
      "metadata": {
        "id": "4wB7zmvyda5k"
      },
      "source": [
        "#### <p style=\"font-family: Arial; font-size:1.4em; background-color: yellow; color:black;\"> Problem #3.1:  Random number</p>"
      ]
    },
    {
      "cell_type": "markdown",
      "metadata": {
        "id": "Twdg3exeda5l"
      },
      "source": [
        "#### Complete the code to generate the random number between 10 and 20"
      ]
    },
    {
      "cell_type": "code",
      "execution_count": 39,
      "metadata": {
        "id": "5hxjLZKpda5l",
        "colab": {
          "base_uri": "https://localhost:8080/"
        },
        "outputId": "116153a3-75c1-46ea-ff17-049543ffa008"
      },
      "outputs": [
        {
          "output_type": "stream",
          "name": "stdout",
          "text": [
            "18\n"
          ]
        }
      ],
      "source": [
        "randnum = random.randint(10,20)\n",
        "print (randnum)"
      ]
    },
    {
      "cell_type": "markdown",
      "metadata": {
        "id": "ugHcibGfda5l"
      },
      "source": [
        "#### Complete the code to generate 5 random number between 10 and 20 using for loop\n"
      ]
    },
    {
      "cell_type": "code",
      "execution_count": 48,
      "metadata": {
        "id": "iVojsyY0da5l",
        "outputId": "ef921606-dba4-450c-f8d8-0e700ba10a62",
        "colab": {
          "base_uri": "https://localhost:8080/"
        }
      },
      "outputs": [
        {
          "output_type": "stream",
          "name": "stdout",
          "text": [
            "20 12 17 20 11 "
          ]
        }
      ],
      "source": [
        "for i in range(5):\n",
        "    rdnum = random.randint(10, 20)\n",
        "    print (rdnum, end=' ')"
      ]
    },
    {
      "cell_type": "markdown",
      "metadata": {
        "id": "OeMBXvhJda5m"
      },
      "source": [
        "#### <p style=\"font-family: Arial; font-size:1.4em; background-color: yellow; color:black;\"> Problem #3.2  </p>\n",
        "#### Complete the code to generate 5 radom numbers between 10 and 20, and calculate the sum of all random numbers\n",
        "##### ✓ No need to use the \"list\" data type."
      ]
    },
    {
      "cell_type": "code",
      "execution_count": 52,
      "metadata": {
        "id": "wj5muXrsda5m",
        "colab": {
          "base_uri": "https://localhost:8080/"
        },
        "outputId": "c675022d-97ac-426b-f408-890365c8d3c9"
      },
      "outputs": [
        {
          "output_type": "stream",
          "name": "stdout",
          "text": [
            "10 19 14 10 14 the sum of the numbers is 67\n"
          ]
        }
      ],
      "source": [
        "total = 0\n",
        "for i in range (5):\n",
        "  randnum = random.randint(10,20)\n",
        "  total += randnum\n",
        "  print (randnum, end=' ')\n",
        "print (f'the sum of the numbers is {total}')\n"
      ]
    },
    {
      "cell_type": "markdown",
      "metadata": {
        "id": "Z4gXM8QZda5m"
      },
      "source": [
        "#### <p style=\"font-family: Arial; font-size:1.4em; background-color: yellow; color:black;\"> Problem #3.3  </p>\n",
        "#### Complete the code to generate 5 radom numbers between 0 and 10, and find the greatest number\n",
        "##### ✓ No need to use the \"list\" data type."
      ]
    },
    {
      "cell_type": "code",
      "execution_count": 71,
      "metadata": {
        "id": "99pQNRPRda5m",
        "outputId": "840f53f9-acf6-4b68-fafa-6d27fe35c936",
        "colab": {
          "base_uri": "https://localhost:8080/"
        }
      },
      "outputs": [
        {
          "output_type": "stream",
          "name": "stdout",
          "text": [
            "10 7 5 7 4 \n",
            "The greatest random number is 10\n"
          ]
        }
      ],
      "source": [
        "for i in range(5):\n",
        "    rdnum = random.randint(0,10)\n",
        "    if i == 0: # if it is the first iteration\n",
        "        maxval = rdnum # We assume that the first rdnum is greatest number\n",
        "    if rdnum > maxval:  # if the next rdnum is greater than the current maxval, keep it as maxval\n",
        "        maxval = rdnum\n",
        "    print (rdnum, end=' ')\n",
        "\n",
        "print (f'\\nThe greatest random number is {maxval}')"
      ]
    },
    {
      "cell_type": "markdown",
      "metadata": {
        "id": "cfGmgFUada5m"
      },
      "source": [
        "#### <p style=\"font-family: Arial; font-size:1.4em; background-color: yellow; color:black;\"> Problem #3.4  </p>\n",
        "#### Complete the code to generate 5 radom numbers between 0 and 10, and find the least number\n",
        "##### ✓ No need to use the \"list\" data type."
      ]
    },
    {
      "cell_type": "code",
      "execution_count": 85,
      "metadata": {
        "id": "s4N7FQBDda5m",
        "colab": {
          "base_uri": "https://localhost:8080/"
        },
        "outputId": "d044b4d3-efb3-4fc6-ee8a-0ad25ea0e321"
      },
      "outputs": [
        {
          "output_type": "stream",
          "name": "stdout",
          "text": [
            "8 5 10 0 0 The least random number is 0\n"
          ]
        }
      ],
      "source": [
        "for i in range (5):\n",
        "  rdnum = random.randint(0,10)\n",
        "  if i == 0:\n",
        "    minval =rdnum\n",
        "  if rdnum < minval:\n",
        "      minval = rdnum\n",
        "  print (rdnum, end = ' ')\n",
        "print (f'The least random number is {minval}')"
      ]
    },
    {
      "cell_type": "markdown",
      "metadata": {
        "id": "mLhWGoE4da5m"
      },
      "source": [
        "#### <p style=\"font-family: Arial; font-size:1.4em; background-color: yellow; color:black;\"> Problem #3.5  </p>\n",
        "#### Write a program that generates a random number between 0 and 100 repeatedly.\n",
        "#### The while loop will stop if it is greater than the immediate preceding random number.\n",
        "##### ✓ No need to use the \"list\" data type. <br>"
      ]
    },
    {
      "cell_type": "code",
      "execution_count": 90,
      "metadata": {
        "id": "Di3-L3hbda5m",
        "colab": {
          "base_uri": "https://localhost:8080/"
        },
        "outputId": "b90d97fa-51f0-4fcf-d916-805f9af71de1"
      },
      "outputs": [
        {
          "output_type": "stream",
          "name": "stdout",
          "text": [
            "34 89 "
          ]
        }
      ],
      "source": [
        "import random\n",
        "flag = 1\n",
        "prev_num = 101\n",
        "while (flag):\n",
        "\tcurrent_num = random.randint(0,100)\n",
        "\tprint (current_num, end = ' ')\n",
        "\tif ( current_num > prev_num):\n",
        "\t\tflag = 0;\n",
        "\tprev_num = current_num\n"
      ]
    },
    {
      "cell_type": "markdown",
      "metadata": {
        "id": "llzQ-tFOda5m"
      },
      "source": [
        "## Don't forget to <font color='red'> **\"commit\"** </font> your work or <font color='red'> **\"save\"** </font> in Google Colab\n",
        "## before moving to the next section."
      ]
    },
    {
      "cell_type": "markdown",
      "metadata": {
        "id": "IKKo45YBda5m"
      },
      "source": [
        "***\n",
        "## <p style=\"background-color: grey; color: white\">  ◼️ List and For loop </p>\n",
        "# <p style=\"font-family: Arial; font-size:1.4em;color:red;\"> 4. List and For loop </p>"
      ]
    },
    {
      "cell_type": "markdown",
      "metadata": {
        "id": "eE-EmrRYda5m"
      },
      "source": [
        "#### list is the data type that can hold the multiple values as a element\n",
        "#### For example\n",
        "> <code> mylist = [10, 20, 30, 40, 50] </code>\n",
        "\n",
        "#### Each element can be accessed by using index, for example, to access the 2nd element\n",
        "> <code> mylist[1]   # it will print the value 20 </code>"
      ]
    },
    {
      "cell_type": "code",
      "execution_count": 91,
      "metadata": {
        "id": "nfmKrB3Rda5m",
        "colab": {
          "base_uri": "https://localhost:8080/"
        },
        "outputId": "be382ad5-da04-4a3f-c721-ab1f3a50ecc4"
      },
      "outputs": [
        {
          "output_type": "stream",
          "name": "stdout",
          "text": [
            "10\n",
            "20\n",
            "30\n",
            "40\n",
            "50\n"
          ]
        }
      ],
      "source": [
        "mylist = [10, 20, 30, 40, 50]\n",
        "print (mylist[0])\n",
        "print (mylist[1])\n",
        "print (mylist[2])\n",
        "print (mylist[3])\n",
        "print (mylist[4])"
      ]
    },
    {
      "cell_type": "code",
      "execution_count": 92,
      "metadata": {
        "id": "PsbKwEXYda5m",
        "colab": {
          "base_uri": "https://localhost:8080/"
        },
        "outputId": "a6e81eac-e191-463a-f6aa-35c1bab8c9c1"
      },
      "outputs": [
        {
          "output_type": "stream",
          "name": "stdout",
          "text": [
            "150\n"
          ]
        }
      ],
      "source": [
        "mylist = [10, 20, 30, 40, 50]\n",
        "total = mylist[0] + mylist[1] + mylist[2] + mylist[3] + mylist[4]\n",
        "print (total)"
      ]
    },
    {
      "cell_type": "markdown",
      "metadata": {
        "id": "q7Rwgpbnda5m"
      },
      "source": [
        "#### Print all elements in the list"
      ]
    },
    {
      "cell_type": "code",
      "execution_count": 93,
      "metadata": {
        "id": "VZTsXhPbda5m",
        "colab": {
          "base_uri": "https://localhost:8080/"
        },
        "outputId": "743dbcda-2703-4553-b544-2831833e2a90"
      },
      "outputs": [
        {
          "output_type": "stream",
          "name": "stdout",
          "text": [
            "10 20 30 40 50 "
          ]
        }
      ],
      "source": [
        "mylist = [10, 20, 30, 40, 50]\n",
        "for idx in range(5):\n",
        "\tprint (mylist[idx], end=' ')"
      ]
    },
    {
      "cell_type": "markdown",
      "metadata": {
        "id": "1kKLXrZtda5m"
      },
      "source": [
        "#### Print all elements in reverse order in the list"
      ]
    },
    {
      "cell_type": "code",
      "execution_count": 94,
      "metadata": {
        "id": "45LPVwpDda5m",
        "colab": {
          "base_uri": "https://localhost:8080/"
        },
        "outputId": "0debc51b-9afe-4a07-9b03-cb044347e327"
      },
      "outputs": [
        {
          "output_type": "stream",
          "name": "stdout",
          "text": [
            "50 40 30 20 10 "
          ]
        }
      ],
      "source": [
        "mylist = [10, 20, 30, 40, 50]\n",
        "for idx in range(4, -1, -1):\n",
        "\tprint (mylist[idx], end=' ')"
      ]
    },
    {
      "cell_type": "markdown",
      "metadata": {
        "id": "YX0AXbxZda5m"
      },
      "source": [
        "#### Print all elements in reverse order by using the \"reversed()\" function"
      ]
    },
    {
      "cell_type": "code",
      "execution_count": 95,
      "metadata": {
        "id": "CopCfug4da5n",
        "colab": {
          "base_uri": "https://localhost:8080/"
        },
        "outputId": "a9faec06-7284-4aa1-eb20-d3bc50d0b473"
      },
      "outputs": [
        {
          "output_type": "stream",
          "name": "stdout",
          "text": [
            "4 3 2 1 0 "
          ]
        }
      ],
      "source": [
        "for i in reversed(range(5)):\n",
        "    print (i, end=' ')  # it will print 4 3 2 1 0, # Now you can these sequence to access the elements"
      ]
    },
    {
      "cell_type": "code",
      "execution_count": 96,
      "metadata": {
        "id": "YPL-HQ04da5n",
        "outputId": "f297e797-2fa4-4721-ba98-6df50b0b1aff",
        "colab": {
          "base_uri": "https://localhost:8080/"
        }
      },
      "outputs": [
        {
          "output_type": "stream",
          "name": "stdout",
          "text": [
            "50 40 30 20 10 "
          ]
        }
      ],
      "source": [
        "mylist = [10, 20, 30, 40, 50]\n",
        "for idx in reversed(range(5)):\n",
        "\tprint (mylist[idx], end=' ')"
      ]
    },
    {
      "cell_type": "markdown",
      "metadata": {
        "id": "EiOT5Bupda5n"
      },
      "source": [
        "#### Accessing each element directly without index in the for-loop"
      ]
    },
    {
      "cell_type": "code",
      "execution_count": 97,
      "metadata": {
        "id": "NazgbK-Oda5n",
        "colab": {
          "base_uri": "https://localhost:8080/"
        },
        "outputId": "c4b08dde-e4c1-4127-d92c-73b1c0c1a18d"
      },
      "outputs": [
        {
          "output_type": "stream",
          "name": "stdout",
          "text": [
            "11 22 33 44 55 "
          ]
        }
      ],
      "source": [
        "mylist = [11, 22, 33, 44, 55]\n",
        "\n",
        "for v in mylist:        # the variable v will be each element in the repetition.\n",
        "    print (v, end=' ')\n"
      ]
    },
    {
      "cell_type": "markdown",
      "metadata": {
        "id": "Hq1_EFyhda5n"
      },
      "source": [
        "#### <p style=\"font-family: Arial; font-size:1.4em; background-color: yellow; color:black;\"> Problem #4.1  </p>\n",
        "#### Calculate the sum of all elements using for-loop\n",
        "#### Do not use the function sum(). Need to practice the for-loop and develop your algorithm"
      ]
    },
    {
      "cell_type": "code",
      "execution_count": 98,
      "metadata": {
        "id": "JwQE5vETda5n",
        "colab": {
          "base_uri": "https://localhost:8080/"
        },
        "outputId": "96957998-e677-4052-b526-63d9b79ba318"
      },
      "outputs": [
        {
          "output_type": "stream",
          "name": "stdout",
          "text": [
            "10 20 30 40 50 150\n"
          ]
        }
      ],
      "source": [
        "\n",
        "mylist = [10, 20, 30, 40, 50]\n",
        "total = 0\n",
        "\n",
        "for i in range(len(mylist)):\n",
        "  total += mylist[i]\n",
        "  print (mylist[i],end =\" \")\n",
        "print (total)\n"
      ]
    },
    {
      "cell_type": "markdown",
      "metadata": {
        "id": "IWnO9GBpda5n"
      },
      "source": [
        "#### <p style=\"font-family: Arial; font-size:1.4em; background-color: yellow; color:black;\"> Problem #4.2  </p>\n",
        "#### Find the least number in the list.\n",
        "#### Do not use the function <font color='red'>min() </font>. <br> Need to practice the for-loop and develop your algorithm\n",
        "#### Follow the algorithm steps to find the least number\n",
        "> 1) Assume that the 1st element is the least number    \n",
        ">> <code> minval = mylist[0] </code>\n",
        "> 2) Iterate all elements from 2nd to the last\n",
        ">> <code> for i in range(len(mylist)): </code>\n",
        "> 3) If any element in the list is less than the current, replace the minval with the current element\n",
        ">> <code> if mylist[i] < minval: </code>\n",
        ">>> <code> minval = mylist[i] </code>"
      ]
    },
    {
      "cell_type": "code",
      "execution_count": 103,
      "metadata": {
        "id": "4bBaipD7da5n",
        "colab": {
          "base_uri": "https://localhost:8080/"
        },
        "outputId": "71b46a8e-1617-4e22-b41e-e9b44664270d"
      },
      "outputs": [
        {
          "output_type": "stream",
          "name": "stdout",
          "text": [
            "10\n"
          ]
        }
      ],
      "source": [
        "mylist = [10, 20, 30, 40, 50]\n",
        "minval = mylist[0]\n",
        "for i in range(len(mylist)):\n",
        "  if mylist[i]<minval:\n",
        "    minval = mylist[i]\n",
        "    print (mylist,end= ' ')\n",
        "print (minval)"
      ]
    },
    {
      "cell_type": "markdown",
      "metadata": {
        "id": "5NVrGC1vda5n"
      },
      "source": [
        "#### <p style=\"font-family: Arial; font-size:1.4em; background-color: yellow; color:black;\"> Problem #4.3  </p>\n",
        "#### Complete the code that determines whether the input value is in the list or not\n",
        "#### Do not use the operator <font color='red'>in </font>. <br> Need to practice the for-loop and develop your algorithm\n",
        "> input number <br>\n",
        "> for each element in the list <br>\n",
        ">> compare input number to each element <br>\n",
        ">> if two values are same, print True <br>"
      ]
    },
    {
      "cell_type": "code",
      "execution_count": 105,
      "metadata": {
        "id": "TU5tAraTda5n",
        "colab": {
          "base_uri": "https://localhost:8080/"
        },
        "outputId": "c36d00d6-52a3-4a1d-d31c-d2b902116549"
      },
      "outputs": [
        {
          "output_type": "stream",
          "name": "stdout",
          "text": [
            "Enter a number: 20\n",
            "10 True\n"
          ]
        }
      ],
      "source": [
        "target = int(input('Enter a number: '))\n",
        "mylist = [10,20,30,40,50]\n",
        "found = False\n",
        "\n",
        "for  i in mylist:\n",
        "  if target == i:\n",
        "    found = True\n",
        "    break\n",
        "  print (i,end = ' ')\n",
        "print(found)"
      ]
    },
    {
      "cell_type": "markdown",
      "metadata": {
        "id": "lC1etMt2da5n"
      },
      "source": [
        "## Don't forget to <font color='red'> **\"commit\"** </font> your work or <font color='red'> **\"save\"** </font> in Google Colab\n",
        "## before moving to the next section."
      ]
    },
    {
      "cell_type": "markdown",
      "metadata": {
        "id": "J2FmJfyrda5n"
      },
      "source": [
        "***\n",
        "## <p style=\"background-color: grey; color: white\">  ◼️ Break and Continue </p>\n",
        "# <p style=\"font-family: Arial; font-size:1.4em;color:red;\"> 5. Break and Continue </p>\n",
        "\n",
        "\n",
        "#### In programming, the break and continue statements are used to alter the flow of loops:\n",
        "<ul>\n",
        "\t<li><code>break</code> exits the loop entirely</li>\n",
        "\t<li><code>continue</code> skips the current iteration and proceeds to the next one</li>\n",
        "</ul>"
      ]
    },
    {
      "cell_type": "markdown",
      "metadata": {
        "id": "DKcdqFbXda5n"
      },
      "source": [
        "### Example code: Before run the below cell, guess the value of i after for loop"
      ]
    },
    {
      "cell_type": "code",
      "execution_count": 112,
      "metadata": {
        "id": "zCczd_r3da5n",
        "colab": {
          "base_uri": "https://localhost:8080/"
        },
        "outputId": "049c2932-a47e-4b71-ded4-dc3bbb40e390"
      },
      "outputs": [
        {
          "output_type": "stream",
          "name": "stdout",
          "text": [
            "3\n"
          ]
        }
      ],
      "source": [
        "for i in range(5):\n",
        "    if i == 3:\n",
        "        break\n",
        "print (i)       # value i? why?"
      ]
    },
    {
      "cell_type": "markdown",
      "metadata": {
        "id": "6nRSd_1kda5n"
      },
      "source": [
        "### Example code: 10 iterations with while-loop and break\n"
      ]
    },
    {
      "cell_type": "code",
      "execution_count": 117,
      "metadata": {
        "id": "FlqxTWM0da5n",
        "colab": {
          "base_uri": "https://localhost:8080/"
        },
        "outputId": "f3ab340a-1066-44f5-c0ad-bbafeeb3c87b"
      },
      "outputs": [
        {
          "output_type": "stream",
          "name": "stdout",
          "text": [
            "0 1 2 3 4 5 6 7 8 9 "
          ]
        }
      ],
      "source": [
        "i = 0\n",
        "while True:\n",
        "    if i == 10:\n",
        "        break\n",
        "    print (i, end=' ')\n",
        "    i += 1\n"
      ]
    },
    {
      "cell_type": "markdown",
      "metadata": {
        "id": "EIdE8Nkgda5n"
      },
      "source": [
        "#### <p style=\"font-family: Arial; font-size:1.4em; background-color: yellow; color:black;\"> Problem #5.1  </p>\n",
        "#### Complete the code that input a number until the input value is -1\n",
        "> Use the while loop and break"
      ]
    },
    {
      "cell_type": "code",
      "execution_count": 120,
      "metadata": {
        "id": "hRo9MGFdda5o",
        "colab": {
          "base_uri": "https://localhost:8080/"
        },
        "outputId": "acf0f8b7-552f-4a42-a76a-5b00ca594b96"
      },
      "outputs": [
        {
          "output_type": "stream",
          "name": "stdout",
          "text": [
            "Enter a number: 1\n",
            "Enter a number: 2\n",
            "Enter a number: 5\n",
            "Enter a number: 35\n",
            "Enter a number: -1\n",
            "-1\n"
          ]
        }
      ],
      "source": [
        "while True:\n",
        "    number = int(input('Enter a number: '))\n",
        "    if number == -1:\n",
        "      break\n",
        "print (number)"
      ]
    },
    {
      "cell_type": "markdown",
      "metadata": {
        "id": "wYJSuEzvda5o"
      },
      "source": [
        "#### <p style=\"font-family: Arial; font-size:1.4em; background-color: yellow; color:black;\"> Problem #5.2  </p>\n",
        "#### Complete the code that input a word until the input value is 'stop'\n",
        "> Use the while loop and break"
      ]
    },
    {
      "cell_type": "code",
      "execution_count": 121,
      "metadata": {
        "id": "m31mrkk7da5p",
        "colab": {
          "base_uri": "https://localhost:8080/"
        },
        "outputId": "a54342f5-4d09-4552-d429-7021b96e4d0b"
      },
      "outputs": [
        {
          "output_type": "stream",
          "name": "stdout",
          "text": [
            "Enter a word: f\n",
            "Enter a word: u\n",
            "Enter a word: c\n",
            "Enter a word: k\n",
            "Enter a word: stop\n",
            "stop\n"
          ]
        }
      ],
      "source": [
        "while True:\n",
        "    word = input('Enter a word: ')\n",
        "    if word == 'stop':\n",
        "      break\n",
        "print(word)"
      ]
    },
    {
      "cell_type": "markdown",
      "metadata": {
        "id": "bKSD1GE5da5p"
      },
      "source": [
        "## Don't forget to <font color='red'> **\"commit\"** </font> your work or <font color='red'> **\"save\"** </font> in Google Colab\n",
        "## before moving to the next section."
      ]
    },
    {
      "cell_type": "markdown",
      "metadata": {
        "id": "_QkEwNLvda5p"
      },
      "source": [
        "***\n",
        "## <p style=\"background-color: grey; color: white\">  ◼️ While-else for-else </p>\n",
        "# <p style=\"font-family: Arial; font-size:1.4em;color:red;\"> 6. while-else for-else </p>\n",
        "### While and for loop also has the \"else\" clause"
      ]
    },
    {
      "cell_type": "markdown",
      "metadata": {
        "id": "3L-A2lC5da5p"
      },
      "source": [
        "#### With the else statement we can run a block of code once when the condition no longer is true:"
      ]
    },
    {
      "cell_type": "code",
      "execution_count": 122,
      "metadata": {
        "id": "ybYNhoUmda5p",
        "outputId": "15482ea3-cb45-440f-c3c5-9cb29876550b",
        "colab": {
          "base_uri": "https://localhost:8080/"
        }
      },
      "outputs": [
        {
          "output_type": "stream",
          "name": "stdout",
          "text": [
            "1 2 3 4 5 6 7 8 9 \n",
            "i is no longer less than 10\n"
          ]
        }
      ],
      "source": [
        "i = 1\n",
        "while i < 10:\n",
        "  print(i, end=' ')\n",
        "  i += 1\n",
        "else:\n",
        "  print(\"\\ni is no longer less than 10\")"
      ]
    },
    {
      "cell_type": "markdown",
      "metadata": {
        "id": "s_YH_Wv6da5p"
      },
      "source": [
        "#### What is the difference with the following code?"
      ]
    },
    {
      "cell_type": "markdown",
      "metadata": {
        "id": "aDEzJZyDda5p"
      },
      "source": [
        "There is no difference between two while-loops."
      ]
    },
    {
      "cell_type": "code",
      "execution_count": 123,
      "metadata": {
        "id": "-1mhmz_jda5p",
        "outputId": "d3ca0fae-50e3-4082-cb3b-4e181ec120b0",
        "colab": {
          "base_uri": "https://localhost:8080/"
        }
      },
      "outputs": [
        {
          "output_type": "stream",
          "name": "stdout",
          "text": [
            "1 2 3 4 5 6 7 8 9 \n",
            "i is no longer less than 10\n"
          ]
        }
      ],
      "source": [
        "i = 1\n",
        "while i < 10:\n",
        "  print(i, end=' ')\n",
        "  i += 1\n",
        "print(\"\\ni is no longer less than 10\")"
      ]
    },
    {
      "cell_type": "markdown",
      "metadata": {
        "id": "7i9sO0IVda5p"
      },
      "source": [
        "#### <p style=\"font-family: Arial; font-size:1.4em; background-color: yellow; color:black;\"> Problem #6.1  </p>\n",
        "#### Run the following example to see the difference\n",
        "#### At the 1st try, use the input series 10, 15, 20, 25, 30\n",
        "#### At the 2nd try, use the input series 10, 15, -1 <font color='red'> ⚠️ \"else\" part will not be executed"
      ]
    },
    {
      "cell_type": "code",
      "execution_count": 124,
      "metadata": {
        "id": "fTlpaqUbda5p",
        "outputId": "0f6437bf-ff42-4806-c0e7-e335732c2084",
        "colab": {
          "base_uri": "https://localhost:8080/"
        }
      },
      "outputs": [
        {
          "output_type": "stream",
          "name": "stdout",
          "text": [
            "Enter a number: 4\n",
            "4 Enter a number: 2\n",
            "2 Enter a number: 5\n",
            "5 Enter a number: 6\n",
            "6 Enter a number: 7\n",
            "7 Executed while-else part\n"
          ]
        }
      ],
      "source": [
        "i = 0\n",
        "while i < 5:\n",
        "    number = int(input('Enter a number: '))\n",
        "    print (number, end= ' ')\n",
        "    if number == -1:\n",
        "        break\n",
        "    i += 1\n",
        "else:\n",
        "    print ('Executed while-else part')\n"
      ]
    },
    {
      "cell_type": "markdown",
      "metadata": {
        "id": "HHMaVBcrda5p"
      },
      "source": [
        "#### <p style=\"font-family: Arial; font-size:1.4em; background-color: yellow; color:black;\"> Problem #6.2  </p>\n",
        "#### Write a code to decide all the elements in the list are positive or not"
      ]
    },
    {
      "cell_type": "markdown",
      "metadata": {
        "id": "-LZq1GHTda5p"
      },
      "source": [
        "#### [Version 1]"
      ]
    },
    {
      "cell_type": "code",
      "execution_count": 126,
      "metadata": {
        "id": "4k25AejKda5p",
        "outputId": "dc03841e-3ed0-472d-9eea-9ce0d3d17145",
        "colab": {
          "base_uri": "https://localhost:8080/"
        }
      },
      "outputs": [
        {
          "output_type": "stream",
          "name": "stdout",
          "text": [
            "All elements are not positive value\n"
          ]
        }
      ],
      "source": [
        "mylist = [1,2,-3, 4, 5]\n",
        "\n",
        "flag = True\n",
        "for v in mylist:\n",
        "    if v < 0:\n",
        "        flag = False\n",
        "\n",
        "if flag:\n",
        "    print ('All elements are positive value')\n",
        "else:\n",
        "    print ('All elements are not positive value')"
      ]
    },
    {
      "cell_type": "markdown",
      "metadata": {
        "id": "bkpjBF7pda5q"
      },
      "source": [
        "#### [Version 2]\n",
        "#### for-else has advantage when you check the condition \"for all elements\""
      ]
    },
    {
      "cell_type": "code",
      "execution_count": 127,
      "metadata": {
        "id": "CozhJeygda5q",
        "outputId": "9f0d4f28-1a17-4ffa-e902-d029b8fa22c6",
        "colab": {
          "base_uri": "https://localhost:8080/"
        }
      },
      "outputs": [
        {
          "output_type": "stream",
          "name": "stdout",
          "text": [
            "All elements are not positive value\n"
          ]
        }
      ],
      "source": [
        "mylist = [1,2,-3, 4, 5]\n",
        "\n",
        "for v in mylist:\n",
        "    if v < 0:\n",
        "        print ('All elements are not positive value')\n",
        "        break\n",
        "else:\n",
        "    print ('All elements are positive value')"
      ]
    },
    {
      "cell_type": "markdown",
      "metadata": {
        "id": "h9aexLjhda5q"
      },
      "source": [
        "#### <p style=\"font-family: Arial; font-size:1.4em; background-color: yellow; color:black;\"> Problem #6.3  </p>\n",
        "#### Write a code to determine if the list contains an element that matches the input number"
      ]
    },
    {
      "cell_type": "code",
      "execution_count": 128,
      "metadata": {
        "id": "RcG1VnQXda5q",
        "colab": {
          "base_uri": "https://localhost:8080/"
        },
        "outputId": "d2e747b0-f232-41be-fff0-6f0a491194b1"
      },
      "outputs": [
        {
          "output_type": "stream",
          "name": "stdout",
          "text": [
            "Enter a number: 10\n",
            "The value 10 is in the list\n"
          ]
        }
      ],
      "source": [
        "number = int(input('Enter a number: '))\n",
        "mylist = [10, 12, 14, 16, 18, 20]\n",
        "\n",
        "for i in range(len(mylist)):\n",
        "    if number == mylist[i]:\n",
        "        print (f'The value {number} is in the list')\n",
        "        # complete the code\n",
        "        break\n",
        "else:\n",
        "    print (f'The value {number} is not in the list')"
      ]
    },
    {
      "cell_type": "markdown",
      "metadata": {
        "id": "xuY1J5u8da5q"
      },
      "source": [
        "## Don't forget to <font color='red'> **\"commit\"** </font> your work or <font color='red'> **\"save\"** </font> in Google Colab\n",
        "## before moving to the next section."
      ]
    },
    {
      "cell_type": "markdown",
      "metadata": {
        "id": "lzHIlp0Mda5q"
      },
      "source": [
        "***\n",
        "## <p style=\"background-color: grey; color: white\">  ◼️ Input Validation </p>\n",
        "# <p style=\"font-family: Arial; font-size:1.4em;color:red;\"> 7. Input Validation </p>"
      ]
    },
    {
      "cell_type": "markdown",
      "metadata": {
        "id": "dUneBr25da5q"
      },
      "source": [
        "#### Complete the following code segments and run it\n",
        "#### Figure out the code algorithms"
      ]
    },
    {
      "cell_type": "markdown",
      "metadata": {
        "id": "UlnooLmcda5q"
      },
      "source": [
        "#### Code that checks whether the input number is between 0 and 100"
      ]
    },
    {
      "cell_type": "code",
      "execution_count": 129,
      "metadata": {
        "id": "dNQeTDcIda5q",
        "outputId": "4e7f9ce1-1afe-41aa-a76c-6d7dbd988b43",
        "colab": {
          "base_uri": "https://localhost:8080/"
        }
      },
      "outputs": [
        {
          "output_type": "stream",
          "name": "stdout",
          "text": [
            "Enter your input55\n",
            "55\n"
          ]
        }
      ],
      "source": [
        "\n",
        "number = int(input('Enter your input'))\n",
        "\n",
        "while ( number < 0 or number > 100):\n",
        "\tnumber = int(input('The input should be between 0 and 100'))\n",
        "\n",
        "print (number)\n"
      ]
    },
    {
      "cell_type": "markdown",
      "metadata": {
        "id": "d-6Q9bDdda5q"
      },
      "source": [
        "#### Print a character until 'q' is entered\n"
      ]
    },
    {
      "cell_type": "code",
      "execution_count": 130,
      "metadata": {
        "id": "qP6Y6dTGda5q",
        "outputId": "0eabe3cf-3327-463a-a45b-6153dd386371",
        "colab": {
          "base_uri": "https://localhost:8080/"
        }
      },
      "outputs": [
        {
          "name": "stdout",
          "output_type": "stream",
          "text": [
            "Enter your characterr\n",
            "r Enter your characterq\n"
          ]
        }
      ],
      "source": [
        "user_char =  input('Enter your character')\n",
        "\n",
        "while( user_char != 'q'):\n",
        "\tprint (user_char, end=' ')\n",
        "\tuser_char =  input('Enter your character')\n"
      ]
    },
    {
      "cell_type": "markdown",
      "metadata": {
        "id": "heux51d2da5q"
      },
      "source": [
        "#### <p style=\"font-family: Arial; font-size:1.4em; background-color: yellow; color:black;\"> Problem #7.1  </p>\n",
        "#### Complete the code using \"try-except\" clause to decide whether the input causes an \"ValueError\" or not"
      ]
    },
    {
      "cell_type": "markdown",
      "metadata": {
        "id": "fV3rSGYfda5q"
      },
      "source": [
        "## Try-except statement\n",
        "> learn more about \"try-except\" throught the [link](https://docs.python.org/3/tutorial/errors.html) <br>\n",
        "> [another resource to learn try-except](https://python101.pythonlibrary.org/chapter7_exception_handling.html)\n",
        "#### Try to input the \"non integer value\" like a letter"
      ]
    },
    {
      "cell_type": "code",
      "execution_count": 131,
      "metadata": {
        "id": "CevzfhHEda5q",
        "outputId": "70cd3b74-63fc-439e-a7bb-7cc12578441a",
        "colab": {
          "base_uri": "https://localhost:8080/"
        }
      },
      "outputs": [
        {
          "output_type": "stream",
          "name": "stdout",
          "text": [
            "Enter a numbera\n",
            "Invalid input: Value Error\n",
            "10\n"
          ]
        }
      ],
      "source": [
        "try:\n",
        "\tuser_num = int(input('Enter a number'))\n",
        "except ValueError:\n",
        "\tprint ('Invalid input: Value Error')\n",
        "\n",
        "print (user_num)"
      ]
    },
    {
      "cell_type": "markdown",
      "metadata": {
        "id": "8AtOJTCfda5q"
      },
      "source": [
        "#### input a number until it is valid"
      ]
    },
    {
      "cell_type": "code",
      "execution_count": 133,
      "metadata": {
        "id": "_zAEGMPgda5q",
        "colab": {
          "base_uri": "https://localhost:8080/"
        },
        "outputId": "fe3450a6-4d5d-4b32-e23b-96be1cfabfb6"
      },
      "outputs": [
        {
          "output_type": "stream",
          "name": "stdout",
          "text": [
            "Enter a numberf\n",
            "Invalid input: Value Error\n",
            "Enter a numberv\n",
            "Invalid input: Value Error\n",
            "Enter a number7\n",
            "7\n"
          ]
        }
      ],
      "source": [
        "while True:\n",
        "\ttry:\n",
        "\t\tuser_num = int(input('Enter a number'))\n",
        "\texcept ValueError:\n",
        "\t\tprint ('Invalid input: Value Error')\n",
        "\t\tcontinue\n",
        "\telse:\n",
        "\t\tprint (user_num)\n",
        "\t\tbreak"
      ]
    },
    {
      "cell_type": "markdown",
      "metadata": {
        "id": "16n-ramwda5q"
      },
      "source": [
        "## Don't forget to <font color='red'> **\"commit\"** </font> your work or <font color='red'> **\"save\"** </font> in Google Colab\n",
        "## before moving to the next section."
      ]
    },
    {
      "cell_type": "markdown",
      "metadata": {
        "id": "aHeJ3IcTda5q"
      },
      "source": [
        "***\n",
        "## <p style=\"background-color:grey; color:white\">  ◼️ Nested Loop  </p>\n",
        "# <p style=\"font-family: Arial; font-size:1.4em;color:red;\"> 8. Nested Loop </p>\n",
        "\n",
        "#### Check out the following example codes and figure out the results\n"
      ]
    },
    {
      "cell_type": "markdown",
      "metadata": {
        "id": "DtOxVcSoda5q"
      },
      "source": [
        "#### All combinations of Set A (0, 1, 2) and Set B (0, 1, 2, 3, 4)\n",
        "```\n",
        "(0, 0) (0, 1) (0, 2) (0, 3) (0, 4)\n",
        "(1, 0) (1, 1) (1, 2) (1, 3) (1, 4)\n",
        "(2, 0) (2, 1) (2, 2) (2, 3) (2, 4)\n",
        "```"
      ]
    },
    {
      "cell_type": "code",
      "execution_count": null,
      "metadata": {
        "id": "eQpyL7Jida5r"
      },
      "outputs": [],
      "source": [
        "for i in range(3):\n",
        "    for j in range(5):\n",
        "        print (i, j)"
      ]
    },
    {
      "cell_type": "code",
      "execution_count": null,
      "metadata": {
        "id": "mzifP69pda5r"
      },
      "outputs": [],
      "source": [
        "for i in range(3):\n",
        "\tfor j in range(5):\n",
        "\t\tprint (f'({i}, {j})', end=' ')\n",
        "\tprint ()"
      ]
    },
    {
      "cell_type": "markdown",
      "metadata": {
        "id": "PWF8niDhda5r"
      },
      "source": [
        "#### <p style=\"font-family: Arial; font-size:1.4em; background-color: yellow; color:black;\"> Problem #8.1  </p>\n",
        "#### Complete the code in the nested for loop to print the result below\n",
        "```\n",
        "(0, 0) (0, 1) (0, 2)\n",
        "(1, 0) (1, 1) (1, 2)\n",
        "(2, 0) (2, 1) (2, 2)\n",
        "(3, 0) (3, 1) (3, 2)\n",
        "(4, 0) (4, 1) (4, 2)\n",
        "```\n"
      ]
    },
    {
      "cell_type": "code",
      "execution_count": null,
      "metadata": {
        "id": "GlouopYbda5r"
      },
      "outputs": [],
      "source": [
        "for i in range(# Complete the code):\n",
        "    for j in range(# Complete the code):\n",
        "        print (f'({i}, {j})', end=' ')\n",
        "    print()"
      ]
    },
    {
      "cell_type": "markdown",
      "metadata": {
        "id": "P7iHuTCEda5r"
      },
      "source": [
        "#### <p style=\"font-family: Arial; font-size:1.4em; background-color: yellow; color:black;\"> Problem #8.2  </p>\n",
        "#### Complete the code in the nested for loop to print the result below\n",
        "```\n",
        "(0, 0) (0, 1) (0, 2) (0, 3)\n",
        "(1, 0) (1, 1) (1, 2) (1, 3)\n",
        "(2, 0) (2, 1) (2, 2) (2, 3)\n",
        "```\n"
      ]
    },
    {
      "cell_type": "code",
      "execution_count": null,
      "metadata": {
        "id": "JrXzDhGcda5s"
      },
      "outputs": [],
      "source": [
        "for i in range(# Complete the code):\n",
        "    for j in range(# Complete the code):\n",
        "        print (f'({i}, {j})', end=' ')\n",
        "    print()"
      ]
    },
    {
      "cell_type": "markdown",
      "metadata": {
        "id": "wRsNVOyada5s"
      },
      "source": [
        "#### <p style=\"font-family: Arial; font-size:1.4em; background-color: yellow; color:black;\"> Problem #8.3  </p>\n",
        "#### Expect the output result before executing the code cell  \n",
        "```\n",
        "Explain the result. why?\n",
        "```\n"
      ]
    },
    {
      "cell_type": "code",
      "execution_count": null,
      "metadata": {
        "id": "oMOLf6NOda5s",
        "outputId": "8372232d-e242-4262-dfda-b5bf2778c4c1"
      },
      "outputs": [
        {
          "name": "stdout",
          "output_type": "stream",
          "text": [
            "(9,0) (9,1) (9,2) \n",
            "(8,0) (8,1) (8,2) \n",
            "(7,0) (7,1) (7,2) \n"
          ]
        }
      ],
      "source": [
        "for i in range(9,6,-1):\n",
        "\tfor j in range(3):\n",
        "\t\tprint (f'({i},{j})', end=' ')\n",
        "\tprint ()"
      ]
    },
    {
      "cell_type": "markdown",
      "metadata": {
        "id": "CrFI2cebda5s"
      },
      "source": [
        "#### Your answer:\n",
        "#### What is the output? Why?\n",
        "***"
      ]
    },
    {
      "cell_type": "code",
      "execution_count": null,
      "metadata": {
        "id": "79iP0TDMda5s"
      },
      "outputs": [],
      "source": [
        "for i in range(5):\n",
        "\tfor j in range(i, 5):\n",
        "\t\tprint (f'({i},{j})', end=' ')\n",
        "\tprint()"
      ]
    },
    {
      "cell_type": "markdown",
      "metadata": {
        "id": "4cQm6JTdda5s"
      },
      "source": [
        "#### Your answer:\n",
        "#### What is the output? Why?\n",
        "***"
      ]
    },
    {
      "cell_type": "code",
      "execution_count": null,
      "metadata": {
        "id": "7MI_pHJTda5s"
      },
      "outputs": [],
      "source": [
        "for i in range(3):\n",
        "\tfor j in range(i,3):\n",
        "\t\tprint (f'({i},{j})', end=' ')\n",
        "\tprint ( )"
      ]
    },
    {
      "cell_type": "markdown",
      "metadata": {
        "id": "xGtogCEpda5s"
      },
      "source": [
        "#### Your answer:\n",
        "#### What is the output? Why?\n",
        "***"
      ]
    },
    {
      "cell_type": "code",
      "execution_count": null,
      "metadata": {
        "id": "NI1dKi0nda5s"
      },
      "outputs": [],
      "source": [
        "for i in range(5):\n",
        "\tfor j in range(0, i):\n",
        "\t\tprint (f'({i},{j})', end=' ')\n",
        "\tprint ( )"
      ]
    }
  ],
  "metadata": {
    "interpreter": {
      "hash": "a614fddea9d37e019a720cc724ab725ff28be4e0e64e91a691a8738e1909110d"
    },
    "kernelspec": {
      "display_name": "Python 3.9.7 64-bit ('base': conda)",
      "language": "python",
      "name": "python3"
    },
    "language_info": {
      "codemirror_mode": {
        "name": "ipython",
        "version": 3
      },
      "file_extension": ".py",
      "mimetype": "text/x-python",
      "name": "python",
      "nbconvert_exporter": "python",
      "pygments_lexer": "ipython3",
      "version": "3.9.17"
    },
    "orig_nbformat": 4,
    "colab": {
      "provenance": []
    }
  },
  "nbformat": 4,
  "nbformat_minor": 0
}