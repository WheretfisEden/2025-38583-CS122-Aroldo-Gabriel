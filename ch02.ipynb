{
  "cells": [
    {
      "cell_type": "markdown",
      "metadata": {
        "id": "GLOaHjZXaHzV"
      },
      "source": [
        "# <p style=\"font-family: Arial; font-size:2.4em;color:red;\"> Contents </p>\n",
        "*[Section 1. Arithmetic Operator](ch02.ipynb/#section1) <br>\n",
        "*[Section 2. Variables ](#section2) <br>\n",
        "*[Section 3. Output in Python ](#section3) <br>\n",
        "*[Section 4. Input Statement ](#section4) <br>\n",
        "*[Section 5. String ](#section5) <br>\n",
        "***"
      ]
    },
    {
      "cell_type": "markdown",
      "metadata": {
        "id": "TbOjQBpjaHzW"
      },
      "source": [
        "***\n",
        "<a id=\"section1\"></a>\n",
        "# <p style=\"font-family: Arial; font-size:2.4em;color:red;\"> 1. Arithmetic Operator </p>\n",
        "### <p style=\"font-family: Arial; font-size:1.4em;color:gold;\">  +, -, *, / , // </p>\n"
      ]
    },
    {
      "cell_type": "markdown",
      "metadata": {
        "id": "jumNiNhzaHzX"
      },
      "source": [
        "### Run all the blow code cells and see the results (click the cell and press \"ctrl-enter\" to run it)"
      ]
    },
    {
      "cell_type": "markdown",
      "metadata": {
        "id": "74C2_KJZaHzX"
      },
      "source": [
        "#### **Problem #1.0**\n",
        "\n",
        "Run the below code cell and figure out the data type of values\n",
        "<br>\n"
      ]
    },
    {
      "cell_type": "code",
      "source": [],
      "metadata": {
        "id": "-TxXxEOaaLJ8"
      },
      "execution_count": null,
      "outputs": []
    },
    {
      "cell_type": "code",
      "execution_count": null,
      "metadata": {
        "colab": {
          "base_uri": "https://localhost:8080/"
        },
        "id": "lKI8Z77XaHzX",
        "outputId": "9d8cac1a-2ce4-4f98-fbb0-ef1879e84630"
      },
      "outputs": [
        {
          "output_type": "execute_result",
          "data": {
            "text/plain": [
              "30"
            ]
          },
          "metadata": {},
          "execution_count": 1
        }
      ],
      "source": [
        "10 + 20"
      ]
    },
    {
      "cell_type": "code",
      "execution_count": null,
      "metadata": {
        "colab": {
          "base_uri": "https://localhost:8080/"
        },
        "id": "SeuaJKw4aHzX",
        "outputId": "fe41df77-cb34-4229-cc09-a616dcfed255"
      },
      "outputs": [
        {
          "output_type": "execute_result",
          "data": {
            "text/plain": [
              "30.0"
            ]
          },
          "metadata": {},
          "execution_count": 2
        }
      ],
      "source": [
        "10.0 + 20.0"
      ]
    },
    {
      "cell_type": "code",
      "execution_count": null,
      "metadata": {
        "colab": {
          "base_uri": "https://localhost:8080/"
        },
        "id": "YORRQvmNaHzY",
        "outputId": "ff394bd3-535f-4423-cd36-f7d53decca43"
      },
      "outputs": [
        {
          "output_type": "execute_result",
          "data": {
            "text/plain": [
              "200"
            ]
          },
          "metadata": {},
          "execution_count": 3
        }
      ],
      "source": [
        "10 * 20"
      ]
    },
    {
      "cell_type": "code",
      "execution_count": null,
      "metadata": {
        "colab": {
          "base_uri": "https://localhost:8080/"
        },
        "id": "nO8Y478faHzY",
        "outputId": "f28a8af5-1ef3-4bb8-8e06-3a2b966e6ccb"
      },
      "outputs": [
        {
          "output_type": "execute_result",
          "data": {
            "text/plain": [
              "0.5"
            ]
          },
          "metadata": {},
          "execution_count": 4
        }
      ],
      "source": [
        "10 / 20"
      ]
    },
    {
      "cell_type": "code",
      "execution_count": null,
      "metadata": {
        "colab": {
          "base_uri": "https://localhost:8080/"
        },
        "id": "hFS38fG4aHzY",
        "outputId": "560e7519-a9dd-4c63-a637-7cd6439e96a1"
      },
      "outputs": [
        {
          "output_type": "execute_result",
          "data": {
            "text/plain": [
              "0"
            ]
          },
          "metadata": {},
          "execution_count": 5
        }
      ],
      "source": [
        "10 // 20"
      ]
    },
    {
      "cell_type": "code",
      "execution_count": null,
      "metadata": {
        "colab": {
          "base_uri": "https://localhost:8080/"
        },
        "id": "ePY0TBjYaHzY",
        "outputId": "777f380b-7b1e-4c6c-c59d-8a4e8d3d6a86"
      },
      "outputs": [
        {
          "output_type": "execute_result",
          "data": {
            "text/plain": [
              "2"
            ]
          },
          "metadata": {},
          "execution_count": 6
        }
      ],
      "source": [
        "5 * 10 // 20"
      ]
    },
    {
      "cell_type": "code",
      "execution_count": null,
      "metadata": {
        "colab": {
          "base_uri": "https://localhost:8080/"
        },
        "id": "1ZneEUaDaHzY",
        "outputId": "d7ca9ece-e026-49fe-84d5-1f35abcd216a"
      },
      "outputs": [
        {
          "output_type": "execute_result",
          "data": {
            "text/plain": [
              "150"
            ]
          },
          "metadata": {},
          "execution_count": 7
        }
      ],
      "source": [
        "5 * 30 + 10 // 20"
      ]
    },
    {
      "cell_type": "code",
      "execution_count": null,
      "metadata": {
        "colab": {
          "base_uri": "https://localhost:8080/"
        },
        "id": "tbjZQrz8aHzY",
        "outputId": "1eecf484-ac8f-4fbd-c8d3-724a9c9741ab"
      },
      "outputs": [
        {
          "output_type": "execute_result",
          "data": {
            "text/plain": [
              "75.0"
            ]
          },
          "metadata": {},
          "execution_count": 8
        }
      ],
      "source": [
        "5 * 30 / 2"
      ]
    },
    {
      "cell_type": "code",
      "execution_count": null,
      "metadata": {
        "colab": {
          "base_uri": "https://localhost:8080/"
        },
        "id": "TSK0xU1XaHzY",
        "outputId": "ede7cd2f-7a57-47a9-91dd-445212e53936"
      },
      "outputs": [
        {
          "output_type": "execute_result",
          "data": {
            "text/plain": [
              "3"
            ]
          },
          "metadata": {},
          "execution_count": 9
        }
      ],
      "source": [
        "75 // 20"
      ]
    },
    {
      "cell_type": "code",
      "execution_count": null,
      "metadata": {
        "colab": {
          "base_uri": "https://localhost:8080/"
        },
        "id": "eQpHV1ShaHzY",
        "outputId": "8650fed7-9fba-40c8-c519-d748e75d7416"
      },
      "outputs": [
        {
          "output_type": "execute_result",
          "data": {
            "text/plain": [
              "3.0"
            ]
          },
          "metadata": {},
          "execution_count": 10
        }
      ],
      "source": [
        "5 * 30 / 2 // 20"
      ]
    },
    {
      "cell_type": "markdown",
      "metadata": {
        "id": "9qzwM90uaHzZ"
      },
      "source": [
        "#### **Problem #1.1**\n",
        "\n",
        "Complete the follow code cells\n",
        "<br>\n"
      ]
    },
    {
      "cell_type": "markdown",
      "metadata": {
        "id": "cgLiGCr9aHzZ"
      },
      "source": [
        "#### Let's multiply 24.0 and 25.4"
      ]
    },
    {
      "cell_type": "code",
      "execution_count": null,
      "metadata": {
        "colab": {
          "base_uri": "https://localhost:8080/"
        },
        "id": "vgU58ElgaHzZ",
        "outputId": "a9163bb3-f99d-48e1-a7c4-1fe0979c4194"
      },
      "outputs": [
        {
          "output_type": "execute_result",
          "data": {
            "text/plain": [
              "609.5999999999999"
            ]
          },
          "metadata": {},
          "execution_count": 12
        }
      ],
      "source": [
        "24.0 * 25.4"
      ]
    },
    {
      "cell_type": "markdown",
      "metadata": {
        "id": "CI79UG6faHzZ"
      },
      "source": [
        "#### **Problem #1.2**"
      ]
    },
    {
      "cell_type": "markdown",
      "metadata": {
        "id": "ZvHknQjzaHzZ"
      },
      "source": [
        "#### Let's divide 23 by 2"
      ]
    },
    {
      "cell_type": "code",
      "execution_count": null,
      "metadata": {
        "colab": {
          "base_uri": "https://localhost:8080/"
        },
        "id": "LvY7JdlfaHzZ",
        "outputId": "ea51ef71-8294-4e04-a5c3-4180f46ce4e6"
      },
      "outputs": [
        {
          "output_type": "execute_result",
          "data": {
            "text/plain": [
              "11.5"
            ]
          },
          "metadata": {},
          "execution_count": 13
        }
      ],
      "source": [
        "23 / 2"
      ]
    },
    {
      "cell_type": "markdown",
      "metadata": {
        "id": "5bO-6N9uaHzZ"
      },
      "source": [
        "#### **Problem #1.3**"
      ]
    },
    {
      "cell_type": "markdown",
      "metadata": {
        "id": "se0Ig1CoaHzZ"
      },
      "source": [
        "#### Let's divide 100 by 20. Show the result as an integer value like 5, not 5.0"
      ]
    },
    {
      "cell_type": "code",
      "execution_count": null,
      "metadata": {
        "colab": {
          "base_uri": "https://localhost:8080/"
        },
        "id": "2DLkQlTWaHzZ",
        "outputId": "ed1ae6a5-aa71-4375-cdc6-c8015a3e05f9"
      },
      "outputs": [
        {
          "output_type": "stream",
          "name": "stdout",
          "text": [
            "5\n"
          ]
        }
      ],
      "source": [
        "print (int(100 / 20))"
      ]
    },
    {
      "cell_type": "markdown",
      "metadata": {
        "id": "yA0uMV0oaHza"
      },
      "source": [
        "#### **Problem #1.4**"
      ]
    },
    {
      "cell_type": "markdown",
      "metadata": {
        "id": "KXBPjY0WaHza"
      },
      "source": [
        "### Explain how you can get the integer result 5 from 100 divide by 20"
      ]
    },
    {
      "cell_type": "markdown",
      "metadata": {
        "id": "OU0iNbRTaHza"
      },
      "source": [
        "#### Your answer here\n",
        "when the python terminal computes the input, it naturally outputs a float, which are numbers with decimal points. If I wanted a whole interger, id have to command the computer by directly assigning the \"int\" function to a variable, which returns an interger like 5, instead of a float like 5.0."
      ]
    },
    {
      "cell_type": "markdown",
      "metadata": {
        "id": "TRWNEveraHza"
      },
      "source": [
        "## 👉 Please save<font color='red'> **(ctrl-s or cmd-s)** </font> your file to make a checkpoint."
      ]
    },
    {
      "cell_type": "markdown",
      "metadata": {
        "id": "_IJFlwz6aHza"
      },
      "source": [
        "***\n",
        "<a id=\"section2\"></a>\n",
        "# <p style=\"font-family: Arial; font-size:2.4em;color:red;\"> 2. Variables</p>\n",
        "\n",
        "#### Concepts:\n",
        "<blockquote> A variable is a name that represents a value stored in the computer’s memory.\n",
        "</blockquote>\n"
      ]
    },
    {
      "cell_type": "markdown",
      "metadata": {
        "id": "Dl0ks17LaHza"
      },
      "source": [
        "<blockquote>\n",
        "An assignment statement is written in the following general format:\n",
        "variable = expression\n",
        "</blockquote>"
      ]
    },
    {
      "cell_type": "code",
      "execution_count": null,
      "metadata": {
        "id": "kitzd08UaHza"
      },
      "outputs": [],
      "source": [
        "width = 10\n",
        "length = 5\n",
        "\n",
        "length = 10"
      ]
    },
    {
      "cell_type": "code",
      "execution_count": null,
      "metadata": {
        "id": "sOxObBj0aHza"
      },
      "outputs": [],
      "source": [
        "class_name = 'Python'\n",
        "class_name"
      ]
    },
    {
      "cell_type": "markdown",
      "metadata": {
        "id": "yPoo0dXnaHza"
      },
      "source": [
        "#### **Problem #2.0**\n",
        "\n",
        "Run the below code cell and figure out the data type of values\n",
        "<br>\n"
      ]
    },
    {
      "cell_type": "code",
      "execution_count": null,
      "metadata": {
        "colab": {
          "base_uri": "https://localhost:8080/"
        },
        "id": "oCcY1GdYaHza",
        "outputId": "050d35fe-7451-4288-c189-cbf2e17e5e7c"
      },
      "outputs": [
        {
          "output_type": "execute_result",
          "data": {
            "text/plain": [
              "int"
            ]
          },
          "metadata": {},
          "execution_count": 20
        }
      ],
      "source": [
        "width = 100\n",
        "type(width)"
      ]
    },
    {
      "cell_type": "code",
      "execution_count": null,
      "metadata": {
        "colab": {
          "base_uri": "https://localhost:8080/"
        },
        "id": "BtJNamQ7aHzb",
        "outputId": "9425debc-7623-4c22-a7f1-3d1935203c30"
      },
      "outputs": [
        {
          "output_type": "execute_result",
          "data": {
            "text/plain": [
              "str"
            ]
          },
          "metadata": {},
          "execution_count": 22
        }
      ],
      "source": [
        "class_name = \"Css122\"\n",
        "type(class_name)"
      ]
    },
    {
      "cell_type": "code",
      "execution_count": null,
      "metadata": {
        "colab": {
          "base_uri": "https://localhost:8080/"
        },
        "id": "Wv98eb82aHzb",
        "outputId": "76a19132-e2e2-4567-9d5e-02a3dffeecb2"
      },
      "outputs": [
        {
          "output_type": "stream",
          "name": "stdout",
          "text": [
            "Hello World\n"
          ]
        }
      ],
      "source": [
        "print (\"Hello World\")"
      ]
    },
    {
      "cell_type": "markdown",
      "metadata": {
        "id": "HWRKZKINaHzb"
      },
      "source": [
        "#### **Problem #2.1**\n",
        "\n",
        "\n",
        "let's create a variable called `my_school` and assign a string (anything inside quotes: `\"...\"`) to it with your school's name.\n",
        "\n",
        "<br>\n",
        "\n",
        "**NOTE**: We will output the variable's value by writing the name of the variable on a line of its own."
      ]
    },
    {
      "cell_type": "code",
      "execution_count": null,
      "metadata": {
        "colab": {
          "base_uri": "https://localhost:8080/"
        },
        "id": "RT_LRj2saHzb",
        "outputId": "defc9454-d08d-4ada-ddca-e074cd8874c4"
      },
      "outputs": [
        {
          "output_type": "stream",
          "name": "stdout",
          "text": [
            "AVC\n"
          ]
        }
      ],
      "source": [
        "my_school =\"AVC\"\n",
        "\n",
        "print (my_school)"
      ]
    },
    {
      "cell_type": "markdown",
      "metadata": {
        "id": "FCTHjoqLaHzb"
      },
      "source": [
        "#### **Problem #2.2**\n",
        "\n",
        "Let's create <font color=\"red\"> two varibles </font> to hold two scores 100 and 90 repectivelu and show the sum of two scores.\n",
        "<br>\n",
        "\n",
        "**NOTE**: We will output the variable's value by writing the name of the variable on a line of its own."
      ]
    },
    {
      "cell_type": "code",
      "execution_count": null,
      "metadata": {
        "colab": {
          "base_uri": "https://localhost:8080/"
        },
        "id": "McPBDakBaHzb",
        "outputId": "6bf8e14b-a860-4c2c-969f-bb76bfdca6af"
      },
      "outputs": [
        {
          "output_type": "stream",
          "name": "stdout",
          "text": [
            "190\n"
          ]
        }
      ],
      "source": [
        "\n",
        "score1 = int(100)\n",
        "score2 = int(90)\n",
        "# complete this code to show the sum of two scores\n",
        "print (score1 + score2)"
      ]
    },
    {
      "cell_type": "markdown",
      "metadata": {
        "id": "ZAfbPekbaHzd"
      },
      "source": [
        "#### **Problem #2.3**\n",
        "\n",
        "Let's create the <font color=\"red\"> **varibles** </font> to hold two values,  <br>\n",
        "100  <br>\n",
        "50.99   <br>\n",
        "<br>\n",
        "The variable names can be any names you want\n",
        "Then, show the summation of two variables.\n",
        "\n",
        "**NOTE**: We will output the variable's value by writing the name of the variable on a line of its own."
      ]
    },
    {
      "cell_type": "code",
      "execution_count": null,
      "metadata": {
        "colab": {
          "base_uri": "https://localhost:8080/"
        },
        "id": "HWveNjMfaHzd",
        "outputId": "2a2144f5-f950-451a-a27d-1672e89ce3c4"
      },
      "outputs": [
        {
          "output_type": "stream",
          "name": "stdout",
          "text": [
            "150.99\n"
          ]
        }
      ],
      "source": [
        "\n",
        "# complete this code = 100\n",
        "rand_num1 = 100\n",
        "# Complete this code = 50.99\n",
        "rand_num2 = 50.99\n",
        "# complete this code to show the sum of two values\n",
        "print (rand_num1 + rand_num2)"
      ]
    },
    {
      "cell_type": "markdown",
      "metadata": {
        "id": "XVFT8qWDaHzd"
      },
      "source": [
        "#### **Problem #2.4**\n",
        "\n",
        "Let's create the <font color=\"red\"> **varibles** </font> to hold two values,  <br>\n",
        "<br><mark style=\"background-color:green; color:white\">\n",
        "Python  <br>\n",
        "Programming   <br>\n",
        "</mark>\n",
        "<br> </font>\n",
        "The variable names can be any names you want\n",
        "Then, show the summation of two variables.\n",
        "\n",
        "**NOTE**: We will output the variable's value by writing the name of the variable on a line of its own."
      ]
    },
    {
      "cell_type": "code",
      "execution_count": null,
      "metadata": {
        "colab": {
          "base_uri": "https://localhost:8080/"
        },
        "id": "6QIbOBh-aHzd",
        "outputId": "43caaca0-c6bd-4034-bc40-59558722a4b4"
      },
      "outputs": [
        {
          "output_type": "stream",
          "name": "stdout",
          "text": [
            "python Programming\n"
          ]
        }
      ],
      "source": [
        "\n",
        "# complete this code to hold the values \"Python\"\n",
        "str1 = \"python \"\n",
        "# complete this code to hold the values \"Programming\"\n",
        "str2 = \"Programming\"\n",
        "# complete this code to show the sum of two values\n",
        "print (str1 + str2)"
      ]
    },
    {
      "cell_type": "markdown",
      "metadata": {
        "id": "fa4s6aFaaHzd"
      },
      "source": [
        "#### **Problem #2.5**\n",
        "\n",
        "#### make the expression to calculate the following math expression\n",
        "#### Set 30 to C and Solve the F value\n",
        "![Math Expression](https://wecapable.com/tools/celsius-to-fahrenheit/celsius-to-fahrenheit-conversion-formula-igetanswers.jpg)\n",
        "\n",
        "<br> Show the answer for F\n"
      ]
    },
    {
      "cell_type": "code",
      "execution_count": null,
      "metadata": {
        "colab": {
          "base_uri": "https://localhost:8080/"
        },
        "id": "MS9_PyOCaHzd",
        "outputId": "73e367d1-5b3a-4c1c-ce31-d3ddcde7b6f3"
      },
      "outputs": [
        {
          "output_type": "stream",
          "name": "stdout",
          "text": [
            "Enter Temperature In Celsius Here: 30\n",
            "Temperature in Fahrenheit: 86.0\n"
          ]
        }
      ],
      "source": [
        "C = float(input(\"Enter Temperature In Celsius Here: \"))\n",
        "f = (9/5)*C + 32\n",
        "# complete this code\n",
        "print (\"Temperature in Fahrenheit:\" , f)"
      ]
    },
    {
      "cell_type": "markdown",
      "metadata": {
        "id": "JWInRwvkaHzd"
      },
      "source": [
        "#### **Problem #2.6**\n",
        "\n",
        "#### Set the price value $200 to your variable (any variable name you want)\n",
        "#### Calculate the 20% off price\n",
        "#### Show the final price\n",
        "\n"
      ]
    },
    {
      "cell_type": "code",
      "execution_count": null,
      "metadata": {
        "colab": {
          "base_uri": "https://localhost:8080/"
        },
        "id": "kA1lEFlKaHzd",
        "outputId": "93440a91-e10b-4894-bb3c-0917ba0b141a"
      },
      "outputs": [
        {
          "output_type": "stream",
          "name": "stdout",
          "text": [
            "Final Price: 40.0\n"
          ]
        }
      ],
      "source": [
        "price = 200\n",
        "discount = 0.2\n",
        "final_price = price * discount\n",
        "# complete your code\n",
        "print (\"Final Price:\", final_price)"
      ]
    },
    {
      "cell_type": "markdown",
      "metadata": {
        "id": "QTR-HjaWaHzd"
      },
      "source": [
        "#### **Problem #2.7**\n",
        "\n",
        "#### Create three integer variables to hold the following values\n",
        "##### 100\n",
        "##### 50\n",
        "##### 200\n",
        "\n",
        "#### Calculate the average of three values\n",
        "#### Show the average\n",
        "\n"
      ]
    },
    {
      "cell_type": "code",
      "execution_count": null,
      "metadata": {
        "colab": {
          "base_uri": "https://localhost:8080/"
        },
        "id": "K2TRdr6DaHzd",
        "outputId": "709a769b-87ff-4e19-d6ca-35c6d9ee4d4c"
      },
      "outputs": [
        {
          "output_type": "stream",
          "name": "stdout",
          "text": [
            "Average:  116.67\n"
          ]
        }
      ],
      "source": [
        "num1 = 100\n",
        "num2 = 50\n",
        "num3 = 200\n",
        "# complete this code\n",
        "avg = float((num1 + num2 + num3) / 3)\n",
        "print (\"Average:\" , f'{avg : .2f}')"
      ]
    },
    {
      "cell_type": "markdown",
      "metadata": {
        "id": "XMeeSRayaHze"
      },
      "source": [
        "## 👉 Please save<font color='red'> **(ctrl-s or cmd-s)** </font> your file to make a checkpoint."
      ]
    },
    {
      "cell_type": "markdown",
      "metadata": {
        "id": "rgAlI1cqaHze"
      },
      "source": [
        "***\n",
        "<a id='section3'></a>\n",
        "# <p style=\"font-family: Arial; font-size:2.4em;color:Red;\"> 3. Output in Python </p>\n"
      ]
    },
    {
      "cell_type": "markdown",
      "metadata": {
        "id": "Z2jfMjK2aHze"
      },
      "source": [
        "### Simple Formatting Numbers\n",
        "\n",
        "\n",
        "- `Simple way to print with format:`\n",
        "\n",
        "\t- <a href=\"https://docs.python.org/3/library/functions.html?highlight=format#format\"> format(value[, format_spec])\n",
        "\t</a>\n",
        "\t- <a href=\"https://docs.python.org/3/library/string.html#formatspec\"> Format Specification </a>\n",
        "\n",
        "![Format Specifier](https://nimbus-screenshots.s3.amazonaws.com/s/cc0c0ec7efc3aba9bc4406f053b8fdf4.png)\n"
      ]
    },
    {
      "cell_type": "markdown",
      "metadata": {
        "id": "e9RtcH8EaHze"
      },
      "source": [
        "#### <font color='red'> **Problem #3.1** </font>\n",
        "\n",
        "#### Run all the below cells and figure out the output format symbols\n",
        "\n"
      ]
    },
    {
      "cell_type": "markdown",
      "metadata": {
        "id": "9JXLb4-kaHze"
      },
      "source": [
        "### <mark style=\"background-color:green; color:white\"> formatting </mark>"
      ]
    },
    {
      "cell_type": "code",
      "execution_count": null,
      "metadata": {
        "colab": {
          "base_uri": "https://localhost:8080/"
        },
        "id": "sv6YVCYwaHze",
        "outputId": "9420382d-a1dd-4edc-bb71-94b12aead94d"
      },
      "outputs": [
        {
          "output_type": "stream",
          "name": "stdout",
          "text": [
            "123456789\n",
            "      123456789\n",
            "12345.68\n"
          ]
        }
      ],
      "source": [
        "# Format with width, Decimal / Float\n",
        "\n",
        "print (123456789 )\n",
        "print (format(123456789, '15d'))\n",
        "print (format(12345.678, '.2f'))\n"
      ]
    },
    {
      "cell_type": "code",
      "execution_count": null,
      "metadata": {
        "colab": {
          "base_uri": "https://localhost:8080/"
        },
        "id": "iuKaVq6HaHze",
        "outputId": "de0f1446-d2ca-4d46-d0a0-7a569431dc17"
      },
      "outputs": [
        {
          "output_type": "stream",
          "name": "stdout",
          "text": [
            "1.234568e+04\n",
            "1.23e+04\n"
          ]
        }
      ],
      "source": [
        "# Scientific Notation\n",
        "\n",
        "print (format(12345.6789, 'e'))\n",
        "print (format(12345.6789, '.2e'))\n"
      ]
    },
    {
      "cell_type": "code",
      "execution_count": null,
      "metadata": {
        "colab": {
          "base_uri": "https://localhost:8080/"
        },
        "id": "x7THRh3CaHze",
        "outputId": "416f09ea-ee8b-47f9-b396-8e59947e29f2"
      },
      "outputs": [
        {
          "output_type": "stream",
          "name": "stdout",
          "text": [
            "123,456,789.12\n"
          ]
        }
      ],
      "source": [
        "#? Inserting comma separator\n",
        "\n",
        "print (format(123456789.12345, ',.2f'))\n"
      ]
    },
    {
      "cell_type": "code",
      "execution_count": null,
      "metadata": {
        "colab": {
          "base_uri": "https://localhost:8080/"
        },
        "id": "VRpuQ8uKaHze",
        "outputId": "1ccbee22-8513-4f7f-85b9-7a7065fdcc9b"
      },
      "outputs": [
        {
          "output_type": "stream",
          "name": "stdout",
          "text": [
            "1234567.89%\n"
          ]
        }
      ],
      "source": [
        "#? Floating point numbers as a percentage\n",
        "\n",
        "print (format(12345.6789, '.2%'))"
      ]
    },
    {
      "cell_type": "markdown",
      "metadata": {
        "id": "r_WShxQJaHze"
      },
      "source": [
        "### <mark style=\"background-color:green; color:white\"> % formatting </mark>"
      ]
    },
    {
      "cell_type": "code",
      "execution_count": null,
      "metadata": {
        "colab": {
          "base_uri": "https://localhost:8080/"
        },
        "id": "pDenrmO6aHze",
        "outputId": "afac1cc7-c247-48b4-ccda-84f4f48e2823"
      },
      "outputs": [
        {
          "output_type": "stream",
          "name": "stdout",
          "text": [
            "Value 1 is 1000\n"
          ]
        }
      ],
      "source": [
        "val1 =  1000\n",
        "print (\"Value 1 is %d\" % (val1))"
      ]
    },
    {
      "cell_type": "code",
      "execution_count": null,
      "metadata": {
        "colab": {
          "base_uri": "https://localhost:8080/"
        },
        "id": "XoC4KbDhaHze",
        "outputId": "3b6d13cb-9ee3-42fd-e94b-8170e8d64e75"
      },
      "outputs": [
        {
          "output_type": "stream",
          "name": "stdout",
          "text": [
            "Integer value: 100, String Value: COMSC140, Floating Value:1234.57\n"
          ]
        }
      ],
      "source": [
        "\n",
        "val1 = 100\n",
        "val2 = 1234.5678\n",
        "strval = \"COMSC140\"\n",
        "\n",
        "print (\"Integer value: %d, String Value: %s, Floating Value:%.2f\" % (val1, strval, val2))"
      ]
    },
    {
      "cell_type": "markdown",
      "metadata": {
        "id": "VnrUYa7UaHze"
      },
      "source": [
        "#### <mark style=\"background-color:green; color:white\"> Using the String format </mark>"
      ]
    },
    {
      "cell_type": "code",
      "execution_count": null,
      "metadata": {
        "colab": {
          "base_uri": "https://localhost:8080/"
        },
        "id": "vcyiNTcTaHze",
        "outputId": "4907d455-ee0b-4c45-df6c-514ce05261c8"
      },
      "outputs": [
        {
          "output_type": "stream",
          "name": "stdout",
          "text": [
            "Python Programming Class\n"
          ]
        }
      ],
      "source": [
        "print ( '{0} {1} Class'.format('Python', 'Programming'))"
      ]
    },
    {
      "cell_type": "code",
      "execution_count": null,
      "metadata": {
        "colab": {
          "base_uri": "https://localhost:8080/"
        },
        "id": "VxS3O1LCaHze",
        "outputId": "1473c9c0-d8fb-4b3b-a5ee-0d502f72ce77"
      },
      "outputs": [
        {
          "output_type": "stream",
          "name": "stdout",
          "text": [
            "                   Python Programming     Class\n"
          ]
        }
      ],
      "source": [
        "print ( '{0:>25} {1:15} Class'.format('Python', 'Programming'))"
      ]
    },
    {
      "cell_type": "code",
      "execution_count": null,
      "metadata": {
        "colab": {
          "base_uri": "https://localhost:8080/"
        },
        "id": "puQ9o8XkaHze",
        "outputId": "f7b969ee-1670-47d8-d082-5ce07e51b5cb"
      },
      "outputs": [
        {
          "output_type": "stream",
          "name": "stdout",
          "text": [
            "This spam is absolutely horrible.\n"
          ]
        }
      ],
      "source": [
        "print('This {food} is {adjective}.'.format(food='spam', adjective='absolutely horrible'))"
      ]
    },
    {
      "cell_type": "code",
      "execution_count": null,
      "metadata": {
        "colab": {
          "base_uri": "https://localhost:8080/"
        },
        "id": "hvHj_sIjaHzf",
        "outputId": "c23af5de-2776-4e9b-83c6-3c142d30482f"
      },
      "outputs": [
        {
          "output_type": "stream",
          "name": "stdout",
          "text": [
            "Value 1: 100 and Value 2: 200\n"
          ]
        }
      ],
      "source": [
        "v1 = 100; v2 = 200\n",
        "\n",
        "print (\"Value 1: {} and Value 2: {}\".format(v1, v2))"
      ]
    },
    {
      "cell_type": "code",
      "execution_count": null,
      "metadata": {
        "colab": {
          "base_uri": "https://localhost:8080/"
        },
        "id": "bhAGIOQBaHzf",
        "outputId": "827e30a6-151a-4159-d87c-d3f98522f703"
      },
      "outputs": [
        {
          "output_type": "stream",
          "name": "stdout",
          "text": [
            "The average is 56.67 \n",
            "The average is 56.67 \n",
            "The average is 60.00\n"
          ]
        }
      ],
      "source": [
        "avg = (100 + 50 + 20) / 3\n",
        "\n",
        "print (\"The average is {0:.2f} \".format(avg))\n",
        "print (\"The average is {:.2f} \".format(avg))\n",
        "\n",
        "print('The average is {0:.2f}'.format(59.999999))"
      ]
    },
    {
      "cell_type": "code",
      "execution_count": null,
      "metadata": {
        "colab": {
          "base_uri": "https://localhost:8080/"
        },
        "id": "7jaxCeTHaHzf",
        "outputId": "8c5f441c-ab71-49fe-9b90-59785334e2c6"
      },
      "outputs": [
        {
          "output_type": "stream",
          "name": "stdout",
          "text": [
            "12345.68\n",
            "     12345\n",
            "1.234568e+04\n",
            "1.23e+04\n",
            "1234567.89%\n"
          ]
        }
      ],
      "source": [
        "print ( format(12345.6789, '.2f'))\n",
        "print ( format(12345, '10d'))\n",
        "print ( format(12345.6789, 'e'))\n",
        "print ( format(12345.6789, '.2e'))\n",
        "print ( format(12345.6789, '.2%'))"
      ]
    },
    {
      "cell_type": "code",
      "execution_count": null,
      "metadata": {
        "colab": {
          "base_uri": "https://localhost:8080/"
        },
        "id": "UsxM7T3VaHzf",
        "outputId": "cdfd849f-1e52-4979-8a79-bf70f625218b"
      },
      "outputs": [
        {
          "output_type": "stream",
          "name": "stdout",
          "text": [
            "one\n",
            "two\n",
            "three\n",
            "one two three one/two/three\n"
          ]
        }
      ],
      "source": [
        "# 2.8 More about Data output\n",
        "\n",
        "print ('one')\n",
        "print ('two')\n",
        "print ('three')\n",
        "\n",
        "print ('one', end=' ')\n",
        "print ('two', end=' ')\n",
        "print ('three', end=' ')\n",
        "\n",
        "#? Specifying an Item Separator\n",
        "print ('one', 'two', 'three', sep='/')\n"
      ]
    },
    {
      "cell_type": "markdown",
      "metadata": {
        "id": "gJWN9kOBaHzf"
      },
      "source": [
        "## 👉✅ <mark style=\"background-color:green; color:white\"> PEP 498; f-string </mark>"
      ]
    },
    {
      "cell_type": "code",
      "execution_count": null,
      "metadata": {
        "colab": {
          "base_uri": "https://localhost:8080/"
        },
        "id": "aB1k09QmaHzf",
        "outputId": "254afdef-f20e-4cdc-cdbe-8f5f3ac46a0a"
      },
      "outputs": [
        {
          "output_type": "stream",
          "name": "stdout",
          "text": [
            "The value is 10\n",
            "The value is                   10\n",
            "The value is      12.34\n",
            "The value is 12.34000\n",
            "The string value is                                 Python Programming\n"
          ]
        }
      ],
      "source": [
        "value = 10\n",
        "\n",
        "print (f'The value is {value}')\n",
        "print (f'The value is {value:20}')\n",
        "\n",
        "fvalue = 12.34\n",
        "print (f'The value is {fvalue:>10}')\n",
        "print (f'The value is {fvalue:.5f}')\n",
        "\n",
        "strval = \"Python Programming\"\n",
        "print (f\"The string value is {strval:>50}\")"
      ]
    },
    {
      "cell_type": "markdown",
      "metadata": {
        "id": "27f79nT8aHzf"
      },
      "source": [
        "***\n",
        "### Operators\n",
        "![Operators](https://p76.f0.n0.cdn.getcloudapp.com/items/6quEZnzo/bd9ed612-c454-488d-99e3-47237866c01e.jpg?source=viewer&v=6133a6ca78498b57666506941afd8a12)"
      ]
    },
    {
      "cell_type": "markdown",
      "metadata": {
        "id": "5fOgRF37aHzf"
      },
      "source": [
        "## 👉 Please save<font color='red'> **(ctrl-s or cmd-s)** </font> your file to make a checkpoint."
      ]
    },
    {
      "cell_type": "markdown",
      "metadata": {
        "id": "-rbxxHdXaHzf"
      },
      "source": [
        "***\n",
        "<a id='section4'> </a>\n",
        "# <p style=\"font-family: Arial; font-size:2.4em;color:Red;\"> 4. Input Statement </p>\n",
        "\n",
        "<blockquote>\n",
        "variable = input(prompt)\n",
        "</blockquote>"
      ]
    },
    {
      "cell_type": "markdown",
      "metadata": {
        "id": "rQqMhZBNaHzf"
      },
      "source": [
        "#### **Problem #4.0**\n",
        "\n",
        "#### Run all the following codes and see the results\n",
        "#### <font color=\"red\">\"Where does the input box appear?\" </font>"
      ]
    },
    {
      "cell_type": "code",
      "execution_count": null,
      "metadata": {
        "colab": {
          "base_uri": "https://localhost:8080/"
        },
        "id": "IdQziQlnaHzf",
        "outputId": "e11378ba-8f28-4c34-86fa-d864d8209087"
      },
      "outputs": [
        {
          "output_type": "stream",
          "name": "stdout",
          "text": [
            "Enter your score2\n",
            "Your score is  2\n"
          ]
        }
      ],
      "source": [
        "score = input('Enter your score')\n",
        "print ('Your score is ', score)\n"
      ]
    },
    {
      "cell_type": "code",
      "execution_count": null,
      "metadata": {
        "id": "O9bUh7ZeaHzf"
      },
      "outputs": [],
      "source": [
        "score = input ('Enter your score')\n",
        "final_score = score + 100;\t\t# this line causes an error\n",
        "\n",
        "print (final_score)"
      ]
    },
    {
      "cell_type": "code",
      "execution_count": null,
      "metadata": {
        "id": "Ru_ko4dZaHzg",
        "outputId": "e68277c2-e649-4f15-82fd-7e6896b18b2a"
      },
      "outputs": [
        {
          "name": "stdout",
          "output_type": "stream",
          "text": [
            "Final Scoe is        200\n"
          ]
        }
      ],
      "source": [
        "score = input ('Enter your score')\n",
        "final_score = int(score) + 100;\t\t# this line causes an error\n",
        "\n",
        "print (f'Final Score is {final_score:10}')"
      ]
    },
    {
      "cell_type": "markdown",
      "metadata": {
        "id": "Z0r9mUkcaHzg"
      },
      "source": [
        "#### **Problem #4.1**\n",
        "<ol>\n",
        "<li> <font color=\"red\"> Ask the user name and score </font> </li>\n",
        "<li> Print the name and score </li>\n",
        "</ol>"
      ]
    },
    {
      "cell_type": "code",
      "execution_count": 4,
      "metadata": {
        "id": "3KDHfKnRaHzg",
        "outputId": "e78da19f-2ad7-483e-8636-f507f1a867b6",
        "colab": {
          "base_uri": "https://localhost:8080/"
        }
      },
      "outputs": [
        {
          "name": "stdout",
          "output_type": "stream",
          "text": [
            "Enter your name dog\n",
            "Enter your score 10\n"
          ]
        }
      ],
      "source": [
        "name = input('Enter your name ')\n",
        "score = int(input('Enter your score '))\n",
        "# complete the code"
      ]
    },
    {
      "cell_type": "markdown",
      "metadata": {
        "id": "qafI1yssaHzg"
      },
      "source": [
        "#### **Problem #4.2**\n",
        "<ol>\n",
        "<li> <font color=\"red\"> Ask two scores </font> </li>\n",
        "<li> Print all the scores, summation and average </li>\n",
        "</ol>\n",
        "\n",
        "<ul>\n",
        "<li> Why should we use the funtion <font color=\"red\"> int()</font> for the scores? </li>\n",
        "</ul>"
      ]
    },
    {
      "cell_type": "code",
      "execution_count": 6,
      "metadata": {
        "id": "QJbUKUaeaHzg",
        "outputId": "952556be-f603-46f4-870d-f9c3f4eda3e5",
        "colab": {
          "base_uri": "https://localhost:8080/"
        }
      },
      "outputs": [
        {
          "output_type": "stream",
          "name": "stdout",
          "text": [
            "Enter the score 1:20\n",
            "Enter the score 2: 20\n",
            "Score 1: 20        , Score 2: 20        , Average: 20.00     \n"
          ]
        }
      ],
      "source": [
        "score1 = int(input('Enter the score 1:'))\n",
        "score2 = int(input('Enter the score 2: '))\n",
        "avg = (score1 + score2)/2\n",
        "# Complete the code\n",
        "print (f'Score 1: {score1:<10}, Score 2: {score2:<10}, Average: {avg:<10.2f}')\n"
      ]
    },
    {
      "cell_type": "markdown",
      "metadata": {
        "id": "-JsLLaXOaHzg"
      },
      "source": [
        "#### **Problem #4.3**\n",
        "<ol>\n",
        "<li> Ask the regular price\n",
        "<li> Ask the discount rate as a percentage(e.g, 30)</li>\n",
        "<li> Calcurate the final price ( Regular price * discount_rate / 100 ) </li>\n",
        "<li> Print Regular Prices, Discount Rate and Final Price with F-String format </li>\n",
        "</ol>\n",
        "<ul>\n",
        "<li> For example, print (f'Regular Price: {rprice:10}, Discount Rate: {drate:10}, Final Price: {fprice}) </li>\n",
        "</ul>"
      ]
    },
    {
      "cell_type": "code",
      "execution_count": 9,
      "metadata": {
        "id": "NiM3MlEuaHzg",
        "outputId": "09869924-d595-46f3-cf9e-c2e17374ad11",
        "colab": {
          "base_uri": "https://localhost:8080/"
        }
      },
      "outputs": [
        {
          "output_type": "stream",
          "name": "stdout",
          "text": [
            "Enter the Regular Price: 1000\n",
            "Enter the Discount Rate: 50\n",
            "Regular Price: 1000      , Discount Rate: 0.5       , Final Price: 500.0     \n"
          ]
        }
      ],
      "source": [
        "# Complete the code\n",
        "reg_price = int(input(\"Enter the Regular Price: \"))\n",
        "discount_rate = int(input(\"Enter the Discount Rate: \"))\n",
        "discount_rate = float(discount_rate / 100)\n",
        "final_price = reg_price * discount_rate\n",
        "print (f'Regular Price: {reg_price:<10}, Discount Rate: {discount_rate:<10}, Final Price: {final_price:<10}')\n"
      ]
    },
    {
      "cell_type": "markdown",
      "metadata": {
        "id": "2Ar7H3PBaHzg"
      },
      "source": [
        "#### **Problem #4.4**\n",
        "<ol>\n",
        "<li> Ask the regular price\n",
        "<li> Ask the discount rate as a percentage(e.g, 30)</li>\n",
        "<li> Calcurate the discount price ( Regular price * discount_rate / 100 ) </li>\n",
        "<li> Print Regular Prices, Discount Rate and Final Price with F-String format </li>\n",
        "</ol>\n",
        "<ul>\n",
        "<li> For example, </li>\n",
        "<pre>\n",
        "print (f'Regular Price: {rprice:10}, Discount Rate: {drate:10}, Final Price: {fprice})\n",
        "<pre>\n",
        "</ul>"
      ]
    },
    {
      "cell_type": "code",
      "execution_count": null,
      "metadata": {
        "id": "pJkpj8zMaHzg"
      },
      "outputs": [],
      "source": []
    },
    {
      "cell_type": "markdown",
      "metadata": {
        "id": "hQh5DG7KaHzg"
      },
      "source": [
        "#### **Problem #4.5**\n",
        "<ol>\n",
        "<li> Ask the celcius temperature(<font color=\"red\">floating value</font>) to the user\n",
        "<li> Calculate the Farenheit Temperature </li>\n",
        "<li> Print the Celcius and Farenheit Temperature with F-String format. Show the two practional digits </li>\n",
        "</ol>\n",
        "<ul>\n",
        "<li> For example, </li>\n",
        "<pre>\n",
        "print (f'Inputted Celcius: {celcius:10.2f}, Converted Fahrenhiet: {fahrenheit:10.2f}')\n",
        "<pre>\n",
        "</ul>"
      ]
    },
    {
      "cell_type": "code",
      "execution_count": null,
      "metadata": {
        "id": "qWf3C-qzaHzg"
      },
      "outputs": [],
      "source": [
        "# Complete the code\n",
        "# Print the output with F-string format(2 digits after decimal points)\n",
        "# e.g,  95.75"
      ]
    },
    {
      "cell_type": "markdown",
      "metadata": {
        "id": "T18a0w7zaHzg"
      },
      "source": [
        "#### **Problem #4.6**\n",
        "\n",
        "<ol>\n",
        "<li> Ask the last name to the user </li>\n",
        "<li> Ask the first name to the user </li>\n",
        "<li> Print the first and last name in the seprated line </li>\n",
        "</ol>"
      ]
    },
    {
      "cell_type": "code",
      "execution_count": null,
      "metadata": {
        "id": "k-1i9TPsaHzg"
      },
      "outputs": [],
      "source": [
        "# Complete your code\n",
        "fname = input('Enter the last name')\n",
        "lname = input('Enter the first name')\n",
        "# print (f' First name: {fname} \\n Last name: {lname}')"
      ]
    },
    {
      "cell_type": "markdown",
      "metadata": {
        "id": "d9fFuxAaaHzh"
      },
      "source": [
        "## 👉 Please save<font color='red'> **(ctrl-s or cmd-s)** </font> your file to make a checkpoint."
      ]
    },
    {
      "cell_type": "markdown",
      "metadata": {
        "id": "qbA-65czaHzh"
      },
      "source": [
        "<a id=section5></a>\n",
        "# <p style=\"font-family: Arial; font-size:2.4em;color:Red;\"> 5. String </p>\n",
        "<mark style=\"background-color:teal; color:white\"> Useful Links </mark>\n",
        "#### <a href=\"https://docs.python.org/3/library/stdtypes.html#string-methods\"> String Method in Python Documentation </a>\n",
        "#### <a href=\"https://www.w3schools.com/python/python_ref_string.asp\"> W3 School Examples </a>"
      ]
    },
    {
      "cell_type": "markdown",
      "metadata": {
        "id": "m0agOALnaHzh"
      },
      "source": [
        "#### <p style=\"font-family: Arial; font-size:1.4em; background-color: yellow; color:black;\"> Problem #5.1 </p>\n",
        "<ul>\n",
        "<li> Run all the example code cells below\n",
        "</ul>"
      ]
    },
    {
      "cell_type": "markdown",
      "metadata": {
        "id": "p6SEzTPMaHzh"
      },
      "source": [
        "#### The string value can be accessed by <mark style=\"background-color:yellow; color:black\">index</mark>\n",
        "\n",
        "#### String variable can be followed by all the <mark style=\"background-color:yellow; color:black\"> string methods.</mark>\n"
      ]
    },
    {
      "cell_type": "code",
      "execution_count": null,
      "metadata": {
        "id": "txJKnd0taHzh"
      },
      "outputs": [],
      "source": [
        "cname = \"Python Programming\"\n",
        "\n",
        "print (cname)\n",
        "print (cname[:6])\n",
        "print (cname[:-11])\n",
        "print (cname[:-1])\n",
        "\n",
        "\n",
        "print (cname.split(\" \"))\n",
        "print (cname.split()[0])\n",
        "print (cname.split()[1])"
      ]
    },
    {
      "cell_type": "markdown",
      "metadata": {
        "id": "LsY5-QAWaHzh"
      },
      "source": [
        "### String Methods Examples\n"
      ]
    },
    {
      "cell_type": "code",
      "execution_count": null,
      "metadata": {
        "id": "pTtU7e4naHzh"
      },
      "outputs": [],
      "source": [
        "string1 = 'Python Programming Livermore'\n",
        "substring = 'py'\n",
        "\n",
        "city = 'Livermore'\n",
        "cnt = string1.count(city)\n",
        "print ('Number of {1} occurrence {0}'.format(cnt, city))\n",
        "print (f'Number of {cnt:10} occurrence {city:10}')\n",
        "\n",
        "idx = string1.find('Livermore')\n",
        "print ('Index of Livermore', idx)\n",
        "idx = string1.find('Livermore', 8)\n",
        "print ('Index of Livermore', idx)\n",
        "\n",
        "print (string1[idx:idx+len(city)])\n"
      ]
    },
    {
      "cell_type": "code",
      "execution_count": null,
      "metadata": {
        "id": "sOkouZzfaHzh"
      },
      "outputs": [],
      "source": [
        "\n",
        "languages = 'Python, Java, C++, Ruby, Rail, Java Script, PHP, Go, Gotlin'\n",
        "list_languages = languages.split(',')\n",
        "\n",
        "print (list_languages)\n",
        "print (list_languages[0])\n"
      ]
    },
    {
      "cell_type": "markdown",
      "metadata": {
        "id": "AqM_0p5GaHzh"
      },
      "source": [
        "#### strip() methods"
      ]
    },
    {
      "cell_type": "code",
      "execution_count": null,
      "metadata": {
        "id": "M5f9QKudaHzh"
      },
      "outputs": [],
      "source": [
        "strval = 'Python Programming    '\n",
        "## strval has the additional spaces after values\n",
        "\n",
        "strval = strval.strip() # now, the spaces after string value have been stripped\n",
        "strval"
      ]
    },
    {
      "cell_type": "code",
      "execution_count": null,
      "metadata": {
        "id": "QwW9Ze8PaHzh"
      },
      "outputs": [],
      "source": [
        "\n",
        "## rstrip\n",
        "\n",
        "blank_padded_str = \"    Python   \"\n",
        "print (blank_padded_str)\n",
        "rstripped_str = blank_padded_str.rstrip(' ')\n",
        "print (rstripped_str)\n",
        "\n",
        "lstripped_str = blank_padded_str.lstrip(' ')\n",
        "print (lstripped_str)\n",
        "\n",
        "garbage_padded = '   Pyhton_+$?....'\n",
        "rstripped_str = garbage_padded.rstrip('_+?.')\n"
      ]
    },
    {
      "cell_type": "markdown",
      "metadata": {
        "id": "gK06MOoXaHzh"
      },
      "source": [
        "## isalnum, isalpha, isdigit, isnumeric"
      ]
    },
    {
      "cell_type": "code",
      "execution_count": null,
      "metadata": {
        "id": "djDWSkMOaHzh"
      },
      "outputs": [],
      "source": [
        "\n",
        "val1 = 'Python'\n",
        "print (val1.isalpha())\n",
        "val1 = 'Python3'\n",
        "print (val1.isalpha())\n",
        "\n",
        "\n",
        "val2 = '94543'\n",
        "print (val2.isnumeric())\n",
        "print (val2.isdigit())\n",
        "print (val2.isdecimal())\n",
        "\n"
      ]
    },
    {
      "cell_type": "code",
      "execution_count": null,
      "metadata": {
        "id": "riH1z5uDaHzh"
      },
      "outputs": [],
      "source": [
        "original_str = input('Enter your string')\n",
        "word_str = input('Enter the serach keyword')\n",
        "\n",
        "idx = original_str.find(word_str)\n",
        "print (original_str[idx: idx+len(word_str)])\n",
        "\n"
      ]
    },
    {
      "cell_type": "markdown",
      "metadata": {
        "id": "SMMYtAjNaHzh"
      },
      "source": [
        "## split()"
      ]
    },
    {
      "cell_type": "code",
      "execution_count": null,
      "metadata": {
        "id": "hs3HntO0aHzh"
      },
      "outputs": [],
      "source": [
        "strval = \"Python Java PHP C++ R SQL\"\n",
        "strval.split()"
      ]
    },
    {
      "cell_type": "code",
      "execution_count": null,
      "metadata": {
        "id": "-NxHoDd9aHzi"
      },
      "outputs": [],
      "source": [
        "strval = \"Python Java PHP C++ R SQL\"\n",
        "strval = strval.split()\n",
        "print (strval)"
      ]
    },
    {
      "cell_type": "markdown",
      "metadata": {
        "id": "dJowq8WXaHzi"
      },
      "source": [
        "#### <p style=\"font-family: Arial; font-size:1.4em; background-color: yellow; color:black;\"> Problem #5.2 </p>\n",
        "> <p> 1. Print the first name from the given names using the indices  </p>"
      ]
    },
    {
      "cell_type": "code",
      "execution_count": null,
      "metadata": {
        "id": "-tli1R-QaHzi",
        "outputId": "e5dad3d3-3813-42a1-d67a-a20bd4eb5c68"
      },
      "outputs": [
        {
          "data": {
            "text/plain": [
              "'John'"
            ]
          },
          "execution_count": 28,
          "metadata": {},
          "output_type": "execute_result"
        }
      ],
      "source": [
        "name = \"John Doe\"\n",
        "fname = name[:4]\n",
        "fname"
      ]
    },
    {
      "cell_type": "markdown",
      "metadata": {
        "id": "IgFzlPWUaHzi"
      },
      "source": [
        "> 2. Print the last name from the given name using the indices"
      ]
    },
    {
      "cell_type": "code",
      "execution_count": null,
      "metadata": {
        "id": "ehPnOPS_aHzi"
      },
      "outputs": [],
      "source": [
        "lname = # complete this code"
      ]
    },
    {
      "cell_type": "markdown",
      "metadata": {
        "id": "8PgP2c-0aHzi"
      },
      "source": [
        "> 3. Create a new variable that holds the last and first name, like \"Doe John\""
      ]
    },
    {
      "cell_type": "code",
      "execution_count": null,
      "metadata": {
        "id": "iLUJohBRaHzi"
      },
      "outputs": [],
      "source": [
        "new_name = # complete the code"
      ]
    },
    {
      "cell_type": "markdown",
      "metadata": {
        "id": "CqZcnlVEaHzi"
      },
      "source": [
        "#### <p style=\"font-family: Arial; font-size:1.4em; background-color: yellow; color:black;\"> Problem #5.3 </p>\n",
        "> <p> 1. Find the index of first space in the name </p>"
      ]
    },
    {
      "cell_type": "code",
      "execution_count": null,
      "metadata": {
        "id": "hoJ5ZBS8aHzi"
      },
      "outputs": [],
      "source": [
        "name = 'Jane Doe'\n",
        "found_index = name.find(' ')\n",
        "found_index"
      ]
    },
    {
      "cell_type": "markdown",
      "metadata": {
        "id": "oqYjlU0JaHzi"
      },
      "source": [
        "> <p> 2. Find the index of the symbol '@' in the email string </p>"
      ]
    },
    {
      "cell_type": "code",
      "execution_count": null,
      "metadata": {
        "id": "iI-HXIGoaHzi"
      },
      "outputs": [],
      "source": [
        "email_str = 'John@company.com'\n",
        "idx = # complete the code"
      ]
    },
    {
      "cell_type": "markdown",
      "metadata": {
        "id": "zliTCyAcaHzi"
      },
      "source": [
        "> <p> 3. Find the 2nd index of the symbol '.' in the email string </p>"
      ]
    },
    {
      "cell_type": "code",
      "execution_count": null,
      "metadata": {
        "id": "7aCVR482aHzi"
      },
      "outputs": [],
      "source": [
        "email_str = 'noreply@database.company.edu'\n",
        "idx_dot = # complete the code"
      ]
    },
    {
      "cell_type": "markdown",
      "metadata": {
        "id": "cLEUEGGKaHzi"
      },
      "source": [
        "> <p> 4. Does the email ID '2myemail' start with alphabet ? </p>\n",
        "- Use the method <mark> isalpha() </mark>"
      ]
    },
    {
      "cell_type": "code",
      "execution_count": null,
      "metadata": {
        "id": "s8H_k6X9aHzi"
      },
      "outputs": [],
      "source": [
        "email_id = '2myemail'\n",
        "result = email_id[0].isalpha()\n",
        "print (result)"
      ]
    },
    {
      "cell_type": "markdown",
      "metadata": {
        "id": "IYNmC-JlaHzi"
      },
      "source": [
        "> <p> 5. Does the email ID 'myemail.1234' include non-alphabet letters ? </p>\n",
        "- Use the method <mark> isalpha() </mark>"
      ]
    },
    {
      "cell_type": "code",
      "execution_count": null,
      "metadata": {
        "id": "KMfGUvcOaHzi"
      },
      "outputs": [],
      "source": [
        "email_id = 'myemail.1234'\n",
        "result = # complete this code"
      ]
    },
    {
      "cell_type": "markdown",
      "metadata": {
        "id": "JO9LZS-oaHzi"
      },
      "source": [
        "> <p> 6. Does the email ID 'myemail.1234' end with the digit? </p>\n",
        "- Use the method <mark> isalpha() </mark>"
      ]
    },
    {
      "cell_type": "code",
      "execution_count": null,
      "metadata": {
        "id": "874UCOl9aHzi"
      },
      "outputs": [],
      "source": [
        "email_id = 'myeamil.1234'\n",
        "result = # complete this code"
      ]
    },
    {
      "cell_type": "markdown",
      "metadata": {
        "id": "APxvGBiOaHzj"
      },
      "source": [
        "#### <p style=\"font-family: Arial; font-size:1.4em; background-color: yellow; color:black;\"> Problem #5.4 </p>"
      ]
    },
    {
      "cell_type": "markdown",
      "metadata": {
        "id": "omGCAyM5aHzj"
      },
      "source": [
        "> <p> 1. Split this word 'Python C++ HTML PHP JAVA\" by the space\n",
        "- Use the method <mark> split() </mark>"
      ]
    },
    {
      "cell_type": "code",
      "execution_count": null,
      "metadata": {
        "id": "0Lu9CYoQaHzj"
      },
      "outputs": [],
      "source": [
        "original_str = 'Python C++ HTML PHP JAVA'\n",
        "split_str = original_str.split()\n",
        "print (split_str)"
      ]
    },
    {
      "cell_type": "markdown",
      "metadata": {
        "id": "9NEwaWpMaHzj"
      },
      "source": [
        "> <p> 2. Split the word 'John/Jane/Doe/Smith/Tom' by the '/'\n",
        "- Use the method <mark> split() </mark>"
      ]
    },
    {
      "cell_type": "code",
      "execution_count": null,
      "metadata": {
        "id": "10ZPlRAtaHzj"
      },
      "outputs": [],
      "source": [
        "original_str = 'John/Jane/Doe/Smith/Tom'\n",
        "split_str =  # complete the code\n",
        "split_str"
      ]
    },
    {
      "cell_type": "markdown",
      "metadata": {
        "id": "433V7z89aHzj"
      },
      "source": [
        "> <p> 3. Merge the string 'first', 'second' and 'third' with the space between each word\n",
        "- Use the operator <mark> + </mark>"
      ]
    },
    {
      "cell_type": "code",
      "execution_count": null,
      "metadata": {
        "id": "GgSnDVNraHzj"
      },
      "outputs": [],
      "source": [
        "str1 = 'first'\n",
        "str2 = 'second'\n",
        "str3 = 'third'\n",
        "merged_str = # complete the code\n",
        "merged_str\n",
        "# It must print 'first second third'"
      ]
    },
    {
      "cell_type": "markdown",
      "metadata": {
        "id": "KKpaz8MYaHzj"
      },
      "source": [
        "## 👉 Please save<font color='red'> **(ctrl-s or cmd-s)** </font> your file to make a checkpoint."
      ]
    }
  ],
  "metadata": {
    "kernelspec": {
      "display_name": "base",
      "language": "python",
      "name": "python3"
    },
    "language_info": {
      "codemirror_mode": {
        "name": "ipython",
        "version": 3
      },
      "file_extension": ".py",
      "mimetype": "text/x-python",
      "name": "python",
      "nbconvert_exporter": "python",
      "pygments_lexer": "ipython3",
      "version": "3.9.17"
    },
    "orig_nbformat": 4,
    "vscode": {
      "interpreter": {
        "hash": "32cd87c0c55905266dc8232ebf1148f668af0d9324249c125246585210a29cd6"
      }
    },
    "colab": {
      "provenance": []
    }
  },
  "nbformat": 4,
  "nbformat_minor": 0
}