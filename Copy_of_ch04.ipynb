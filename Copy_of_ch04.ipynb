{
  "cells": [
    {
      "cell_type": "markdown",
      "metadata": {
        "id": "view-in-github",
        "colab_type": "text"
      },
      "source": [
        "<a href=\"https://colab.research.google.com/github/WheretfisEden/2025-38583-CS122-Aroldo-Gabriel/blob/main/Copy_of_ch04.ipynb\" target=\"_parent\"><img src=\"https://colab.research.google.com/assets/colab-badge.svg\" alt=\"Open In Colab\"/></a>"
      ]
    },
    {
      "cell_type": "markdown",
      "metadata": {
        "id": "ScnCh48QdA1I"
      },
      "source": [
        "<img src=\"https://nimbus-screenshots.s3.amazonaws.com/s/85a61d1e5ea3b6f4e340944f58844dd2.png\" width=640>\n",
        "\n",
        "</a>\n",
        "# <p style=\"font-family: Arial; font-size:1.4em;color:red;\"> Chapter 4. Repetition Structures </p>"
      ]
    },
    {
      "cell_type": "markdown",
      "metadata": {
        "id": "xZ4v5KcFdA1I"
      },
      "source": [
        "***\n",
        "\n",
        "## <p style=\"background-color: grey; color: white \"> ◼️  While loop </p>\n",
        "# <p style=\"font-family: Arial; font-size:1.4em;color:red;\"> 1. Basic While-loop Structures</p>\n"
      ]
    },
    {
      "cell_type": "markdown",
      "metadata": {
        "id": "QtQD9zy7dA1I"
      },
      "source": [
        "#### <p style=\"font-family: Arial; font-size:1.4em; background-color: yellow; color:black;\"> Problem #1.0 </p>\n",
        "\n",
        "#### Run all the cells and figure out the basic usage of while loop structure"
      ]
    },
    {
      "cell_type": "code",
      "execution_count": null,
      "metadata": {
        "id": "A7dPP5xydA1J"
      },
      "outputs": [],
      "source": [
        "i = 0\n",
        "while (i < 10):\n",
        "\ti = i + 1\n",
        "\tprint (i, end=' ')"
      ]
    },
    {
      "cell_type": "code",
      "execution_count": null,
      "metadata": {
        "id": "XmWdmGtAdA1J"
      },
      "outputs": [],
      "source": [
        "i = 0\n",
        "while ( i< 10):\n",
        "\tprint (i, end=' ')\n",
        "\ti = i + 1"
      ]
    },
    {
      "cell_type": "code",
      "execution_count": null,
      "metadata": {
        "id": "yW3EvBNFdA1J"
      },
      "outputs": [],
      "source": [
        "i = 0\n",
        "while ( i < 10):\n",
        "\tprint (i, end=' ')\n",
        "\ti = i + 2"
      ]
    },
    {
      "cell_type": "code",
      "execution_count": null,
      "metadata": {
        "id": "vQpBfs5DdA1J"
      },
      "outputs": [],
      "source": [
        "i = 10\n",
        "while ( i > 0):\n",
        "\tprint (i, end=' ')\n",
        "\ti = i - 1"
      ]
    },
    {
      "cell_type": "markdown",
      "metadata": {
        "id": "vzNZ4jShdA1J"
      },
      "source": [
        "#### <p style=\"font-family: Arial; font-size:1.4em; background-color: yellow; color:black;\"> Problem #1.1 </p>\n",
        "\n",
        "#### Complete the code to print the numbers from 10 to 20 with the step 2 (10, 12, ...20)\n",
        "> Use the while loop"
      ]
    },
    {
      "cell_type": "code",
      "execution_count": null,
      "metadata": {
        "id": "KZhNFP3LdA1J"
      },
      "outputs": [],
      "source": [
        "begin = 10\n",
        "end = 20\n",
        "\n",
        "while # complete the code"
      ]
    },
    {
      "cell_type": "markdown",
      "metadata": {
        "id": "hV8XWH-4dA1K"
      },
      "source": [
        "#### <p style=\"font-family: Arial; font-size:1.4em; background-color: yellow; color:black;\"> Problem #1.2 </p>\n",
        "\n",
        "#### Complete the code to print the numbers from the input value 'begin' to another input 'end'.\n",
        "> Use the while loop  <br>\n",
        "\n",
        "<font color='red'> Note: the input value 'begin' can be greater than 'end'. <br>\n",
        "if begin > end, print all the values from 'begin' to 'end' in decreasing order\n",
        "</font>"
      ]
    },
    {
      "cell_type": "code",
      "execution_count": null,
      "metadata": {
        "id": "D193kjaodA1K"
      },
      "outputs": [],
      "source": [
        "begin = int(input('Enter the starting value: '))\n",
        "end = int(input('Enter the end value: '))\n",
        "\n",
        "# Complete the code to print from begin to end\n",
        "while # complete the code\n"
      ]
    },
    {
      "cell_type": "markdown",
      "metadata": {
        "id": "wU7iq_r4dA1K"
      },
      "source": [
        "#### <p style=\"font-family: Arial; font-size:1.4em; background-color: yellow; color:black;\"> Problem #1.3 </p>\n",
        "\n",
        "#### Complete the code to print the 9 multiplication numbers from the given input value 'num'\n",
        "> For example, if the input \"num\" is 3, this code will print <br>\n",
        "> 3 6 9 12 15 18 21 24 27 <br>\n",
        "> Use the while loop  <br>"
      ]
    },
    {
      "cell_type": "code",
      "execution_count": null,
      "metadata": {
        "id": "ON1ezXpSdA1K"
      },
      "outputs": [],
      "source": [
        "num = int(input('Enter a number: '))\n",
        "\n",
        "while # complete the code"
      ]
    },
    {
      "cell_type": "markdown",
      "metadata": {
        "id": "zZDqR2EPdA1K"
      },
      "source": [
        "#### <p style=\"font-family: Arial; font-size:1.4em; background-color: yellow; color:black;\"> Problem #1.4 </p>\n",
        "\n",
        "#### Complete the code to print all numbers\n",
        "#### from 'start' to 'end' if 'start' < 'end'\n",
        "#### from 'end' to 'start' if 'end' < 'start'\n",
        "> For example, if start = 3, end = 5, it will print 3 4 5 <br>\n",
        "> if start = 10, end = 7, it will print 7 8 9 10  <br>\n",
        "> Use the <font color='red'> while loop </font> <br>"
      ]
    },
    {
      "cell_type": "markdown",
      "metadata": {
        "id": "s6ltBtZadA1K"
      },
      "source": [
        "#### <p style=\"font-family: Arial; font-size:1.4em; background-color: yellow; color:black;\"> Problem #1.5 </p>\n",
        "\n",
        "#### Complete the code to print all numbers\n",
        "#### from 'start' to 'end' if 'start' < 'end'\n",
        "#### from 'end' to 'start' if 'end' < 'start'\n",
        "> For example, if start = 3, end = 5, it will print 3 4 5 <br>\n",
        "> if start = 10, end = 7, it will print 7 8 9 10  <br>\n",
        "> Use the <font color='red'> while loop </font> <br>"
      ]
    },
    {
      "cell_type": "code",
      "execution_count": null,
      "metadata": {
        "id": "tGj9gyQtdA1K"
      },
      "outputs": [],
      "source": [
        "start = int(input('Enter a number: '))\n",
        "end = int(input('Enter a number: '))\n",
        "\n",
        "# complete the code"
      ]
    },
    {
      "cell_type": "markdown",
      "metadata": {
        "id": "sd2kgldRdA1K"
      },
      "source": [
        "#### <p style=\"font-family: Arial; font-size:1.4em; background-color: yellow; color:black;\"> Problem #1.6 </p>\n",
        "\n",
        "#### Complete the code to get the summation of 1 to the input 'num'\n",
        "> For example, if num = 5, it will print 15 because 1+2+3+4+5=15 <br>\n",
        "> if num = 10, it will print 55 because 1+2+3+4+5+6+7+8+9+10<br>\n",
        "> Use the <font color='red'> while loop </font> <br>"
      ]
    },
    {
      "cell_type": "code",
      "execution_count": null,
      "metadata": {
        "id": "UqpDUx-sdA1K"
      },
      "outputs": [],
      "source": [
        "num = int(input('Enter a number: '))\n",
        "val = 1\n",
        "total = 0\n",
        "while val <= num:\n",
        "    total += val\n",
        "    val += 1\n",
        "print (f'The total from 1 to {num} is {total}')\n"
      ]
    },
    {
      "cell_type": "markdown",
      "metadata": {
        "id": "YrMbRscAdA1K"
      },
      "source": [
        "#### <p style=\"font-family: Arial; font-size:1.4em; background-color: yellow; color:black;\"> Problem #1.7 </p>\n",
        "\n",
        "#### Complete the code to get the summation between 'start'(inclusive) and 'end'(inclusive)\n",
        "#### Assume that 'start' < 'end'  \n",
        "> For example, if 'start' = 5, 'end' = 10, it will print 45 because 5+6+7+8+9+10=15 <br>\n",
        "> if 'start' = 10, 'end'= 20,  it will print 165 because 10+11+12+13+14+15+16+17+18+19+20 = 165 <br>\n",
        "> Use the <font color='red'> while loop </font> <br>"
      ]
    },
    {
      "cell_type": "code",
      "execution_count": null,
      "metadata": {
        "id": "u1dP81_qdA1K",
        "outputId": "c1e9bfa1-2f39-4a0d-9381-6c4aeb8fba97"
      },
      "outputs": [
        {
          "name": "stdout",
          "output_type": "stream",
          "text": [
            "The total from 10 to 20 is 165\n"
          ]
        }
      ],
      "source": [
        "start = int(input('Enter a number: '))\n",
        "end = int(input('Enter a number: '))\n",
        "\n",
        "# complete the code"
      ]
    },
    {
      "cell_type": "markdown",
      "metadata": {
        "id": "IkQ6pDSwdA1L"
      },
      "source": [
        "#### <p style=\"font-family: Arial; font-size:1.4em; background-color: yellow; color:black;\"> Problem #1.8 </p>\n",
        "\n",
        "#### Complete the code to print all multiplication numbers of 3 between input 'start' and 'end'(inclusive)\n",
        "#### Assume that 'start' < 'end'  \n",
        "> For example, if start = 2, end = 10, it will print 3 6 9 <br>\n",
        "> if start = 12, end = 21, it will print 12 15 18 21  <br>\n",
        "> Use the <font color='red'> while loop </font> <br>"
      ]
    },
    {
      "cell_type": "code",
      "execution_count": null,
      "metadata": {
        "id": "wsLqwkXkdA1L",
        "outputId": "9d0e845d-170f-48bc-c322-a565fe711c38"
      },
      "outputs": [
        {
          "name": "stdout",
          "output_type": "stream",
          "text": [
            "12\n",
            "15\n",
            "18\n"
          ]
        }
      ],
      "source": [
        "start = int(input('Enter a number: '))\n",
        "end = int(input('Enter a number: '))\n",
        "\n",
        "i = start // 3\n",
        "i += 1 if start % 3 else 0\n",
        "while i*3 <= end:\n",
        "    print (i*3)\n",
        "    i += 1"
      ]
    },
    {
      "cell_type": "markdown",
      "metadata": {
        "id": "GqGBXruUdA1L"
      },
      "source": [
        "#### <p style=\"font-family: Arial; font-size:1.4em; background-color: yellow; color:black;\"> Problem #1.9 </p>\n",
        "\n",
        "#### Complete the code to print all multiplication numbers of 'seed' between input 'start' and 'end'(inclusive)\n",
        "#### Assume that 'seed' is greater than 1\n",
        "#### Assume that 'start' < 'end'. Same as 1.8 except the 'seed'\n",
        "> For example, if start = 2, end = 10, seed=3, it will print 3 6 9 <br>\n",
        "> if start = 12, end = 31, seed = 6, it will print 12 18 24  <br>\n",
        "> Use the <font color='red'> while loop </font> <br>"
      ]
    },
    {
      "cell_type": "code",
      "execution_count": null,
      "metadata": {
        "id": "tWQrmr5FdA1L"
      },
      "outputs": [],
      "source": [
        "seed = int(input('Enter the seed number for multiplication: '))\n",
        "start = int(input('Enter a number: '))\n",
        "end = int(input('Enter a number: '))\n",
        "\n",
        "# complete the code"
      ]
    },
    {
      "cell_type": "markdown",
      "metadata": {
        "id": "2O3BeTOzdA1L"
      },
      "source": [
        "#### <p style=\"font-family: Arial; font-size:1.4em; background-color: yellow; color:black;\"> Problem #1.10 </p>\n",
        "\n",
        "#### Complete the code to repeat the input number until the inputted number is greater than 100\n",
        "#### if the input number is greater than 100, stop the while loop\n",
        "#### Otherwise, print the <font color='red'> number </font>\n",
        "> For example, if the series of input is 5 10 15 20 150, <br>\n",
        "> print a input number at each iteration in the while loop, except the 150 <br>\n",
        "> 5 <br> 10 <br> 15<br> 20<br>  \n",
        "> Use the <font color='red'> while loop </font> <br>"
      ]
    },
    {
      "cell_type": "code",
      "execution_count": null,
      "metadata": {
        "id": "UiOhS2SkdA1L"
      },
      "outputs": [],
      "source": [
        "total = 0\n",
        "number = int(input('Enter a number: '))\n",
        "\n",
        "while number <= 100:\n",
        "    print (number)\n",
        "    number = int(input('Enter a number: '))\n"
      ]
    },
    {
      "cell_type": "markdown",
      "metadata": {
        "id": "pZzAbMYxdA1L"
      },
      "source": [
        "#### <p style=\"font-family: Arial; font-size:1.4em; background-color: yellow; color:black;\"> Problem #1.11 </p>\n",
        "\n",
        "#### Complete the code to repeat the input of a number until the sum of all input numbers is greater than 100.\n",
        "#### if the sum of all input numbers is greater than 100, stop the while loop\n",
        "#### Otherwise, add the input number to the variable \"<font color='red'> total </font>\"\n",
        "> For example, if the series of input is 5 10 15 20 150, <br>\n",
        "> the total must be 5 + 10 + 15 + 20 + 150 = 200, and stop the while loop   <br>\n",
        "> After the while loop, print the 'total'\n",
        "> Use the <font color='red'> while loop </font> <br>"
      ]
    },
    {
      "cell_type": "code",
      "execution_count": null,
      "metadata": {
        "id": "yD-F-0JVdA1L"
      },
      "outputs": [],
      "source": [
        "number = int(input('Enter a number '))\n",
        "total = 0\n",
        "while total <= 100:\n",
        "    # complete the code\n",
        "    number = int(input('Enter a number '))\n",
        "print (f'The total of input numbers are {total}')"
      ]
    },
    {
      "cell_type": "markdown",
      "metadata": {
        "id": "7_qfa0cMdA1L"
      },
      "source": [
        "#### <p style=\"font-family: Arial; font-size:1.4em; background-color: yellow; color:black;\"> Problem #1.12</p>\n",
        "\n",
        "#### Complete the code to print all alphabets between input letters 'start' and 'end'\n",
        "#### 'start' and 'end' letters are inclusive\n",
        "#### Assumption. 'start' and 'end' is lower case letters. All inputs are lower case.\n",
        "> For example, if 'start' is 'a' and 'end' is 'f'  <br>\n",
        "> print 'a', 'b', 'c', 'd', 'e', 'f' <br>\n",
        "> Use the <font color='red'> while loop </font> <br>\n",
        "\n",
        "#### Refer to the following example code to practice the ord() and chr() funtions"
      ]
    },
    {
      "cell_type": "code",
      "execution_count": null,
      "metadata": {
        "id": "JNoxD0pKdA1L",
        "outputId": "71f75148-4106-43a9-a2d7-463a07b3f293"
      },
      "outputs": [
        {
          "name": "stdout",
          "output_type": "stream",
          "text": [
            "97\n",
            "98\n"
          ]
        }
      ],
      "source": [
        "start = 'a'\n",
        "print (ord(start))  # it will print 97, which is ASCII code for the letter 'a'\n",
        "\n",
        "next = ord(start) + 1\n",
        "print (next)  # it will print 97, which is ASCII code for the letter 'b'"
      ]
    },
    {
      "cell_type": "code",
      "execution_count": null,
      "metadata": {
        "id": "r9QY8Q6OdA1L",
        "outputId": "5a52a267-8350-4a94-ae12-5b27d2fd3afc"
      },
      "outputs": [
        {
          "data": {
            "text/plain": [
              "('s', 'i', 'b')"
            ]
          },
          "execution_count": 25,
          "metadata": {},
          "output_type": "execute_result"
        }
      ],
      "source": [
        "chr(115), chr(105), chr(98)     # by using the ASCII code 115, we can convert it as a character"
      ]
    },
    {
      "cell_type": "code",
      "execution_count": null,
      "metadata": {
        "id": "Jw50i9_IdA1M",
        "outputId": "f04326a8-e336-456f-b3ad-e7fefbf3104a"
      },
      "outputs": [
        {
          "name": "stdout",
          "output_type": "stream",
          "text": [
            "b\n"
          ]
        }
      ],
      "source": [
        "start = 'a'\n",
        "next = ord(start) + 1\n",
        "print (chr(next))"
      ]
    },
    {
      "cell_type": "code",
      "execution_count": null,
      "metadata": {
        "id": "x1rJawL6dA1M"
      },
      "outputs": [],
      "source": [
        "start = input('Enter a starting letter: ')\n",
        "end = input('Enter a starting letter: ')\n",
        "\n",
        "# complete your code to print all the letters between 'start' and 'end'\n",
        "\n"
      ]
    },
    {
      "cell_type": "markdown",
      "metadata": {
        "id": "pSzq3TRrdA1M"
      },
      "source": [
        "***"
      ]
    },
    {
      "cell_type": "markdown",
      "metadata": {
        "id": "LVQa7X0MdA1M"
      },
      "source": [
        "#### Loop until the character 'q' is entered"
      ]
    },
    {
      "cell_type": "code",
      "execution_count": null,
      "metadata": {
        "id": "3popkuccdA1M",
        "outputId": "be7494d0-9dbd-4f23-8c17-19eedaf803d0"
      },
      "outputs": [
        {
          "name": "stdout",
          "output_type": "stream",
          "text": [
            "a\tb\tc\t"
          ]
        }
      ],
      "source": [
        "user_val = input('Enter a character')\n",
        "while ( user_val != 'q' ):\n",
        "\tprint ( user_val, end='\\t')\n",
        "\tuser_val = input('Enter a character')\n"
      ]
    },
    {
      "cell_type": "code",
      "execution_count": null,
      "metadata": {
        "id": "oHRrsYO-dA1M",
        "outputId": "0fcd377e-261b-48ae-9018-605fde9c97f3"
      },
      "outputs": [
        {
          "name": "stdout",
          "output_type": "stream",
          "text": [
            "Invalid Input. Try again\n",
            "Invalid Input. Try again\n",
            " user input is  5\n"
          ]
        }
      ],
      "source": [
        "user_num = int(input('Enter your number'))\n",
        "while ( user_num < 0 or user_num > 10):\n",
        "\tprint (\"Invalid Input. Try again\")\n",
        "\tuser_num = int(input('Enter your number'))\n",
        "print (\" user input is \", user_num)\n"
      ]
    },
    {
      "cell_type": "markdown",
      "metadata": {
        "id": "htcuZC-adA1M"
      },
      "source": [
        "## Don't forget to <font color='red'> **\"commit\"** </font> your work or <font color='red'> **\"save\"** </font> in Google Colab\n",
        "## before moving to the next section."
      ]
    },
    {
      "cell_type": "markdown",
      "metadata": {
        "id": "kfbFPWSQdA1M"
      },
      "source": [
        "***\n",
        "## <p style=\"background-color: grey; color: white \">  ◼️ For loop </p>\n",
        "# <p style=\"font-family: Arial; font-size:1.4em;color:red;\"> 2. Basic For-loop Structures</p>"
      ]
    },
    {
      "cell_type": "markdown",
      "metadata": {
        "id": "0yCA-wy8dA1M"
      },
      "source": [
        "#### <p style=\"font-family: Arial; font-size:1.4em; background-color: yellow; color:black;\"> Problem #2.1</p>\n",
        "#### Complete the following code cells and figure out the syntax of for-loop"
      ]
    },
    {
      "cell_type": "markdown",
      "metadata": {
        "id": "tcoHhc3ndA1M"
      },
      "source": [
        "##### Basic Syntax of For-Loop"
      ]
    },
    {
      "cell_type": "code",
      "execution_count": null,
      "metadata": {
        "id": "gQMsvonXdA1M"
      },
      "outputs": [],
      "source": [
        "for i in range(10):\n",
        "    print (i, end = ' ')"
      ]
    },
    {
      "cell_type": "code",
      "execution_count": null,
      "metadata": {
        "id": "5Z3Pv-5OdA1M"
      },
      "outputs": [],
      "source": [
        "for num in range(5):\n",
        "\tprint (num, end=' ')"
      ]
    },
    {
      "cell_type": "markdown",
      "metadata": {
        "id": "d9h9yr9DdA1M"
      },
      "source": [
        "##### Complete this code to print 0 to <font color='red'> 10</font> with for-loop"
      ]
    },
    {
      "cell_type": "code",
      "execution_count": null,
      "metadata": {
        "id": "zo6J3PhYdA1M"
      },
      "outputs": [],
      "source": [
        "for val # complete the code\n",
        "    print (val, end=' ')"
      ]
    },
    {
      "cell_type": "markdown",
      "metadata": {
        "id": "9YyKWylNdA1N"
      },
      "source": [
        "#### <p style=\"font-family: Arial; font-size:1.4em; background-color: yellow; color:black;\"> Problem #2.2: with steps</p>\n",
        "#### Complete the following code cells and check out the results"
      ]
    },
    {
      "cell_type": "code",
      "execution_count": null,
      "metadata": {
        "id": "vlRUt1owdA1N"
      },
      "outputs": [],
      "source": [
        "for i in range(0, 10):\n",
        "    print (i)"
      ]
    },
    {
      "cell_type": "code",
      "execution_count": null,
      "metadata": {
        "id": "WYQCmLdsdA1N"
      },
      "outputs": [],
      "source": [
        "for i in range(1,10):\n",
        "    print (i)"
      ]
    },
    {
      "cell_type": "code",
      "execution_count": null,
      "metadata": {
        "id": "h7Y1qnb5dA1N"
      },
      "outputs": [],
      "source": [
        "for i in range(5,10):\n",
        "    print (i)"
      ]
    },
    {
      "cell_type": "code",
      "execution_count": null,
      "metadata": {
        "id": "CBGXk7SxdA1N"
      },
      "outputs": [],
      "source": [
        "for i in range(0, 10, 2):\n",
        "    print (i)"
      ]
    },
    {
      "cell_type": "code",
      "execution_count": null,
      "metadata": {
        "id": "xkHxzQG_dA1N"
      },
      "outputs": [],
      "source": [
        "for i in range(5, 25, 5):\n",
        "    print (i)"
      ]
    },
    {
      "cell_type": "markdown",
      "metadata": {
        "id": "AtZFAXWpdA1N"
      },
      "source": [
        "Complete the code to print 10, 12, 14, 16, 18, 20"
      ]
    },
    {
      "cell_type": "code",
      "execution_count": null,
      "metadata": {
        "id": "GmgE_ZbddA1N"
      },
      "outputs": [],
      "source": [
        "for i in # complete the code"
      ]
    },
    {
      "cell_type": "markdown",
      "metadata": {
        "id": "UJZtU0_CdA1N"
      },
      "source": [
        "#### <p style=\"font-family: Arial; font-size:1.4em; background-color: yellow; color:black;\"> Problem #2.3: decreasing</p>\n",
        "#### Complete the following code cells and check out the results"
      ]
    },
    {
      "cell_type": "code",
      "execution_count": null,
      "metadata": {
        "id": "wNI4Sl2ndA1N"
      },
      "outputs": [],
      "source": [
        "for i in range(10, 0): # not working\n",
        "    print (i)\n"
      ]
    },
    {
      "cell_type": "code",
      "execution_count": null,
      "metadata": {
        "id": "HMj-UKKOdA1N"
      },
      "outputs": [],
      "source": [
        "for i in range(10, 0, -1):\n",
        "    print (i)"
      ]
    },
    {
      "cell_type": "code",
      "execution_count": null,
      "metadata": {
        "id": "ZqfGfqcTdA1N"
      },
      "outputs": [],
      "source": [
        "for i in range(10, 0, -2):\n",
        "    print (i)"
      ]
    },
    {
      "cell_type": "markdown",
      "metadata": {
        "id": "dTa8TP12dA1N"
      },
      "source": [
        "Complete the code to print 15, 12, 9, 6, 3, 0"
      ]
    },
    {
      "cell_type": "code",
      "execution_count": null,
      "metadata": {
        "id": "eplnlKPNdA1N"
      },
      "outputs": [],
      "source": [
        "for i in # complete the code\n",
        "    print (i)"
      ]
    },
    {
      "cell_type": "markdown",
      "metadata": {
        "id": "HI8yAyQYdA1N"
      },
      "source": [
        "#### <p style=\"font-family: Arial; font-size:1.4em; background-color: yellow; color:black;\"> Problem #2.4: list values in for-loop</p>\n",
        "#### Complete the following code cells and check out the results"
      ]
    },
    {
      "cell_type": "markdown",
      "metadata": {
        "id": "5oTPevYydA1N"
      },
      "source": [
        "#### List can be used for-loop to iterate all elements\n",
        "```\n",
        "for val in [0,1,2,3,4]:\n",
        "    print (val)\n",
        "```"
      ]
    },
    {
      "cell_type": "code",
      "execution_count": null,
      "metadata": {
        "id": "IjcN51qOdA1N"
      },
      "outputs": [],
      "source": [
        "for val in [0,1,2,3,4]:\n",
        "    print (val)"
      ]
    },
    {
      "cell_type": "code",
      "execution_count": null,
      "metadata": {
        "id": "afD4gfOkdA1N"
      },
      "outputs": [],
      "source": [
        "for str in ['Java', 'Python', 'C++', 'R', 'Ruby', 'Java Script']:\n",
        "\tprint (str, end=' ')"
      ]
    },
    {
      "cell_type": "code",
      "execution_count": null,
      "metadata": {
        "id": "P26MQN22dA1O"
      },
      "outputs": [],
      "source": [
        "for val in [10, 20, 30]:\n",
        "\tprint (val)\n",
        "\n",
        "listval = [10, 20, 30]\n",
        "for val in listval:\n",
        "\tprint (val)\n",
        "\n"
      ]
    },
    {
      "cell_type": "markdown",
      "metadata": {
        "id": "9Wlxe9H-dA1O"
      },
      "source": [
        "Complete the code to get the summation of 5 user input values"
      ]
    },
    {
      "cell_type": "code",
      "execution_count": null,
      "metadata": {
        "id": "1Q_dj0jAdA1O"
      },
      "outputs": [],
      "source": [
        "total  = 0\n",
        "for  i in range(5):\n",
        "\tuser_num = int(input('Enter your num'))\n",
        "\ttotal += user_num\n",
        "print (\"Summation is\", total)\n"
      ]
    },
    {
      "cell_type": "markdown",
      "metadata": {
        "id": "xEvWa-04dA1O"
      },
      "source": [
        "Compare the while-loop version to for-loop"
      ]
    },
    {
      "cell_type": "code",
      "execution_count": null,
      "metadata": {
        "id": "qq9APkvzdA1O"
      },
      "outputs": [],
      "source": [
        "sum = 0\n",
        "i = 0\n",
        "while (i < 5):\n",
        "\tuser_num = int(input('Enter your num'))\n",
        "\tsum += user_num\n",
        "\ti += 1\n",
        "print (\"Summation is\", sum)\n"
      ]
    },
    {
      "cell_type": "code",
      "execution_count": null,
      "metadata": {
        "id": "GLnNBq8odA1O"
      },
      "outputs": [],
      "source": [
        "i = 0\n",
        "\n",
        "while True:\n",
        "\ti += 1\n",
        "\tprint (i)\n",
        "\tif ( i > 10):\n",
        "\t\tbreak\n"
      ]
    },
    {
      "cell_type": "markdown",
      "metadata": {
        "id": "EkMrfR7wdA1O"
      },
      "source": [
        "### Calculating Running Total"
      ]
    },
    {
      "cell_type": "code",
      "execution_count": null,
      "metadata": {
        "id": "uyU41-WldA1O",
        "outputId": "28166491-bb15-4e28-9e66-982e6aae5d46"
      },
      "outputs": [
        {
          "name": "stdout",
          "output_type": "stream",
          "text": [
            "Total 15\n"
          ]
        }
      ],
      "source": [
        "sum = 0\n",
        "for i in range(5):\n",
        "\tnumber = int(input('Enter your number'))\n",
        "\tsum += number\n",
        "print ('Total {0}'.format(sum))"
      ]
    },
    {
      "cell_type": "markdown",
      "metadata": {
        "id": "LfyE09QPdA1O"
      },
      "source": [
        "##### While-loop version"
      ]
    },
    {
      "cell_type": "code",
      "execution_count": null,
      "metadata": {
        "id": "8jL663YHdA1O"
      },
      "outputs": [],
      "source": [
        "i = 0\n",
        "while (i < 5):\n",
        "\tnumber = int(input('Enter your number'))\n",
        "\tsum += number\n",
        "\ti += 1\n",
        "print ('Total {0}'.format(sum))"
      ]
    },
    {
      "cell_type": "markdown",
      "metadata": {
        "id": "RAI-8z5AdA1O"
      },
      "source": [
        "### 👉 Complete the code to get the summation of 5 user input values with for-loop"
      ]
    },
    {
      "cell_type": "code",
      "execution_count": null,
      "metadata": {
        "id": "2gmUBFdIdA1O"
      },
      "outputs": [],
      "source": [
        "for # complete the code"
      ]
    },
    {
      "cell_type": "markdown",
      "metadata": {
        "id": "XHUj84ZvdA1O"
      },
      "source": [
        "### 👉 Complete the code to calculate the sum of 10 user input <font color='red'> even </font> values."
      ]
    },
    {
      "cell_type": "code",
      "execution_count": null,
      "metadata": {
        "id": "YlLaX7LHdA1O"
      },
      "outputs": [],
      "source": [
        "for # complete the code"
      ]
    },
    {
      "cell_type": "markdown",
      "metadata": {
        "id": "ZCVyGQn_dA1O"
      },
      "source": [
        "#### What is the main difference between for-loop and while-loop?\n",
        "#### In which case the while-loop has advantage?"
      ]
    },
    {
      "cell_type": "markdown",
      "metadata": {
        "id": "Je1DaVOrdA1O"
      },
      "source": [
        "#####  💯 Make your answer here with MD syntax\n",
        "- bullet\n",
        "> code\n",
        "<font color='red'> MD syntax example </font>"
      ]
    },
    {
      "cell_type": "markdown",
      "metadata": {
        "id": "kfiAETrPdA1O"
      },
      "source": [
        "## Don't forget to <font color='red'> **\"commit\"** </font> your work or <font color='red'> **\"save\"** </font> in Google Colab\n",
        "## before moving to the next section."
      ]
    },
    {
      "cell_type": "markdown",
      "metadata": {
        "id": "ucButIv-dA1O"
      },
      "source": [
        "***\n",
        "## <p style=\"background-color: grey; color: white\">  ◼️ Random Numbers </p>\n",
        "# <p style=\"font-family: Arial; font-size:1.4em;color:red;\"> 3. Random Numbers </p>"
      ]
    },
    {
      "cell_type": "markdown",
      "metadata": {
        "id": "GUAuXJqZdA1P"
      },
      "source": [
        "#### To create the Random Numbers, import the random module first\n",
        "> <font color='red'> import random </font>"
      ]
    },
    {
      "cell_type": "markdown",
      "metadata": {
        "id": "BZcIs46tdA1P"
      },
      "source": [
        "#### Random module supports the varous functions to generate random numbers\n",
        "#### Here is the link to learn more about \"Random\" module\n",
        "[Manual for Random Modlue](https://docs.python.org/3/library/random.html)\n",
        "\n",
        "In this first example, we will use only \"randint()\" function"
      ]
    },
    {
      "cell_type": "code",
      "execution_count": null,
      "metadata": {
        "id": "IlLa59SfdA1P",
        "outputId": "b6cf97b3-632c-4aad-a9fc-dd29ce19d482"
      },
      "outputs": [
        {
          "data": {
            "text/plain": [
              "54"
            ]
          },
          "execution_count": 40,
          "metadata": {},
          "output_type": "execute_result"
        }
      ],
      "source": [
        "import random\n",
        "\n",
        "randnum = random.randint(0, 100) # will return a random number between 0 and 100 (inclusive)\n",
        "randnum"
      ]
    },
    {
      "cell_type": "code",
      "execution_count": null,
      "metadata": {
        "id": "ZNaBdRMgdA1P",
        "outputId": "4ec5bc3a-ca81-4b5e-e0fc-57e9d32a585a"
      },
      "outputs": [
        {
          "name": "stdout",
          "output_type": "stream",
          "text": [
            "The generated random number is 6, 5 and 5\n"
          ]
        }
      ],
      "source": [
        "rdnum1 = random.randint(0,10)\n",
        "rdnum2 = random.randint(0,10)\n",
        "rdnum3 = random.randint(0,10)\n",
        "\n",
        "print (f'The generated random number is {rdnum1}, {rdnum2} and {rdnum3}')"
      ]
    },
    {
      "cell_type": "markdown",
      "metadata": {
        "id": "nLl0_F0SdA1P"
      },
      "source": [
        "#### <p style=\"font-family: Arial; font-size:1.4em; background-color: yellow; color:black;\"> Problem #3.1:  Random number</p>"
      ]
    },
    {
      "cell_type": "markdown",
      "metadata": {
        "id": "ItS0MGPmdA1P"
      },
      "source": [
        "#### Complete the code to generate the random number between 10 and 20"
      ]
    },
    {
      "cell_type": "code",
      "execution_count": null,
      "metadata": {
        "id": "g5hmU0fDdA1P"
      },
      "outputs": [],
      "source": [
        "# complete the code"
      ]
    },
    {
      "cell_type": "markdown",
      "metadata": {
        "id": "GAC1wCFjdA1P"
      },
      "source": [
        "#### Complete the code to generate 5 random number between 10 and 20 using for loop\n"
      ]
    },
    {
      "cell_type": "code",
      "execution_count": null,
      "metadata": {
        "id": "0ECIqCYIdA1P",
        "outputId": "8300ee0e-23d0-438b-e611-a19a78a13d47"
      },
      "outputs": [
        {
          "name": "stdout",
          "output_type": "stream",
          "text": [
            "18 18 11 15 10 "
          ]
        }
      ],
      "source": [
        "for i in range(5):\n",
        "    rdnum = random.randint(10, 20)\n",
        "    print (rdnum, end=' ')"
      ]
    },
    {
      "cell_type": "markdown",
      "metadata": {
        "id": "19403zv2dA1P"
      },
      "source": [
        "#### <p style=\"font-family: Arial; font-size:1.4em; background-color: yellow; color:black;\"> Problem #3.2  </p>\n",
        "#### Complete the code to generate 5 radom numbers between 10 and 20, and calculate the sum of all random numbers\n",
        "##### ✓ No need to use the \"list\" data type."
      ]
    },
    {
      "cell_type": "code",
      "execution_count": null,
      "metadata": {
        "id": "oBqIZRFWdA1P"
      },
      "outputs": [],
      "source": [
        "# complete the code here"
      ]
    },
    {
      "cell_type": "markdown",
      "metadata": {
        "id": "fH9VcsphdA1P"
      },
      "source": [
        "#### <p style=\"font-family: Arial; font-size:1.4em; background-color: yellow; color:black;\"> Problem #3.3  </p>\n",
        "#### Complete the code to generate 5 radom numbers between 0 and 10, and find the greatest number\n",
        "##### ✓ No need to use the \"list\" data type."
      ]
    },
    {
      "cell_type": "code",
      "execution_count": null,
      "metadata": {
        "id": "0aeRZivrdA1P",
        "outputId": "1a99588d-9c72-4211-e823-e73acce69b88"
      },
      "outputs": [
        {
          "name": "stdout",
          "output_type": "stream",
          "text": [
            "8 1 6 7 4 \n",
            "The greatest random number is 8\n"
          ]
        }
      ],
      "source": [
        "for i in range(5):\n",
        "    rdnum = random.randint(0,10)\n",
        "    if i == 0: # if it is the first iteration\n",
        "        maxval = rdnum # We assume that the first rdnum is greatest number\n",
        "    if rdnum > maxval:  # if the next rdnum is greater than the current maxval, keep it as maxval\n",
        "        maxval = rdnum\n",
        "    print (rdnum, end=' ')\n",
        "\n",
        "print (f'\\nThe greatest random number is {maxval}')"
      ]
    },
    {
      "cell_type": "markdown",
      "metadata": {
        "id": "T-AgwFWrdA1P"
      },
      "source": [
        "#### <p style=\"font-family: Arial; font-size:1.4em; background-color: yellow; color:black;\"> Problem #3.4  </p>\n",
        "#### Complete the code to generate 5 radom numbers between 0 and 10, and find the least number\n",
        "##### ✓ No need to use the \"list\" data type."
      ]
    },
    {
      "cell_type": "code",
      "execution_count": null,
      "metadata": {
        "id": "2TockIA2dA1P"
      },
      "outputs": [],
      "source": [
        "# complete the code here"
      ]
    },
    {
      "cell_type": "markdown",
      "metadata": {
        "id": "2n60jiGGdA1Q"
      },
      "source": [
        "#### <p style=\"font-family: Arial; font-size:1.4em; background-color: yellow; color:black;\"> Problem #3.5  </p>\n",
        "#### Write a program that generates a random number between 0 and 100 repeatedly.\n",
        "#### The while loop will stop if it is greater than the immediate preceding random number.\n",
        "##### ✓ No need to use the \"list\" data type. <br>"
      ]
    },
    {
      "cell_type": "code",
      "execution_count": null,
      "metadata": {
        "id": "YdyFFfxJdA1Q"
      },
      "outputs": [],
      "source": [
        "import random\n",
        "flag = 1\n",
        "prev_num = 101\n",
        "while (flag):\n",
        "\tcurrent_num = random.randint(0,100)\n",
        "\tprint (current_num, end = ' ')\n",
        "\tif ( current_num > prev_num):\n",
        "\t\tflag = 0;\n",
        "\tprev_num = current_num\n"
      ]
    },
    {
      "cell_type": "markdown",
      "metadata": {
        "id": "biGjB6BbdA1Q"
      },
      "source": [
        "## Don't forget to <font color='red'> **\"commit\"** </font> your work or <font color='red'> **\"save\"** </font> in Google Colab\n",
        "## before moving to the next section."
      ]
    },
    {
      "cell_type": "markdown",
      "metadata": {
        "id": "e0BPuCR8dA1Q"
      },
      "source": [
        "***\n",
        "## <p style=\"background-color: grey; color: white\">  ◼️ List and For loop </p>\n",
        "# <p style=\"font-family: Arial; font-size:1.4em;color:red;\"> 4. List and For loop </p>"
      ]
    },
    {
      "cell_type": "markdown",
      "metadata": {
        "id": "uEUlVUi7dA1Q"
      },
      "source": [
        "#### list is the data type that can hold the multiple values as a element\n",
        "#### For example\n",
        "> <code> mylist = [10, 20, 30, 40, 50] </code>\n",
        "\n",
        "#### Each element can be accessed by using index, for example, to access the 2nd element\n",
        "> <code> mylist[1]   # it will print the value 20 </code>"
      ]
    },
    {
      "cell_type": "code",
      "execution_count": null,
      "metadata": {
        "id": "3LJHAmlXdA1Q"
      },
      "outputs": [],
      "source": [
        "mylist = [10, 20, 30, 40, 50]\n",
        "print (mylist[0])\n",
        "print (mylist[1])\n",
        "print (mylist[2])\n",
        "print (mylist[3])\n",
        "print (mylist[4])"
      ]
    },
    {
      "cell_type": "code",
      "execution_count": null,
      "metadata": {
        "id": "a7cWAhjtdA1Q"
      },
      "outputs": [],
      "source": [
        "mylist = [10, 20, 30, 40, 50]\n",
        "total = mylist[0] + mylist[1] + mylist[2] + mylist[3] + mylist[4]\n",
        "print (total)"
      ]
    },
    {
      "cell_type": "markdown",
      "metadata": {
        "id": "Ch-FKRWqdA1Q"
      },
      "source": [
        "#### Print all elements in the list"
      ]
    },
    {
      "cell_type": "code",
      "execution_count": null,
      "metadata": {
        "id": "FUD7tzPvdA1Q"
      },
      "outputs": [],
      "source": [
        "mylist = [10, 20, 30, 40, 50]\n",
        "for idx in range(5):\n",
        "\tprint (mylist[idx], end=' ')"
      ]
    },
    {
      "cell_type": "markdown",
      "metadata": {
        "id": "pOMbVz-0dA1Q"
      },
      "source": [
        "#### Print all elements in reverse order in the list"
      ]
    },
    {
      "cell_type": "code",
      "execution_count": null,
      "metadata": {
        "id": "K9XdiRN3dA1Q"
      },
      "outputs": [],
      "source": [
        "mylist = [10, 20, 30, 40, 50]\n",
        "for idx in range(4, -1, -1):\n",
        "\tprint (mylist[idx], end=' ')"
      ]
    },
    {
      "cell_type": "markdown",
      "metadata": {
        "id": "7tz4P6SedA1Q"
      },
      "source": [
        "#### Print all elements in reverse order by using the \"reversed()\" function"
      ]
    },
    {
      "cell_type": "code",
      "execution_count": null,
      "metadata": {
        "id": "BYgS6sJZdA1Q"
      },
      "outputs": [],
      "source": [
        "for i in reversed(range(5)):\n",
        "    print (i, end=' ')  # it will print 4 3 2 1 0, # Now you can these sequence to access the elements"
      ]
    },
    {
      "cell_type": "code",
      "execution_count": null,
      "metadata": {
        "id": "osvTbktqdA1Q",
        "outputId": "2aae04f0-5215-4f67-ee99-fa98c241d56b"
      },
      "outputs": [
        {
          "name": "stdout",
          "output_type": "stream",
          "text": [
            "100 88 77 56 45 "
          ]
        }
      ],
      "source": [
        "mylist = [10, 20, 30, 40, 50]\n",
        "for idx in reversed(range(5)):\n",
        "\tprint (mylist[idx], end=' ')"
      ]
    },
    {
      "cell_type": "markdown",
      "metadata": {
        "id": "U3e65IoHdA1Q"
      },
      "source": [
        "#### Accessing each element directly without index in the for-loop"
      ]
    },
    {
      "cell_type": "code",
      "execution_count": null,
      "metadata": {
        "id": "zAJxLKeQdA1Q"
      },
      "outputs": [],
      "source": [
        "mylist = [11, 22, 33, 44, 55]\n",
        "\n",
        "for v in mylist:        # the variable v will be each element in the repetition.\n",
        "    print (v, end=' ')\n"
      ]
    },
    {
      "cell_type": "markdown",
      "metadata": {
        "id": "M40DisLMdA1Q"
      },
      "source": [
        "#### <p style=\"font-family: Arial; font-size:1.4em; background-color: yellow; color:black;\"> Problem #4.1  </p>\n",
        "#### Calculate the sum of all elements using for-loop\n",
        "#### Do not use the function sum(). Need to practice the for-loop and develop your algorithm"
      ]
    },
    {
      "cell_type": "code",
      "execution_count": null,
      "metadata": {
        "id": "fV-o6f6UdA1Q"
      },
      "outputs": [],
      "source": [
        "\n",
        "mylist = [10, 20, 30, 40, 50]\n",
        "total = 0\n",
        "\n",
        "# Complete the code"
      ]
    },
    {
      "cell_type": "markdown",
      "metadata": {
        "id": "Oxf2W4qvdA1Q"
      },
      "source": [
        "#### <p style=\"font-family: Arial; font-size:1.4em; background-color: yellow; color:black;\"> Problem #4.2  </p>\n",
        "#### Find the least number in the list.\n",
        "#### Do not use the function <font color='red'>min() </font>. <br> Need to practice the for-loop and develop your algorithm\n",
        "#### Follow the algorithm steps to find the least number\n",
        "> 1) Assume that the 1st element is the least number    \n",
        ">> <code> minval = mylist[0] </code>\n",
        "> 2) Iterate all elements from 2nd to the last\n",
        ">> <code> for i in range(len(mylist)): </code>\n",
        "> 3) If any element in the list is less than the current, replace the minval with the current element\n",
        ">> <code> if mylist[i] < minval: </code>\n",
        ">>> <code> minval = mylist[i] </code>"
      ]
    },
    {
      "cell_type": "code",
      "execution_count": null,
      "metadata": {
        "id": "O-5NevEDdA1Q"
      },
      "outputs": [],
      "source": [
        "mylist = [10, 20, 30, 40, 50]\n",
        "# complete your code\n"
      ]
    },
    {
      "cell_type": "markdown",
      "metadata": {
        "id": "vvIoww3OdA1R"
      },
      "source": [
        "#### <p style=\"font-family: Arial; font-size:1.4em; background-color: yellow; color:black;\"> Problem #4.3  </p>\n",
        "#### Complete the code that determines whether the input value is in the list or not\n",
        "#### Do not use the operator <font color='red'>in </font>. <br> Need to practice the for-loop and develop your algorithm\n",
        "> input number <br>\n",
        "> for each element in the list <br>\n",
        ">> compare input number to each element <br>\n",
        ">> if two values are same, print True <br>"
      ]
    },
    {
      "cell_type": "code",
      "execution_count": null,
      "metadata": {
        "id": "37FN0t8xdA1R"
      },
      "outputs": [],
      "source": [
        "target = int(input('Enter a number: '))\n",
        "\n",
        "for # complete the code"
      ]
    },
    {
      "cell_type": "markdown",
      "metadata": {
        "id": "Rowe0laWdA1R"
      },
      "source": [
        "## Don't forget to <font color='red'> **\"commit\"** </font> your work or <font color='red'> **\"save\"** </font> in Google Colab\n",
        "## before moving to the next section."
      ]
    },
    {
      "cell_type": "markdown",
      "metadata": {
        "id": "6DXXuj7tdA1R"
      },
      "source": [
        "***\n",
        "## <p style=\"background-color: grey; color: white\">  ◼️ Break and Continue </p>\n",
        "# <p style=\"font-family: Arial; font-size:1.4em;color:red;\"> 5. Break and Continue </p>\n",
        "\n",
        "\n",
        "#### In programming, the break and continue statements are used to alter the flow of loops:\n",
        "<ul>\n",
        "\t<li><code>break</code> exits the loop entirely</li>\n",
        "\t<li><code>continue</code> skips the current iteration and proceeds to the next one</li>\n",
        "</ul>"
      ]
    },
    {
      "cell_type": "markdown",
      "metadata": {
        "id": "ONVXWP9MdA1R"
      },
      "source": [
        "### Example code: Before run the below cell, guess the value of i after for loop"
      ]
    },
    {
      "cell_type": "code",
      "execution_count": null,
      "metadata": {
        "id": "8MkiSsWjdA1R"
      },
      "outputs": [],
      "source": [
        "for i in range(5):\n",
        "    if i == 3:\n",
        "        break\n",
        "print (i)       # value i? why?"
      ]
    },
    {
      "cell_type": "markdown",
      "metadata": {
        "id": "8bBY2FHodA1R"
      },
      "source": [
        "### Example code: 10 iterations with while-loop and break\n"
      ]
    },
    {
      "cell_type": "code",
      "execution_count": null,
      "metadata": {
        "id": "wLNW3wKIdA1R"
      },
      "outputs": [],
      "source": [
        "i = 0\n",
        "while True:\n",
        "    if i == 10:\n",
        "        break\n",
        "    print (i, end=' ')\n",
        "    i += 1\n"
      ]
    },
    {
      "cell_type": "markdown",
      "metadata": {
        "id": "Uglrnww2dA1R"
      },
      "source": [
        "#### <p style=\"font-family: Arial; font-size:1.4em; background-color: yellow; color:black;\"> Problem #5.1  </p>\n",
        "#### Complete the code that input a number until the input value is -1\n",
        "> Use the while loop and break"
      ]
    },
    {
      "cell_type": "code",
      "execution_count": null,
      "metadata": {
        "id": "-X7MdV0ddA1R"
      },
      "outputs": [],
      "source": [
        "while True:\n",
        "    number = int(input('Enter a number: '))\n",
        "    # complete the code\n",
        "    print (number)"
      ]
    },
    {
      "cell_type": "markdown",
      "metadata": {
        "id": "vhODZsKtdA1R"
      },
      "source": [
        "#### <p style=\"font-family: Arial; font-size:1.4em; background-color: yellow; color:black;\"> Problem #5.2  </p>\n",
        "#### Complete the code that input a word until the input value is 'stop'\n",
        "> Use the while loop and break"
      ]
    },
    {
      "cell_type": "code",
      "execution_count": null,
      "metadata": {
        "id": "QbraUl0xdA1R"
      },
      "outputs": [],
      "source": [
        "while True:\n",
        "    word = input('Enter a word: ')\n",
        "    if # complete your code\n",
        "    print(word)"
      ]
    },
    {
      "cell_type": "markdown",
      "metadata": {
        "id": "hP0gzzPodA1R"
      },
      "source": [
        "## Don't forget to <font color='red'> **\"commit\"** </font> your work or <font color='red'> **\"save\"** </font> in Google Colab\n",
        "## before moving to the next section."
      ]
    },
    {
      "cell_type": "markdown",
      "metadata": {
        "id": "DNjLb4yTdA1R"
      },
      "source": [
        "***\n",
        "## <p style=\"background-color: grey; color: white\">  ◼️ While-else for-else </p>\n",
        "# <p style=\"font-family: Arial; font-size:1.4em;color:red;\"> 6. while-else for-else </p>\n",
        "### While and for loop also has the \"else\" clause"
      ]
    },
    {
      "cell_type": "markdown",
      "metadata": {
        "id": "9ptlk3vadA1R"
      },
      "source": [
        "#### With the else statement we can run a block of code once when the condition no longer is true:"
      ]
    },
    {
      "cell_type": "code",
      "execution_count": null,
      "metadata": {
        "id": "g_FbtEsNdA1R",
        "outputId": "3a095c35-728d-4eaf-ad08-0c798de7d65b"
      },
      "outputs": [
        {
          "name": "stdout",
          "output_type": "stream",
          "text": [
            "1 2 3 4 5 6 7 8 9 \n",
            "i is no longer less than 10\n"
          ]
        }
      ],
      "source": [
        "i = 1\n",
        "while i < 10:\n",
        "  print(i, end=' ')\n",
        "  i += 1\n",
        "else:\n",
        "  print(\"\\ni is no longer less than 10\")"
      ]
    },
    {
      "cell_type": "markdown",
      "metadata": {
        "id": "MMgjDlAUdA1R"
      },
      "source": [
        "#### What is the difference with the following code?"
      ]
    },
    {
      "cell_type": "markdown",
      "metadata": {
        "id": "bZLV3TUYdA1R"
      },
      "source": [
        "There is no difference between two while-loops."
      ]
    },
    {
      "cell_type": "code",
      "execution_count": null,
      "metadata": {
        "id": "DDxKzLsRdA1R",
        "outputId": "246cd1b6-0a93-424b-ada0-b4d0537fd75e"
      },
      "outputs": [
        {
          "name": "stdout",
          "output_type": "stream",
          "text": [
            "1 2 3 4 5 6 7 8 9 \n",
            "i is no longer less than 10\n"
          ]
        }
      ],
      "source": [
        "i = 1\n",
        "while i < 10:\n",
        "  print(i, end=' ')\n",
        "  i += 1\n",
        "print(\"\\ni is no longer less than 10\")"
      ]
    },
    {
      "cell_type": "markdown",
      "metadata": {
        "id": "GYioqX9-dA1S"
      },
      "source": [
        "#### <p style=\"font-family: Arial; font-size:1.4em; background-color: yellow; color:black;\"> Problem #6.1  </p>\n",
        "#### Run the following example to see the difference\n",
        "#### At the 1st try, use the input series 10, 15, 20, 25, 30\n",
        "#### At the 2nd try, use the input series 10, 15, -1 <font color='red'> ⚠️ \"else\" part will not be executed"
      ]
    },
    {
      "cell_type": "code",
      "execution_count": null,
      "metadata": {
        "id": "UWXsP8xodA1S",
        "outputId": "a3e85706-d26d-4a9b-bf23-a8e2f7f9ab69"
      },
      "outputs": [
        {
          "name": "stdout",
          "output_type": "stream",
          "text": [
            "1 2 -1 "
          ]
        }
      ],
      "source": [
        "i = 0\n",
        "while i < 5:\n",
        "    number = int(input('Enter a number: '))\n",
        "    print (number, end= ' ')\n",
        "    if number == -1:\n",
        "        break\n",
        "    i += 1\n",
        "else:\n",
        "    print ('Executed while-else part')\n"
      ]
    },
    {
      "cell_type": "markdown",
      "metadata": {
        "id": "lhbq-oAtdA1S"
      },
      "source": [
        "#### <p style=\"font-family: Arial; font-size:1.4em; background-color: yellow; color:black;\"> Problem #6.2  </p>\n",
        "#### Write a code to decide all the elements in the list are positive or not"
      ]
    },
    {
      "cell_type": "markdown",
      "metadata": {
        "id": "5Yc8FW3ydA1S"
      },
      "source": [
        "#### [Version 1]"
      ]
    },
    {
      "cell_type": "code",
      "execution_count": null,
      "metadata": {
        "id": "UiriJR13dA1S",
        "outputId": "b69e5115-eb1c-4694-e76a-c15b7fe4e74c"
      },
      "outputs": [
        {
          "name": "stdout",
          "output_type": "stream",
          "text": [
            "All elements are not positive value\n"
          ]
        }
      ],
      "source": [
        "mylist = [1,2,-3, 4, 5]\n",
        "\n",
        "flag = True\n",
        "for v in mylist:\n",
        "    if v < 0:\n",
        "        flag = False\n",
        "\n",
        "if flag:\n",
        "    print ('All elements are positive value')\n",
        "else:\n",
        "    print ('All elements are not positive value')"
      ]
    },
    {
      "cell_type": "markdown",
      "metadata": {
        "id": "5zZeFgnkdA1S"
      },
      "source": [
        "#### [Version 2]\n",
        "#### for-else has advantage when you check the condition \"for all elements\""
      ]
    },
    {
      "cell_type": "code",
      "execution_count": null,
      "metadata": {
        "id": "4XXTqVtidA1S",
        "outputId": "40b156ab-1aa7-4f92-e86e-95281b3eb80f"
      },
      "outputs": [
        {
          "name": "stdout",
          "output_type": "stream",
          "text": [
            "All elements are not positive value\n"
          ]
        }
      ],
      "source": [
        "mylist = [1,2,-3, 4, 5]\n",
        "\n",
        "for v in mylist:\n",
        "    if v < 0:\n",
        "        print ('All elements are not positive value')\n",
        "        break\n",
        "else:\n",
        "    print ('All elements are positive value')"
      ]
    },
    {
      "cell_type": "markdown",
      "metadata": {
        "id": "s64C6BUudA1S"
      },
      "source": [
        "#### <p style=\"font-family: Arial; font-size:1.4em; background-color: yellow; color:black;\"> Problem #6.3  </p>\n",
        "#### Write a code to determine if the list contains an element that matches the input number"
      ]
    },
    {
      "cell_type": "code",
      "execution_count": null,
      "metadata": {
        "id": "Nx1Gvv30dA1S"
      },
      "outputs": [],
      "source": [
        "number = int(input('Enter a number: '))\n",
        "mylist = [10, 12, 14, 16, 18, 20]\n",
        "\n",
        "for i in range(len(mylist)):\n",
        "    if number == mylist[i]:\n",
        "        print (f'The value {number} is in the list')\n",
        "        # complete the code\n",
        "else:\n",
        "    print (f'The value {number} is not in the list')"
      ]
    },
    {
      "cell_type": "markdown",
      "metadata": {
        "id": "9SlkO0axdA1S"
      },
      "source": [
        "## Don't forget to <font color='red'> **\"commit\"** </font> your work or <font color='red'> **\"save\"** </font> in Google Colab\n",
        "## before moving to the next section."
      ]
    },
    {
      "cell_type": "markdown",
      "metadata": {
        "id": "bPgUXqv6dA1S"
      },
      "source": [
        "***\n",
        "## <p style=\"background-color: grey; color: white\">  ◼️ Input Validation </p>\n",
        "# <p style=\"font-family: Arial; font-size:1.4em;color:red;\"> 7. Input Validation </p>"
      ]
    },
    {
      "cell_type": "markdown",
      "metadata": {
        "id": "xFHBLuFOdA1S"
      },
      "source": [
        "#### Complete the following code segments and run it\n",
        "#### Figure out the code algorithms"
      ]
    },
    {
      "cell_type": "markdown",
      "metadata": {
        "id": "PFAdQx7hdA1S"
      },
      "source": [
        "#### Code that checks whether the input number is between 0 and 100"
      ]
    },
    {
      "cell_type": "code",
      "execution_count": null,
      "metadata": {
        "id": "6zHvWK69dA1S",
        "outputId": "8f70c8bd-daad-4dea-83c8-5f16d35eb96d"
      },
      "outputs": [
        {
          "name": "stdout",
          "output_type": "stream",
          "text": [
            "10\n"
          ]
        }
      ],
      "source": [
        "\n",
        "number = int(input('Enter your input'))\n",
        "\n",
        "while ( number < 0 or number > 100):\n",
        "\tnumber = int(input('The input should be between 0 and 100'))\n",
        "\n",
        "print (number)\n"
      ]
    },
    {
      "cell_type": "markdown",
      "metadata": {
        "id": "Dg_F1rPNdA1S"
      },
      "source": [
        "#### Print a character until 'q' is entered\n"
      ]
    },
    {
      "cell_type": "code",
      "execution_count": null,
      "metadata": {
        "id": "0XSJH1PedA1S",
        "outputId": "c239f7be-a55d-4fa7-c09a-ef2440ff1df0"
      },
      "outputs": [
        {
          "name": "stdout",
          "output_type": "stream",
          "text": [
            "a b d d e s "
          ]
        }
      ],
      "source": [
        "user_char =  input('Enter your character')\n",
        "\n",
        "while( user_char != 'q'):\n",
        "\tprint (user_char, end=' ')\n",
        "\tuser_char =  input('Enter your character')\n"
      ]
    },
    {
      "cell_type": "markdown",
      "metadata": {
        "id": "j47XzQfwdA1S"
      },
      "source": [
        "#### <p style=\"font-family: Arial; font-size:1.4em; background-color: yellow; color:black;\"> Problem #7.1  </p>\n",
        "#### Complete the code using \"try-except\" clause to decide whether the input causes an \"ValueError\" or not"
      ]
    },
    {
      "cell_type": "markdown",
      "metadata": {
        "id": "jKZeKBacdA1T"
      },
      "source": [
        "## Try-except statement\n",
        "> learn more about \"try-except\" throught the [link](https://docs.python.org/3/tutorial/errors.html) <br>\n",
        "> [another resource to learn try-except](https://python101.pythonlibrary.org/chapter7_exception_handling.html)\n",
        "#### Try to input the \"non integer value\" like a letter"
      ]
    },
    {
      "cell_type": "code",
      "execution_count": null,
      "metadata": {
        "id": "BPcutmF5dA1T",
        "outputId": "f36719ef-b64b-44df-953e-1bbcc78fef52"
      },
      "outputs": [
        {
          "name": "stdout",
          "output_type": "stream",
          "text": [
            "Invalid input: Value Error\n",
            "10\n"
          ]
        }
      ],
      "source": [
        "try:\n",
        "\tuser_num = int(input('Enter a number'))\n",
        "except ValueError:\n",
        "\tprint ('Invalid input: Value Error')\n",
        "\n",
        "print (user_num)"
      ]
    },
    {
      "cell_type": "markdown",
      "metadata": {
        "id": "qpVDSNHRdA1T"
      },
      "source": [
        "#### input a number until it is valid"
      ]
    },
    {
      "cell_type": "code",
      "execution_count": null,
      "metadata": {
        "id": "KjtdZBpDdA1T"
      },
      "outputs": [],
      "source": [
        "while True:\n",
        "\ttry:\n",
        "\t\tuser_num = int(input('Enter a number'))\n",
        "\texcept ValueError:\n",
        "\t\tprint ('Invalid input: Value Error')\n",
        "\t\tcontinue\n",
        "\telse:\n",
        "\t\tprint (user_num)\n",
        "\t\tbreak"
      ]
    },
    {
      "cell_type": "markdown",
      "metadata": {
        "id": "1bnoQgd4dA1T"
      },
      "source": [
        "## Don't forget to <font color='red'> **\"commit\"** </font> your work or <font color='red'> **\"save\"** </font> in Google Colab\n",
        "## before moving to the next section."
      ]
    },
    {
      "cell_type": "markdown",
      "metadata": {
        "id": "EwnS0D3qdA1T"
      },
      "source": [
        "***\n",
        "## <p style=\"background-color:grey; color:white\">  ◼️ Nested Loop  </p>\n",
        "# <p style=\"font-family: Arial; font-size:1.4em;color:red;\"> 8. Nested Loop </p>\n",
        "\n",
        "#### Check out the following example codes and figure out the results\n"
      ]
    },
    {
      "cell_type": "markdown",
      "metadata": {
        "id": "2JJUu4EzdA1T"
      },
      "source": [
        "#### All combinations of Set A (0, 1, 2) and Set B (0, 1, 2, 3, 4)\n",
        "```\n",
        "(0, 0) (0, 1) (0, 2) (0, 3) (0, 4)\n",
        "(1, 0) (1, 1) (1, 2) (1, 3) (1, 4)\n",
        "(2, 0) (2, 1) (2, 2) (2, 3) (2, 4)\n",
        "```"
      ]
    },
    {
      "cell_type": "code",
      "execution_count": null,
      "metadata": {
        "id": "OKUBHqfldA1T"
      },
      "outputs": [],
      "source": [
        "for i in range(3):\n",
        "    for j in range(5):\n",
        "        print (i, j)"
      ]
    },
    {
      "cell_type": "code",
      "execution_count": null,
      "metadata": {
        "id": "EMO1k4P0dA1T"
      },
      "outputs": [],
      "source": [
        "for i in range(3):\n",
        "\tfor j in range(5):\n",
        "\t\tprint (f'({i}, {j})', end=' ')\n",
        "\tprint ()"
      ]
    },
    {
      "cell_type": "markdown",
      "metadata": {
        "id": "6NdPscRCdA1T"
      },
      "source": [
        "#### <p style=\"font-family: Arial; font-size:1.4em; background-color: yellow; color:black;\"> Problem #8.1  </p>\n",
        "#### Complete the code in the nested for loop to print the result below\n",
        "```\n",
        "(0, 0) (0, 1) (0, 2)\n",
        "(1, 0) (1, 1) (1, 2)\n",
        "(2, 0) (2, 1) (2, 2)\n",
        "(3, 0) (3, 1) (3, 2)\n",
        "(4, 0) (4, 1) (4, 2)\n",
        "```\n"
      ]
    },
    {
      "cell_type": "code",
      "execution_count": null,
      "metadata": {
        "id": "EIgA9mdzdA1T"
      },
      "outputs": [],
      "source": [
        "for i in range(# Complete the code):\n",
        "    for j in range(# Complete the code):\n",
        "        print (f'({i}, {j})', end=' ')\n",
        "    print()"
      ]
    },
    {
      "cell_type": "markdown",
      "metadata": {
        "id": "SsqCuY8sdA1T"
      },
      "source": [
        "#### <p style=\"font-family: Arial; font-size:1.4em; background-color: yellow; color:black;\"> Problem #8.2  </p>\n",
        "#### Complete the code in the nested for loop to print the result below\n",
        "```\n",
        "(0, 0) (0, 1) (0, 2) (0, 3)\n",
        "(1, 0) (1, 1) (1, 2) (1, 3)\n",
        "(2, 0) (2, 1) (2, 2) (2, 3)\n",
        "```\n"
      ]
    },
    {
      "cell_type": "code",
      "execution_count": null,
      "metadata": {
        "id": "7Kzi6TNAdA1T"
      },
      "outputs": [],
      "source": [
        "for i in range(# Complete the code):\n",
        "    for j in range(# Complete the code):\n",
        "        print (f'({i}, {j})', end=' ')\n",
        "    print()"
      ]
    },
    {
      "cell_type": "markdown",
      "metadata": {
        "id": "2UwqD3iidA1T"
      },
      "source": [
        "#### <p style=\"font-family: Arial; font-size:1.4em; background-color: yellow; color:black;\"> Problem #8.3  </p>\n",
        "#### Expect the output result before executing the code cell  \n",
        "```\n",
        "Explain the result. why?\n",
        "```\n"
      ]
    },
    {
      "cell_type": "code",
      "execution_count": null,
      "metadata": {
        "id": "V1jOlIKOdA1T",
        "outputId": "0652b7f3-28c8-41bb-eb36-4fcbfc90e18e"
      },
      "outputs": [
        {
          "name": "stdout",
          "output_type": "stream",
          "text": [
            "(9,0) (9,1) (9,2) \n",
            "(8,0) (8,1) (8,2) \n",
            "(7,0) (7,1) (7,2) \n"
          ]
        }
      ],
      "source": [
        "for i in range(9,6,-1):\n",
        "\tfor j in range(3):\n",
        "\t\tprint (f'({i},{j})', end=' ')\n",
        "\tprint ()"
      ]
    },
    {
      "cell_type": "markdown",
      "metadata": {
        "id": "rY88z4XadA1T"
      },
      "source": [
        "#### Your answer:\n",
        "#### What is the output? Why?\n",
        "***"
      ]
    },
    {
      "cell_type": "code",
      "execution_count": null,
      "metadata": {
        "id": "GvVFFhYcdA1T"
      },
      "outputs": [],
      "source": [
        "for i in range(5):\n",
        "\tfor j in range(i, 5):\n",
        "\t\tprint (f'({i},{j})', end=' ')\n",
        "\tprint()"
      ]
    },
    {
      "cell_type": "markdown",
      "metadata": {
        "id": "djTkm_UUdA1T"
      },
      "source": [
        "#### Your answer:\n",
        "#### What is the output? Why?\n",
        "***"
      ]
    },
    {
      "cell_type": "code",
      "execution_count": null,
      "metadata": {
        "id": "xyKpTpLKdA1T"
      },
      "outputs": [],
      "source": [
        "for i in range(3):\n",
        "\tfor j in range(i,3):\n",
        "\t\tprint (f'({i},{j})', end=' ')\n",
        "\tprint ( )"
      ]
    },
    {
      "cell_type": "markdown",
      "metadata": {
        "id": "wwmdEtmWdA1T"
      },
      "source": [
        "#### Your answer:\n",
        "#### What is the output? Why?\n",
        "***"
      ]
    },
    {
      "cell_type": "code",
      "execution_count": null,
      "metadata": {
        "id": "50QtgcXidA1U"
      },
      "outputs": [],
      "source": [
        "for i in range(5):\n",
        "\tfor j in range(0, i):\n",
        "\t\tprint (f'({i},{j})', end=' ')\n",
        "\tprint ( )"
      ]
    }
  ],
  "metadata": {
    "interpreter": {
      "hash": "a614fddea9d37e019a720cc724ab725ff28be4e0e64e91a691a8738e1909110d"
    },
    "kernelspec": {
      "display_name": "Python 3.9.7 64-bit ('base': conda)",
      "language": "python",
      "name": "python3"
    },
    "language_info": {
      "codemirror_mode": {
        "name": "ipython",
        "version": 3
      },
      "file_extension": ".py",
      "mimetype": "text/x-python",
      "name": "python",
      "nbconvert_exporter": "python",
      "pygments_lexer": "ipython3",
      "version": "3.9.17"
    },
    "orig_nbformat": 4,
    "colab": {
      "provenance": [],
      "include_colab_link": true
    }
  },
  "nbformat": 4,
  "nbformat_minor": 0
}